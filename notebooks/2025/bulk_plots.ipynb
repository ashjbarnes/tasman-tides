{
 "cells": [
  {
   "cell_type": "code",
   "execution_count": 1,
   "metadata": {},
   "outputs": [],
   "source": [
    "import sys\n",
    "sys.path.append(\"/home/149/ab8992/tasman-tides/\")\n",
    "import xarray as xr\n",
    "import ttidelib as tt\n",
    "import scipy\n",
    "import cmocean\n",
    "import os\n",
    "from pathlib import Path\n",
    "cmap = cmocean.cm.dense_r\n",
    "import matplotlib\n",
    "import matplotlib.pyplot as plt\n",
    "earth_cmap = matplotlib.colormaps[\"gist_earth\"]\n",
    "from datetime import timedelta\n",
    "\n",
    "# import filtering\n",
    "import numpy as np\n",
    "import dask\n",
    "dask.config.set({'logging.distributed': 'error'})\n",
    "from dask.distributed import Client,default_client\n",
    "import xrft\n",
    "\n",
    "expts = [\"full-10\",\"beamless-10\",\"smooth-10\",\"beamless-20\",\"smooth-20\",\"full-20\",\"full-40\",\"beamless-40\",\"smooth-40\"]\n",
    "# client = tt.startdask()\n",
    "# client"
   ]
  },
  {
   "cell_type": "markdown",
   "metadata": {},
   "source": [
    "# Load in the stuff we saved earlier!\n"
   ]
  },
  {
   "cell_type": "code",
   "execution_count": 2,
   "metadata": {},
   "outputs": [],
   "source": [
    "expt = \"full-20\"\n",
    "\n",
    "\n",
    "data = {}\n",
    "for expt in [\"full-10\",\"beamless-10\",\"smooth-10\",\"beamless-20\",\"smooth-20\",\"full-20\",\"full-40\",\"beamless-40\",\"smooth-40\"]:\n",
    "    path = Path(f\"/scratch/nm03/ab8992/test/outputs\") / expt\n",
    "    bathy = xr.open_dataset(f\"/g/data/nm03/ab8992/outputs/{expt}/bathy_transect.nc\").sel(yb = slice(-120,120))\n",
    "    data[expt] = xr.merge(\n",
    "    [\n",
    "        xr.open_dataset(path / \"dissipation_modal.nc\"),\n",
    "        xr.open_dataset(path / \"raw_dissipation.nc\"),\n",
    "        xr.open_dataset(path / \"filtered_dissipation.nc\"),\n",
    "        xr.open_dataset(path / \"filtered_ke_total.nc\"),\n",
    "        xr.open_dataset(path / \"filtered_ke_bt.nc\"),\n",
    "        xr.open_dataset(path / \"raw_ke_bt.nc\"),\n",
    "        xr.open_dataset(path / \"raw_ke_total.nc\"),\n",
    "        xr.open_dataset(path / \"ke_modal.nc\"),\n",
    "        xr.open_dataset(path / \"EF_forward.nc\"),\n",
    "        xr.open_dataset(path / \"EF_backward.nc\"),\n",
    "        xr.open_dataset(path / \"raw_vorticity.nc\"),\n",
    "        bathy.rename({\"depth\":\"bathy\"}) * -1\n",
    "     ]\n",
    ").sel(xb = slice(0,1200))\n",
    "\n"
   ]
  },
  {
   "cell_type": "markdown",
   "metadata": {},
   "source": [
    "## Plot KE composition"
   ]
  },
  {
   "cell_type": "code",
   "execution_count": 5,
   "metadata": {},
   "outputs": [],
   "source": [
    "def plot_KE_decomposition(data,expts):\n",
    "    fig,ax = plt.subplots(3,1,figsize=(20,10))\n",
    "    \n",
    "    data[expt].filtered_ke_total.plot\n",
    "    ax.legend()\n",
    "    ax.set_title(expt)\n",
    "    plt.show()\n",
    "\n",
    "plot_KE_decomposition(data,\"full-10\")"
   ]
  },
  {
   "cell_type": "code",
   "execution_count": 7,
   "metadata": {},
   "outputs": [],
   "source": [
    "data[\"full-10\"]"
   ]
  },
  {
   "cell_type": "markdown",
   "metadata": {},
   "source": [
    "# Plot raw data for every experiment\n"
   ]
  },
  {
   "cell_type": "code",
   "execution_count": 37,
   "metadata": {},
   "outputs": [],
   "source": [
    "expt = \"full-10\"\n",
    "for expt in expts:\n",
    "    fig,ax = plt.subplots(4,1,figsize=(20,20))\n",
    "    data[expt].KE_modal.isel(mode = 0).plot(ax = ax[0])\n",
    "    data[expt].KE_modal.isel(mode = 1).plot(ax = ax[1])\n",
    "    # data[expt].filtered_KE_total.plot(ax = ax[1])\n",
    "    (data[expt].raw_KE_total - data[expt].raw_KE_bt).plot(ax = ax[3],cmap = \"viridis\",vmin = 0)\n",
    "    (data[expt].filtered_KE_total - data[expt].filtered_KE_bt).plot(ax = ax[2],cmap = \"viridis\",vmin = 0)\n",
    "    # data[expt].raw_KE_bt.plot(ax = ax[3])\n",
    "    # fig.suptitle(expt + \"KE\")\n",
    "    [tt.plot_topo(ax[i],data[expt].bathy) for i in range(4)]\n",
    "    [ax[i].set_xlabel(\"\") for i in range(3)]\n",
    "    ax[0].set_title(expt + \" Mode 1\")\n",
    "    ax[1].set_title(expt + \" Mode 2\")\n",
    "    ax[3].set_title(expt + \" Unfiltered Baroclinic\")\n",
    "    ax[2].set_title(expt + \"Baroclinic M2 (all modes)\")\n",
    "    [ax[i].collections[0].colorbar.set_label(r\"Kinetic Energy  $KJm^{-2}$\") for i in range(4)]\n",
    "    path = Path(f\"/g/data/v45/ab8992/dropbox/tasman-tides/{expt}/\")\n",
    "    if not path.exists():\n",
    "        path.mkdir()\n",
    "    fig.savefig(path / \"KE_decomposition.png\")"
   ]
  },
  {
   "cell_type": "markdown",
   "metadata": {},
   "source": [
    "## Dissipation"
   ]
  },
  {
   "cell_type": "code",
   "execution_count": 92,
   "metadata": {},
   "outputs": [],
   "source": [
    "expt = \"full-10\"\n",
    "for expt in expts:\n",
    "    # expt = \"smooth-40\"\n",
    "    fig,ax = plt.subplots(4,1,figsize=(20,20))\n",
    "    np.log(1000 * data[expt].dissipation_modal).isel(mode = 0).plot(ax = ax[0],cmap = \"cubehelix\")\n",
    "    np.log(1000 * data[expt].dissipation_modal).isel(mode = 1).plot(ax = ax[1],cmap = \"cubehelix\")\n",
    "    # data[expt].vorticity.plot(ax = ax[2])\n",
    "    # data[expt].filtered_KE_total.plot(ax = ax[1])\n",
    "    np.log(1000 * data[expt].raw_dissipation).plot(ax = ax[3],cmap = \"cubehelix\")\n",
    "    np.log(1000 * data[expt].filtered_dissipation).plot(ax = ax[2],cmap = \"cubehelix\")\n",
    "    # data[expt].raw_KE_bt.plot(ax = ax[3])\n",
    "    # fig.suptitle(expt + \"KE\")\n",
    "    [tt.plot_topo(ax[i],data[expt].bathy) for i in range(4)]\n",
    "    [ax[i].set_xlabel(\"\") for i in range(3)]\n",
    "    ax[0].set_title(expt + \" Mode 1\")\n",
    "    ax[1].set_title(expt + \" Mode 2\")\n",
    "    ax[3].set_title(expt + \" Raw dissipation\")\n",
    "    ax[2].set_title(expt + \" M2 filtered dissipation (all modes)\")\n",
    "    [ax[i].collections[0].colorbar.set_label(r\"Dissipation  $W m^{-2}$\") for i in range(4)]\n",
    "    path = Path(f\"/g/data/v45/ab8992/dropbox/tasman-tides/{expt}/\")\n",
    "    if not path.exists():\n",
    "        path.mkdir()\n",
    "    fig.savefig(path / \"dissipation_decomposition.png\")\n"
   ]
  },
  {
   "cell_type": "markdown",
   "metadata": {},
   "source": [
    "## EF per mode\n"
   ]
  },
  {
   "cell_type": "code",
   "execution_count": 14,
   "metadata": {},
   "outputs": [],
   "source": [
    "expt = \"full-10\"\n",
    "for expt in expts:\n",
    "    # expt = \"smooth-40\"\n",
    "    fig,ax = plt.subplots(2,1,figsize=(20,10))\n",
    "    (data[expt].bathy).plot(ax = ax[0],cmap = \"cubehelix\",vmax = 0)\n",
    "    (data[expt].vorticity).plot(ax = ax[1],cmap = \"RdBu_r\")\n",
    "\n",
    "\n",
    "    [tt.plot_topo(ax[i],data[expt].bathy) for i in range(2)]\n",
    "    [ax[i].set_xlabel(\"\") for i in range(1)]\n",
    "    ax[0].set_title(expt + \" Forward energy flux Mode 1\")\n",
    "    ax[1].set_title(expt + \" Forward energy flux Mode 2\")\n",
    "\n",
    "    ax[0].collections[0].colorbar.set_label(\"Depth (m)\")\n",
    "    ax[1].collections[0].colorbar.set_label(\"Vorticity (s$^{-1}$)\")\n",
    "    path = Path(f\"/g/data/v45/ab8992/dropbox/tasman-tides/{expt}/\")\n",
    "    if not path.exists():\n",
    "        path.mkdir()\n",
    "    fig.savefig(path / \"depth_vorticity.png\")\n",
    "    # break\n"
   ]
  },
  {
   "cell_type": "code",
   "execution_count": 9,
   "metadata": {},
   "outputs": [],
   "source": [
    "expt = \"full-10\"\n",
    "for expt in expts:\n",
    "    # expt = \"smooth-40\"\n",
    "    fig,ax = plt.subplots(4,1,figsize=(20,20))\n",
    "    (data[expt].EF_backward).isel(mode = 0).plot(ax = ax[0],cmap = \"RdBu_r\")\n",
    "    (data[expt].EF_backward).isel(mode = 1).plot(ax = ax[1],cmap = \"RdBu_r\")\n",
    "    (data[expt].EF_backward).isel(mode = 2).plot(ax = ax[2],cmap = \"RdBu_r\")\n",
    "    (data[expt].EF_backward).isel(mode = slice(3,None)).sum(\"mode\").plot(ax = ax[3],cmap = \"RdBu_r\")\n",
    "    # data[expt].vorticity.plot(ax = ax[3])\n",
    "\n",
    "    [tt.plot_topo(ax[i],data[expt].bathy) for i in range(4)]\n",
    "    [ax[i].set_xlabel(\"\") for i in range(3)]\n",
    "    ax[0].set_title(expt + \" Backward energy flux Mode 1\")\n",
    "    ax[1].set_title(expt + \" Backward energy flux Mode 2\")\n",
    "    ax[2].set_title(expt + \" Backward energy flux Mode 3\")\n",
    "    ax[3].set_title(expt + \" Backward energy flux Rest of modes combined\")\n",
    "    [ax[i].collections[0].colorbar.set_label(r\"Energy flux backward $Wm^{-1}\") for i in range(4)]\n",
    "    path = Path(f\"/g/data/v45/ab8992/dropbox/tasman-tides/{expt}/\")\n",
    "    if not path.exists():\n",
    "        path.mkdir()\n",
    "    fig.savefig(path / \"EF_backward.png\")\n",
    "    # break"
   ]
  },
  {
   "cell_type": "markdown",
   "metadata": {},
   "source": [
    "## Vorticity and raw bathy"
   ]
  },
  {
   "cell_type": "code",
   "execution_count": 36,
   "metadata": {},
   "outputs": [],
   "source": [
    "expt = \"full-10\"\n",
    "for expt in expts:\n",
    "    # expt = \"smooth-40\"\n",
    "    fig,ax = plt.subplots(4,1,figsize=(20,20))\n",
    "    (data[expt].EF_backward).isel(mode = 0).plot(ax = ax[0],cmap = \"RdBu_r\")\n",
    "    (data[expt].EF_backward).isel(mode = 1).plot(ax = ax[1],cmap = \"RdBu_r\")\n",
    "    (data[expt].EF_backward).isel(mode = 2).plot(ax = ax[2],cmap = \"RdBu_r\")\n",
    "    (data[expt].EF_backward).isel(mode = slice(3,None)).sum(\"mode\").plot(ax = ax[3],cmap = \"RdBu_r\")\n",
    "    # data[expt].vorticity.plot(ax = ax[3])\n",
    "\n",
    "    [tt.plot_topo(ax[i],data[expt].bathy) for i in range(4)]\n",
    "    [ax[i].set_xlabel(\"\") for i in range(3)]\n",
    "    ax[0].set_title(expt + \" Backward energy flux Mode 1\")\n",
    "    ax[1].set_title(expt + \" Backward energy flux Mode 2\")\n",
    "    ax[2].set_title(expt + \" Backward energy flux Mode 3\")\n",
    "    ax[3].set_title(expt + \" Backward energy flux Rest of modes combined\")\n",
    "    [ax[i].collections[0].colorbar.set_label(r\"Energy flux backward $Wm^{-1}\") for i in range(4)]\n",
    "    path = Path(f\"/g/data/v45/ab8992/dropbox/tasman-tides/{expt}/\")\n",
    "    if not path.exists():\n",
    "        path.mkdir()\n",
    "    # fig.savefig(path / \"EF_backward.png\")\n",
    "    # break"
   ]
  },
  {
   "cell_type": "markdown",
   "metadata": {},
   "source": [
    "## Decompose into bar plots"
   ]
  },
  {
   "cell_type": "code",
   "execution_count": 27,
   "metadata": {},
   "outputs": [],
   "source": [
    "expt = \"full-40\"\n",
    "\n",
    "for expt in expts:\n",
    "    total_energy = data[expt].raw_KE_total\n",
    "    shelf_region = slice(0,200)\n",
    "    beam_region = slice(400,600)\n",
    "    generation_region = slice(1000,1200)\n",
    "\n",
    "    # Sample data\n",
    "    categories = ['Shelf', 'Beam', 'Generation']\n",
    "    total_energy = np.array([data[expt].raw_KE_total.sel(xb = region).mean(\"xb\").mean(\"yb\").values for region in [shelf_region,beam_region,generation_region]])\n",
    "    mode1 = np.array([data[expt].KE_modal.isel(mode = 0).sel(xb = region).mean(\"xb\").mean(\"yb\").values for region in [shelf_region,beam_region,generation_region]])\n",
    "    mode2 = np.array([data[expt].KE_modal.isel(mode = 1).sel(xb = region).mean(\"xb\").mean(\"yb\").values for region in [shelf_region,beam_region,generation_region]])\n",
    "    remaining_modes = np.array([data[expt].KE_modal.isel(mode = slice(2,None)).sel(xb = region).sum(\"mode\").mean(\"xb\").mean(\"yb\").values for region in [shelf_region,beam_region,generation_region]])\n",
    "    barotropic = np.array([data[expt].filtered_KE_bt.sel(xb = region).mean(\"xb\").mean(\"yb\").values for region in [shelf_region,beam_region,generation_region]])\n",
    "\n",
    "\n",
    "\n",
    "    fig, ax = plt.subplots()\n",
    "\n",
    "    bars1 = ax.bar(categories, 100 * mode1 / total_energy, label='M2 Mode 1')\n",
    "    bars2 = ax.bar(categories, 100 * mode2 / total_energy, bottom=mode1, label='M2 Mode 2')\n",
    "    bars3 = ax.bar(categories, 100 * remaining_modes / total_energy, bottom=mode1 + mode2, label='Remaining Modes')\n",
    "    bars4 = ax.bar(categories, 100 * barotropic / total_energy, bottom=mode1 + mode2 + remaining_modes, label='Barotropic M2')\n",
    "\n",
    "    # bars2 = ax.bar(categories, values2, bottom=values1, label='Group 2')\n",
    "\n",
    "    # ax.set_xlabel('Categories')\n",
    "    ax.set_ylabel('Percentage of Total Energy')\n",
    "    ax.set_title(f'{expt} Kinetic Energy decomposition')\n",
    "    ax.legend()\n",
    "    \n",
    "    path = Path(f\"/g/data/v45/ab8992/dropbox/tasman-tides/{expt}/\")\n",
    "    if not path.exists():\n",
    "        path.mkdir()\n",
    "    fig.savefig(path / \"barplot_KE_decomposition.png\")\n",
    "\n",
    "# plt.show()"
   ]
  },
  {
   "cell_type": "code",
   "execution_count": 46,
   "metadata": {},
   "outputs": [],
   "source": [
    "expt = \"full-40\"\n",
    "\n",
    "for expt in expts:\n",
    "    total_energy = data[expt].raw_dissipation\n",
    "    shelf_region = slice(0,200)\n",
    "    beam_region = slice(400,600)\n",
    "    generation_region = slice(1000,1200)\n",
    "\n",
    "    # Sample data\n",
    "    categories = ['Shelf', 'Beam', 'Generation']\n",
    "    total_energy = 1000 * np.array([data[expt].raw_dissipation.sel(xb = region).mean(\"xb\").mean(\"yb\").values for region in [shelf_region,beam_region,generation_region]])\n",
    "    mode1 = 1000 * np.array([data[expt].dissipation_modal.isel(mode = 0).sel(xb = region).mean(\"xb\").mean(\"yb\").values for region in [shelf_region,beam_region,generation_region]])\n",
    "    mode2 = 1000 * np.array([data[expt].dissipation_modal.isel(mode = 1).sel(xb = region).mean(\"xb\").mean(\"yb\").values for region in [shelf_region,beam_region,generation_region]])\n",
    "    mode3 = 1000 * np.array([data[expt].dissipation_modal.isel(mode = 2).sel(xb = region).mean(\"xb\").mean(\"yb\").values for region in [shelf_region,beam_region,generation_region]])\n",
    "    mode4 = 1000 * np.array([data[expt].dissipation_modal.isel(mode = 3).sel(xb = region).mean(\"xb\").mean(\"yb\").values for region in [shelf_region,beam_region,generation_region]])\n",
    "    remaining_modes = 1000 * np.array([\n",
    "        (\n",
    "            data[expt].filtered_dissipation - data[expt].dissipation_modal.isel(mode = slice(0,4)).sum(\"mode\")\n",
    "            ).sel(xb = region).mean(\"xb\").mean(\"yb\").values for region in [shelf_region,beam_region,generation_region]\n",
    "        ])\n",
    "    \n",
    "    non_m2 = 1000 * np.array([\n",
    "        (\n",
    "            data[expt].raw_dissipation - data[expt].filtered_dissipation\n",
    "            ).sel(xb = region).mean(\"xb\").mean(\"yb\").values for region in [shelf_region,beam_region,generation_region]\n",
    "        ])\n",
    "\n",
    "    # barotropic = np.array([data[expt].filtered_KE_bt.sel(xb = region).mean(\"xb\").mean(\"yb\").values for region in [shelf_region,beam_region,generation_region]])\n",
    "\n",
    "\n",
    "\n",
    "    fig, ax = plt.subplots()\n",
    "\n",
    "    bars1 = ax.bar(categories, mode1, label='M2 Mode 1')\n",
    "    bars2 = ax.bar(categories, mode2, bottom=mode1, label='M2 Mode 2')\n",
    "    bars3 = ax.bar(categories, mode3, bottom=mode1 + mode2, label='M2 Mode 3')\n",
    "    bars4 = ax.bar(categories, mode4, bottom=mode1 + mode2 + mode3, label='M2 Mode 4')\n",
    "    bars5 = ax.bar(categories, remaining_modes, bottom=mode1 + mode2 + mode3 + mode4, label='Remaining Modes')\n",
    "    bars6 = ax.bar(categories, non_m2, bottom=mode1 + mode2 + mode3 + mode4 + remaining_modes, label='Non M2')\n",
    "    # bars4 = ax.bar(categories, 100 * barotropic / total_energy, bottom=mode1 + mode2 + remaining_modes, label='Barotropic M2')\n",
    "\n",
    "    # bars2 = ax.bar(categories, values2, bottom=values1, label='Group 2')\n",
    "\n",
    "    # ax.set_xlabel('Categories')\n",
    "    ax.set_ylabel('Dissipation w/m^2')\n",
    "    ax.set_title(f'{expt} Dissipation decomposition')\n",
    "    ax.legend()\n",
    "    \n",
    "    path = Path(f\"/g/data/v45/ab8992/dropbox/tasman-tides/{expt}/\")\n",
    "    if not path.exists():\n",
    "        path.mkdir()\n",
    "    fig.savefig(path / \"barplot_dissipation_decomposition.png\")\n",
    "    # break\n",
    "# plt.show()"
   ]
  },
  {
   "cell_type": "markdown",
   "metadata": {},
   "source": [
    "## Dissipation right on the slope!"
   ]
  },
  {
   "cell_type": "code",
   "execution_count": 7,
   "metadata": {},
   "outputs": [
    {
     "data": {
      "text/plain": [
       "<matplotlib.legend.Legend at 0x1493bc817c10>"
      ]
     },
     "execution_count": 7,
     "metadata": {},
     "output_type": "execute_result"
    },
    {
     "data": {
      "image/png": "[encoded data removed]",
      "text/plain": [
       "<Figure size 1000x1000 with 1 Axes>"
      ]
     },
     "metadata": {},
     "output_type": "display_data"
    }
   ],
   "source": [
    "def ShelfMask(data):\n",
    "    return data.where(\n",
    "        (data.bathy > -1000) & (data.xb < 200) & (data.bathy < 0),np.nan\n",
    "    )\n",
    "\n",
    "\n",
    "# def ShelfMask(data):\n",
    "#     return data.sel(xb = slice(600,800))\n",
    "\n",
    "# ShelfMask(data[\"full-40\"]).filtered_dissipation.plot()\n",
    "expts = [\"beamless-10\",\"full-10\",\"smooth-10\",\"beamless-20\",\"full-20\",\"smooth-20\",\"beamless-40\",\"full-40\",\"smooth-40\"]\n",
    "\n",
    "total_energy = 1000 * np.array([ShelfMask(data[expt]).raw_dissipation.mean(\"xb\").mean(\"yb\").values for expt in expts])\n",
    "mode1 = 1000 * np.array([ShelfMask(data[expt]).dissipation_modal.isel(mode = 0).mean(\"xb\").mean(\"yb\").values for expt in expts])\n",
    "mode2 = 1000 * np.array([ShelfMask(data[expt]).dissipation_modal.isel(mode = 1).mean(\"xb\").mean(\"yb\").values for expt in expts])\n",
    "mode3 = 1000 * np.array([ShelfMask(data[expt]).dissipation_modal.isel(mode = 2).mean(\"xb\").mean(\"yb\").values for expt in expts])\n",
    "mode4 = 1000 * np.array([ShelfMask(data[expt]).dissipation_modal.isel(mode = 3).mean(\"xb\").mean(\"yb\").values for expt in expts])\n",
    "mode5 = 1000 * np.array([ShelfMask(data[expt]).dissipation_modal.isel(mode = 4).mean(\"xb\").mean(\"yb\").values for expt in expts])\n",
    "mode6 = 1000 * np.array([ShelfMask(data[expt]).dissipation_modal.isel(mode = 5).mean(\"xb\").mean(\"yb\").values for expt in expts])\n",
    "mode7 = 1000 * np.array([ShelfMask(data[expt]).dissipation_modal.isel(mode = 6).mean(\"xb\").mean(\"yb\").values for expt in expts])\n",
    "mode8 = 1000 * np.array([ShelfMask(data[expt]).dissipation_modal.isel(mode = 7).mean(\"xb\").mean(\"yb\").values for expt in expts])\n",
    "barot = 1000 * np.array([\n",
    "    (\n",
    "        ShelfMask(data[expt]).filtered_dissipation.mean(\"xb\").mean(\"yb\").values - ShelfMask(data[expt].sum(\"mode\")).dissipation_modal.mean(\"xb\").mean(\"yb\").values\n",
    "        ) for expt in expts\n",
    "    ])\n",
    "\n",
    "notm2 = 1000 * np.array([\n",
    "    (\n",
    "        ShelfMask(data[expt]).raw_dissipation - ShelfMask(data[expt]).filtered_dissipation\n",
    "        ).mean(\"xb\").mean(\"yb\").values for expt in expts\n",
    "    ])\n",
    "\n",
    "fig, ax = plt.subplots(figsize = (10,10))\n",
    "\n",
    "bars1 = ax.bar(expts, mode1, label='M2 Mode 1')\n",
    "bars2 = ax.bar(expts, mode2, bottom=mode1, label='M2 Mode 2')\n",
    "bars3 = ax.bar(expts, mode3, bottom=mode1 + mode2, label='M2 Mode 3')\n",
    "bars4 = ax.bar(expts, mode4, bottom=mode1 + mode2 + mode3, label='M2 Mode 4')\n",
    "bars5 = ax.bar(expts, mode5, bottom=mode1 + mode2 + mode3 + mode4, label='M2 Mode 5')\n",
    "bars6 = ax.bar(expts, mode6, bottom=mode1 + mode2 + mode3 + mode4 + mode5, label='M2 Mode 6')\n",
    "bars7 = ax.bar(expts, mode7, bottom=mode1 + mode2 + mode3 + mode4 + mode5 + mode6, label='M2 Mode 7')\n",
    "bars8 = ax.bar(expts, mode8, bottom=mode1 + mode2 + mode3 + mode4 + mode5 + mode6 + mode7, label='M2 Mode 8')\n",
    "bars9 = ax.bar(expts, barot, bottom=mode1 + mode2 + mode3 + mode4 + mode5 + mode6 + mode7 + mode8, label='Barotropic M2')\n",
    "# bars10 = ax.bar(expts,notm2, bottom=mode1 + mode2 + mode3 + mode4 + mode5 + mode6 + mode7 + mode8 + barot, label='Non M2')\n",
    "# bars6 = ax.bar(expts, non_m2, bottom=mode1 + mode2 + mode3 + mode4 + remaining_modes, label='Non M2')\n",
    "ax.legend()\n",
    "\n"
   ]
  },
  {
   "cell_type": "code",
   "execution_count": 134,
   "metadata": {},
   "outputs": [],
   "source": [
    "barot"
   ]
  },
  {
   "cell_type": "code",
   "execution_count": 70,
   "metadata": {},
   "outputs": [],
   "source": [
    "def ShelfMask(data):\n",
    "    return data.where(\n",
    "        (data.bathy > -1000) & (data.xb < 200) & (data.bathy < 0),np.nan\n",
    "    )\n",
    "\n",
    "# ShelfMask(data[\"full-40\"]).filtered_dissipation.plot()\n",
    "expts = [\"beamless-10\",\"full-10\",\"smooth-10\",\"beamless-20\",\"full-20\",\"smooth-20\",\"beamless-40\",\"full-40\",\"smooth-40\"]\n",
    "\n",
    "total_energy = 1000 * np.array([ShelfMask(data[expt]).raw_dissipation.mean(\"xb\").mean(\"yb\").values for expt in expts])\n",
    "filtered_energy = 1000 * np.array([ShelfMask(data[expt]).filtered_dissipation.mean(\"xb\").mean(\"yb\").values for expt in expts])\n",
    "\n",
    "\n",
    "fig, ax = plt.subplots(figsize = (10,10))\n",
    "\n",
    "bars1 = ax.bar(expts, filtered_energy, label='Total Energy')\n",
    "bars2 = ax.bar(expts, total_energy - filtered_energy, bottom=filtered_energy, label='Filtered Energy')\n",
    "# bars6 = ax.bar(expts, non_m2, bottom=mode1 + mode2 + mode3 + mode4 + remaining_modes, label='Non M2')\n",
    "ax.legend()\n",
    "\n"
   ]
  },
  {
   "cell_type": "code",
   "execution_count": 111,
   "metadata": {},
   "outputs": [],
   "source": [
    "print(ShelfMask(data[\"beamless-40\"]).sel(xb = slice(0,250)).filtered_dissipation.mean(\"xb\").mean(\"yb\").values)\n",
    "print(ShelfMask(data[\"full-40\"]).sel(xb = slice(0,250)).filtered_dissipation.mean(\"xb\").mean(\"yb\").values)"
   ]
  },
  {
   "cell_type": "code",
   "execution_count": 132,
   "metadata": {},
   "outputs": [],
   "source": [
    "def ShelfMask(data):\n",
    "    return data.where(\n",
    "        (data.bathy > -1000) & (data.xb < 200) & (data.bathy < 0),np.nan\n",
    "    )\n",
    "\n",
    "for i in [\"beamless-40\",\"full-40\",\"smooth-40\",\"beamless-20\",\"smooth-20\"]:\n",
    "    print(i)\n",
    "    sum_modes = ShelfMask(data[i].sum(\"mode\")).sel(xb = slice(0,250)).dissipation_modal\n",
    "    filtered_diss = ShelfMask(data[i]).sel(xb = slice(0,250)).filtered_dissipation\n",
    "    print(np.round(1000 * (sum_modes.mean(\"xb\").mean(\"yb\").values - filtered_diss.mean(\"xb\").mean(\"yb\").values), 5))\n",
    "    # print(np.round(filtered_diss.mean(\"xb\").mean(\"yb\").values, 5))\n",
    "    sum_modes.mean(\"xb\").plot()\n",
    "    filtered_diss.mean(\"xb\").plot()\n",
    "    plt.title(i)\n",
    "    plt.figure()\n",
    "    print()\n",
    "    # print(filtered_diss.mean(\"xb\").mean(\"yb\").values)"
   ]
  },
  {
   "cell_type": "code",
   "execution_count": 109,
   "metadata": {},
   "outputs": [],
   "source": [
    "\n",
    "ShelfMask(data[\"beamless-40\"]).sel(xb = slice(0,250)).dissipation_modal.isel(mode = 6).mean(\"xb\").plot()\n",
    "# plt.figure()\n",
    "ShelfMask(data[\"full-40\"]).sel(xb = slice(0,250)).dissipation_modal.isel(mode = 6).mean(\"xb\").plot()"
   ]
  },
  {
   "cell_type": "code",
   "execution_count": 69,
   "metadata": {},
   "outputs": [],
   "source": [
    "(\n",
    "        ShelfMask(data[\"beamless-40\"]).filtered_dissipation - ShelfMask(data[\"beamless-40\"].sum(\"mode\")).dissipation_modal\n",
    "        ).sel(xb = slice(0,200),yb = slice(-50,50)).plot()\n",
    "plt.figure()\n",
    "(\n",
    "        ShelfMask(data[\"beamless-20\"]).filtered_dissipation - ShelfMask(data[\"beamless-20\"].sum(\"mode\")).dissipation_modal\n",
    "        ).sel(xb = slice(0,200),yb = slice(-50,50)).plot()"
   ]
  },
  {
   "cell_type": "code",
   "execution_count": null,
   "metadata": {},
   "outputs": [],
   "source": [
    "ShelfMask(data[expt]).raw_dissipation - ShelfMask(data[expt]).filtered_dissipation\n",
    "        ).mean(\"xb\").mean(\"yb\")"
   ]
  },
  {
   "cell_type": "code",
   "execution_count": 62,
   "metadata": {},
   "outputs": [],
   "source": [
    "mode1 = ShelfMask(data[\"beamless-40\"]).dissipation_modal.isel(mode = 0).sel(xb = slice(50,250))\n",
    "\n",
    "mode2 = ShelfMask(data[\"beamless-40\"]).dissipation_modal.isel(mode = 0).sel(xb = slice(50,250))\n",
    "all = ShelfMask(data[\"beamless-40\"].sum(\"mode\")).dissipation_modal.sel(xb = slice(50,250))\n",
    "(all).plot()\n",
    "# (mode1).plot()"
   ]
  },
  {
   "cell_type": "code",
   "execution_count": null,
   "metadata": {},
   "outputs": [],
   "source": []
  },
  {
   "cell_type": "code",
   "execution_count": 81,
   "metadata": {},
   "outputs": [],
   "source": [
    "print(ShelfMask(\n",
    "    data[\"full-40\"]\n",
    "    ).filtered_dissipation.mean(\"xb\").mean(\"yb\").values)\n",
    "print(ShelfMask(\n",
    "    data[\"beamless-40\"]\n",
    "    ).filtered_dissipation.mean(\"xb\").mean(\"yb\").values)\n",
    "print(ShelfMask(\n",
    "    data[\"smooth-40\"]\n",
    "    ).filtered_dissipation.mean(\"xb\").mean(\"yb\").plot)\n"
   ]
  }
 ],
 "metadata": {
  "kernelspec": {
   "display_name": "Python [conda env:analysis3-24.04] *",
   "language": "python",
   "name": "conda-env-analysis3-24.04-py"
  }
 },
 "nbformat": 4,
 "nbformat_minor": 4
}
