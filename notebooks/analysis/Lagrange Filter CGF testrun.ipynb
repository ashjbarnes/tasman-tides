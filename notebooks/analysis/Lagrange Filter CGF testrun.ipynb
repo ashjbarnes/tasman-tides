{
 "cells": [
  {
   "cell_type": "markdown",
   "metadata": {},
   "source": [
    "# Try CGF! Test run is on a point in time where there's an eddy parked in the beam"
   ]
  },
  {
   "cell_type": "code",
   "execution_count": null,
   "metadata": {},
   "outputs": [],
   "source": [
    "cd tasman-tides/"
   ]
  },
  {
   "cell_type": "code",
   "execution_count": null,
   "metadata": {
    "tags": []
   },
   "outputs": [],
   "source": [
    "import argparse\n",
    "import ttidelib as tt\n",
    "import os\n",
    "import numpy as np\n",
    "%matplotlib inline \n",
    "# os.chdir(\"tasman-tides\")\n",
    "import subprocess\n",
    "import time\n",
    "from dask.distributed import Client,default_client\n",
    "from matplotlib import pyplot as plt\n",
    "from pathlib import Path\n",
    "home = Path(\"/home/149/ab8992/tasman-tides\")\n",
    "gdata = Path(\"/g/data/nm03/ab8992\")\n",
    "%matplotlib inline\n",
    "import matplotlib\n",
    "import xarray as xr\n",
    "import filtering\n",
    "def startdask():\n",
    "    try:\n",
    "    # Try to get the existing Dask client\n",
    "        client = default_client()\n",
    "        print(client)\n",
    "    except ValueError:\n",
    "        # If there's no existing client, create a new one\n",
    "        client = Client()\n",
    "        print(client)\n",
    "\n",
    "startdask()"
   ]
  },
  {
   "cell_type": "code",
   "execution_count": null,
   "metadata": {},
   "outputs": [],
   "source": [
    "import scipy\n",
    "from ipywidgets import interact\n",
    "import cmocean\n",
    "cmap = cmocean.cm.dense_r\n",
    "earth_cmap = matplotlib.cm.get_cmap(\"gist_earth\")\n",
    "\n",
    "\n",
    "def cross_scale_transfer(data,cutoff):\n",
    "    sos = scipy.signal.butter(6,[cutoff],output = \"sos\")\n",
    "\n",
    "    if \"zl\" in data.dims:\n",
    "        dims = [\"time\",\"zl\",\"yb\",\"xb\"]\n",
    "    else:\n",
    "        dims = [\"time\",\"yb\",\"xb\"]\n",
    "    uu = scipy.signal.sosfilt(sos, data.u**2,axis = 0)\n",
    "    vv = scipy.signal.sosfilt(sos, data.v**2,axis = 0)\n",
    "    u = scipy.signal.sosfilt(sos, data.u,axis = 0)\n",
    "    v = scipy.signal.sosfilt(sos, data.v,axis = 0)\n",
    "    uv = scipy.signal.sosfilt(sos, data.u*data.v,axis = 0)\n",
    "\n",
    "    out = xr.Dataset(\n",
    "        {\n",
    "            \"tau_uu\":(dims,uu - u**2),\n",
    "            \"tau_uv\":(dims,uv - u*v),\n",
    "            \"tau_vv\":(dims,vv - v**2),\n",
    "            \"u\":(dims,u),\n",
    "            \"v\":(dims,v),\n",
    "            \"uu\":(dims,uu),\n",
    "            \"vv\":(dims,vv)\n",
    "        },\n",
    "        coords = data.coords\n",
    "    )\n",
    "\n",
    "\n",
    "    transfer = (\n",
    "        out.tau_uu * out.u.differentiate(\"xb\") +\n",
    "        out.tau_uv * out.u.differentiate(\"yb\") +\n",
    "        out.tau_uv * out.v.differentiate(\"xb\") +\n",
    "        out.tau_vv * out.v.differentiate(\"yb\")\n",
    "    ).rename(\"transfer\")\n",
    "\n",
    "\n",
    "\n",
    "    return xr.merge([out,transfer])\n",
    "\n",
    "\n",
    "\n",
    "\n",
    "# tau = cross_scale_transfer(data)"
   ]
  },
  {
   "cell_type": "markdown",
   "metadata": {},
   "source": [
    "## First read in a single that overlaps the eddy"
   ]
  },
  {
   "cell_type": "code",
   "execution_count": null,
   "metadata": {},
   "outputs": [],
   "source": [
    "full = tt.collect_data(\n",
    "    \"full-20\",\n",
    "    rawdata = [\"u\",\"v\"],\n",
    "    timerange=(44850,45050)).isel(zl = 5)\n",
    "full.u.attrs = {}\n",
    "full.v.attrs = {}\n",
    "full.zl.attrs = {}\n",
    "full.time.attrs = {}\n",
    "full.yb.attrs = {}\n",
    "full.xb.attrs = {}\n",
    "\n",
    "\n",
    "\n",
    "full = full.assign_coords({\n",
    "    \"time\":full.time * 3600,\n",
    "    \"xb\":full.xb * 1000,\n",
    "    \"yb\":full.yb * 1000})\n",
    "full = full.drop([\"bathy\",\"lat\",\"lon\"])\n",
    "\n",
    "full.u.to_netcdf(\"/g/data/nm03/ab8992/postprocessed/full-20/usample.nc\")\n",
    "full.v.to_netcdf(\"/g/data/nm03/ab8992/postprocessed/full-20/vsample.nc\")\n",
    "\n",
    "# notide = xr.merge([\n",
    "#     xr.open_mfdataset(\"/g/data/nm03/ab8992/outputs/notide-20/output1*/u/u*.nc\",parallel = True,decode_times = False, decode_cf = False).u.sel(time = slice(37900,38100)).isel(zl = 5),\n",
    "#     xr.open_mfdataset(\"/g/data/nm03/ab8992/outputs/notide-20/output1*/v/v*.nc\",parallel = True,decode_times = False, decode_cf = False).v.sel(time = slice(37900,38100)).isel(zl = 5),\n",
    "# ]).assign_coords({\"time\":full.time * 3600}).persist()\n",
    "# wind_stress = xr.open_mfdataset(\"/g/data/nm03/ab8992/outputs/full-20/output*/surface_transect.nc\",parallel = True,decode_times = False, decode_cf = False)[[\"taux\",\"tauy\"]].sel(time = slice(44900,45000))"
   ]
  },
  {
   "cell_type": "markdown",
   "metadata": {},
   "source": [
    "## Test simple 12hr lagrange filter on this snapshot - same as test in the eulerian case"
   ]
  },
  {
   "cell_type": "code",
   "execution_count": null,
   "metadata": {},
   "outputs": [],
   "source": [
    "os.getenv('PBS_JOBFS')"
   ]
  },
  {
   "cell_type": "code",
   "execution_count": null,
   "metadata": {},
   "outputs": [],
   "source": [
    "m2freq = 2*np.pi/(12.42*3600)\n",
    "m2freq"
   ]
  },
  {
   "cell_type": "code",
   "execution_count": null,
   "metadata": {},
   "outputs": [],
   "source": [
    "from datetime import timedelta\n",
    "import filtering\n",
    "import numpy as np\n",
    "import os \n",
    "if os.path.exists(\"/g/data/nm03/ab8992/postprocessed/full-20/waves.nc\"):\n",
    "    os.remove(\"/g/data/nm03/ab8992/postprocessed/full-20/waves.nc\")\n",
    "m2freq = 2*np.pi/(12.42*3600)\n",
    "f = filtering.LagrangeFilter(\n",
    "\t\"/g/data/nm03/ab8992/postprocessed/full-20/waves\",\n",
    "      {\"U\":\"/g/data/nm03/ab8992/postprocessed/full-20/usample.nc\",\"V\":\"/g/data/nm03/ab8992/postprocessed/full-20/vsample.nc\"}, {\"U\":\"u\",\"V\":\"v\"}, {\"lon\":\"xb\",\"lat\":\"yb\",\"time\":\"time\"},\n",
    "\tsample_variables=[\"U\",\"V\"], mesh=\"flat\",highpass_frequency = m2freq,\n",
    "    advection_dt =timedelta(hours=24).total_seconds(),\n",
    "    window_size = timedelta(hours=24).total_seconds(),\n",
    ")\n",
    "f(times = range(3600 * 50,3600 * 150,3600))"
   ]
  },
  {
   "cell_type": "code",
   "execution_count": null,
   "metadata": {},
   "outputs": [],
   "source": [
    "import netCDF4\n",
    "\n",
    "netCDF4.Dataset(\"waves\" + \".nc\", \"w\", clobber=False)"
   ]
  },
  {
   "cell_type": "code",
   "execution_count": null,
   "metadata": {},
   "outputs": [],
   "source": [
    "full_12f = cross_scale_transfer(full,1/12).persist()\n",
    "notide_12f  = cross_scale_transfer(notide,1/12).persist()\n",
    "full_6f = cross_scale_transfer(full,1/6).persist()\n",
    "notide_6f  = cross_scale_transfer(notide,1/6).persist()\n",
    "full_vorticity = tt.calculate_vorticity(full_12f.load()).persist()\n",
    "notide_vorticity = tt.calculate_vorticity(notide_12f.load()).persist()\n",
    "bathy = xr.open_mfdataset(\"/g/data/nm03/ab8992/outputs/full-20/bathy_transect.nc\").elevation\n",
    "bathy = bathy.where(bathy > 0).compute().rename(\"bathy\")\n",
    "\n",
    "data_full = xr.merge([full_12f.transfer.rename(\"energy_transfer\"),full_vorticity.rename(\"vorticity\"),bathy]).persist()\n",
    "data_notide = xr.merge([notide_12f.transfer.rename(\"energy_transfer\"),notide_vorticity.rename(\"vorticity\"),bathy]).persist()"
   ]
  },
  {
   "cell_type": "code",
   "execution_count": null,
   "metadata": {},
   "outputs": [],
   "source": [
    "def plot_transfer(data,vmax = 0.1):\n",
    "    \"\"\"\n",
    "    data needs to contain bathy, energy transfer, b\"\"\"\n",
    "    cmap = matplotlib.cm.get_cmap(\"RdBu\")\n",
    "    fig,ax = plt.subplots(2,figsize = (15,12))\n",
    "    # Set the background colour to the plot to the lowest value in the cmap\n",
    "    ax[0].set_facecolor(\"white\")\n",
    "    ax[1].set_facecolor(\"white\")\n",
    "    \n",
    "    data.energy_transfer.plot(ax = ax[0],cmap = cmap,add_colorbar = True,vmax = vmax,vmin = -vmax,cbar_kwargs={'label': \"Energy transfer (m^2/s^3)\"})\n",
    "    data.vorticity.plot(ax = ax[1],cmap = cmap,add_colorbar = True,cbar_kwargs={'label': \"Vorticity\"})\n",
    "\n",
    "    data.bathy.plot(cmap = earth_cmap,vmin = -1000,vmax = 1500,ax = ax[0],add_colorbar = False)\n",
    "    data.bathy.plot(cmap = earth_cmap,vmin = -1000,vmax = 1500,ax = ax[1],add_colorbar = False)\n",
    "\n",
    "    ax[0].set_xlabel(\"\")\n",
    "    ax[0].set_title(f\"Energy transfer from small to larger scales\")\n",
    "    ax[1].set_title(f\"Vorticity\")\n",
    "    plt.show()\n",
    "    return fig\n",
    "\n",
    "# tt.make_movie(data_full,plot_transfer,\"full-20\",\"12hr_filtered_energy_transfer\")\n",
    "# plot_transfer(data_full,1/12,100)\n"
   ]
  },
  {
   "cell_type": "code",
   "execution_count": null,
   "metadata": {},
   "outputs": [],
   "source": [
    "fn = \"/g/data/v45/ab8992/processed_data/singleridge_10xwind/yextent_100\"\n",
    "\n",
    "variables = {\"U\": \"u\", \"V\": \"v\",\"phi\":\"phi\"}\n",
    "filenames = {v: fn for v in variables.keys()}\n",
    "dimensions = {\"lon\": \"xh\", \"lat\": \"yh\", \"time\": \"time\", \"depth\": \"zl\"}\n",
    "\n",
    "i = 1\n",
    "\n",
    "path = \"/g/data/v45/ab8992/processed_data/lagrangefilter\"\n",
    "name = \"lagrange_filter_largedomain\"+str(i)\n",
    "\n",
    "if name + \".nc\" in os.listdir(path):\n",
    "    os.remove(path + \"/\" +  name + \".nc\")\n",
    "print(i)\n",
    "f = filtering.LagrangeFilter(path + \"/\" +  name, filenames, variables, dimensions,\n",
    "    sample_variables=[\"U\",\"phi\"], \n",
    "    mesh=\"flat\",\n",
    "    highpass_frequency = 1e-4,\n",
    "    advection_dt =timedelta(minutes=5),\n",
    "    window_size=timedelta(days=2).total_seconds(),indices={\"depth\": [i]}\n",
    ")\n",
    "f.seed_subdomain(min_lat=-8000, max_lat=8000)\n",
    "\n",
    "f.make_zonally_periodic()\n",
    "f()"
   ]
  }
 ],
 "metadata": {
  "kernelspec": {
   "display_name": "filtering_env",
   "language": "python",
   "name": "filtering_env"
  },
  "language_info": {
   "codemirror_mode": {
    "name": "ipython",
    "version": 3
   },
   "file_extension": ".py",
   "mimetype": "text/x-python",
   "name": "python",
   "nbconvert_exporter": "python",
   "pygments_lexer": "ipython3",
   "version": "3.9.13"
  }
 },
 "nbformat": 4,
 "nbformat_minor": 4
}
