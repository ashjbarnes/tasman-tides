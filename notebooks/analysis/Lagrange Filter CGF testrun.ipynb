{
 "cells": [
  {
   "cell_type": "markdown",
   "metadata": {},
   "source": [
    "# Try CGF! Test run is on a point in time where there's an eddy parked in the beam"
   ]
  },
  {
   "cell_type": "code",
   "execution_count": null,
   "metadata": {},
   "outputs": [],
   "source": [
    "import sys\n",
    "sys.path.append(\"/home/149/ab8992/tasman-tides/\")\n",
    "import xarray as xr\n",
    "import ttidelib as tt\n",
    "import scipy\n",
    "import cmocean\n",
    "import os\n",
    "cmap = cmocean.cm.dense_r\n",
    "import matplotlib\n",
    "import matplotlib.pyplot as plt\n",
    "earth_cmap = matplotlib.cm.get_cmap(\"gist_earth\")\n",
    "from datetime import timedelta\n",
    "import filtering\n",
    "import numpy as np\n",
    "import dask\n",
    "from dask.distributed import Client,default_client\n",
    "\n",
    "\n",
    "\n",
    "def startdask():\n",
    "    try:\n",
    "    # Try to get the existing Dask client\n",
    "        client = default_client()\n",
    "        print(client)\n",
    "    except ValueError:\n",
    "        # If there's no existing client, create a new one\n",
    "        client = Client()\n",
    "        print(client)\n",
    "    return client\n",
    "\n",
    "client = startdask()\n",
    "\n",
    "\n",
    "t0 = 44900 # Time in the middle of the window to be filtered\n",
    "t0 = 38000\n",
    "time_window = 200 # How many hours either side of t0 to consider\n",
    "filter_window = 100 # How many hours either side of t0 to actually filter (subset of time window)\n",
    "zl = slice(0,20)\n",
    "zl = 5\n",
    "expt = \"notide-20\"\n",
    "filter_cutoff = 2*np.pi/(12.42*3600)\n",
    "outpath = f\"/g/data/nm03/ab8992/postprocessed/{expt}/waves\""
   ]
  },
  {
   "cell_type": "markdown",
   "metadata": {},
   "source": [
    "## First read in a single that overlaps the eddy"
   ]
  },
  {
   "cell_type": "code",
   "execution_count": null,
   "metadata": {},
   "outputs": [],
   "source": [
    "def cross_scale_transfer(data):\n",
    "\n",
    "    tau_uu = data.uu - data.u**2\n",
    "    tau_uv = data.uv - data.u*data.v\n",
    "    tau_vv = data.vv - data.v**2\n",
    "    u = data.u\n",
    "    v = data.v\n",
    "    uu = data.uu\n",
    "    vv = data.vv\n",
    "\n",
    "    transfer = (\n",
    "        tau_uu * u.differentiate(\"xb\") +\n",
    "        tau_uv * u.differentiate(\"yb\") +\n",
    "        tau_uv * v.differentiate(\"xb\") +\n",
    "        tau_vv * v.differentiate(\"yb\")\n",
    "    ).rename(\"energy_transfer\")\n",
    "\n",
    "    return transfer\n",
    "\n",
    "def plot_transfer(data,vmax = 1.):\n",
    "    \"\"\"\n",
    "    data needs to contain bathy, energy transfer, b\"\"\"\n",
    "    cmap = matplotlib.cm.get_cmap(\"RdBu\")\n",
    "    fig,ax = plt.subplots(2,figsize = (15,12))\n",
    "    # Set the background colour to the plot to the lowest value in the cmap\n",
    "    ax[0].set_facecolor(\"white\")\n",
    "    ax[1].set_facecolor(\"white\")\n",
    "    \n",
    "    if type(vmax) == float or type(vmax) == int:\n",
    "        data.energy_transfer.plot(ax = ax[0],cmap = cmap,add_colorbar = True,vmax = vmax,vmin = -vmax,cbar_kwargs={'label': \"Energy transfer (m^2/s^3)\"})\n",
    "    else:\n",
    "        data.energy_transfer.plot(ax = ax[0],cmap = cmap,add_colorbar = True,cbar_kwargs={'label': \"Energy transfer (m^2/s^3)\"})\n",
    "    data.vorticity.plot(ax = ax[1],cmap = cmap,add_colorbar = True,cbar_kwargs={'label': \"Vorticity\"},vmax = 0.1,vmin = -0.1)\n",
    "\n",
    "    data.bathy.plot(cmap = earth_cmap,vmin = -1000,vmax = 1500,ax = ax[0],add_colorbar = False)\n",
    "    data.bathy.plot(cmap = earth_cmap,vmin = -1000,vmax = 1500,ax = ax[1],add_colorbar = False)\n",
    "\n",
    "    ax[0].set_xlabel(\"\")\n",
    "    ax[0].set_title(f\"Energy transfer from small to larger scales\")\n",
    "    ax[1].set_title(f\"Vorticity\")\n",
    "    plt.show()\n",
    "    return fig\n",
    "\n",
    "bathy = xr.open_dataset(f\"/g/data/nm03/ab8992/outputs/{expt}/bathy_transect.nc\").elevation\n",
    "bathy = bathy.where(bathy > 0).rename(\"bathy\").drop_vars(\"lon\").drop_vars(\"lat\")\n",
    "\n",
    "time_window = 200 # How many hours either side of t0 to consider\n",
    "filter_window = 100 # How many hours either side of t0 to actually filter (subset of time window)\n",
    "\n",
    "\n"
   ]
  },
  {
   "cell_type": "markdown",
   "metadata": {},
   "source": [
    "## With tide\n"
   ]
  },
  {
   "cell_type": "code",
   "execution_count": null,
   "metadata": {},
   "outputs": [],
   "source": [
    "t0 = 44910 # Time in the middle of the window to be filtered\n",
    "expt = \"full-20\"\n",
    "outpath = f\"/g/data/nm03/ab8992/postprocessed/{expt}/lfiltered/t0-{t0}\"\n",
    "# rawdata_tide = tt.collect_data(\n",
    "#     expt,\n",
    "#     rawdata = [\"u\",\"v\"],\n",
    "#     timerange=(t0 - filter_window,t0 + filter_window)).isel(zl = 2,time = 100)\n",
    "\n",
    "\n",
    "cst = xr.open_mfdataset(outpath + \"/*.nc\",decode_times = False).isel(time = 100).cst.rename(\"energy_transfer\").persist()\n",
    "vorticity = tt.calculate_vorticity(rawdata_tide).rename(\"vorticity\")\n",
    "merged = xr.merge([cst,bathy,vorticity]).load()\n",
    "\n",
    "\n"
   ]
  },
  {
   "cell_type": "code",
   "execution_count": null,
   "metadata": {},
   "outputs": [],
   "source": [
    "fig = plot_transfer(merged.integrate(\"zl\"),vmax = 1.)\n"
   ]
  },
  {
   "cell_type": "code",
   "execution_count": null,
   "metadata": {},
   "outputs": [],
   "source": [
    "\n",
    "\n",
    "fig = plot_transfer(merged.integrate(\"zl\"),vmax = 1.)"
   ]
  },
  {
   "cell_type": "markdown",
   "metadata": {},
   "source": [
    "### Make movie"
   ]
  },
  {
   "cell_type": "code",
   "execution_count": null,
   "metadata": {},
   "outputs": [],
   "source": [
    "t0 = 44900 # Time in the middle of the window to be filtered\n",
    "expt = \"full-20\"\n",
    "outpath = f\"/g/data/nm03/ab8992/postprocessed/{expt}/lfiltered/t0-{t0}\"\n",
    "rawdata_tide = tt.collect_data(\n",
    "    expt,\n",
    "    rawdata = [\"u\",\"v\"],\n",
    "    timerange=(t0 - filter_window,t0 + filter_window)).isel(zl = 2)\n",
    "\n",
    "\n",
    "cst = xr.open_mfdataset(outpath + \"/*.nc\",decode_times = False).cst.rename(\"energy_transfer\").persist()\n",
    "vorticity = tt.calculate_vorticity(rawdata_tide).rename(\"vorticity\")\n",
    "merged = xr.merge([cst,bathy,vorticity]).load()\n",
    "\n",
    "\n",
    "tt.make_movie(merged.integrate(\"zl\"),plot_transfer,\"full-20\",\"12hr_lagrange_cst\",framerate=20)\n",
    "\n"
   ]
  },
  {
   "cell_type": "markdown",
   "metadata": {},
   "source": [
    "## Notide"
   ]
  },
  {
   "cell_type": "code",
   "execution_count": null,
   "metadata": {},
   "outputs": [],
   "source": [
    "t0 = 38010\n",
    "expt = \"notide-20\"\n",
    "outpath = f\"/g/data/nm03/ab8992/postprocessed/{expt}/lfiltered/t0-{t0}\"\n",
    "# rawdata_tide = tt.collect_data(\n",
    "#     expt,\n",
    "#     rawdata = [\"u\",\"v\"],\n",
    "#     timerange=(t0 - filter_window,t0 + filter_window)).isel(zl = 2,time = 100)\n",
    "\n",
    "\n",
    "cst = xr.open_mfdataset(outpath + \"/*.nc\",decode_times = False).isel(time = 100).cst.rename(\"energy_transfer\").persist()\n",
    "vorticity = tt.calculate_vorticity(rawdata_tide).rename(\"vorticity\")\n",
    "merged = xr.merge([cst,bathy,vorticity]).load()\n",
    "\n",
    "\n"
   ]
  },
  {
   "cell_type": "code",
   "execution_count": null,
   "metadata": {},
   "outputs": [],
   "source": [
    "fig = plot_transfer(merged.integrate(\"zl\"),vmax = 1)\n"
   ]
  },
  {
   "cell_type": "code",
   "execution_count": null,
   "metadata": {},
   "outputs": [],
   "source": [
    "fig = plot_transfer(merged.integrate(\"zl\"),vmax = 1)\n"
   ]
  },
  {
   "cell_type": "markdown",
   "metadata": {},
   "source": [
    "### Make Movie"
   ]
  },
  {
   "cell_type": "code",
   "execution_count": null,
   "metadata": {},
   "outputs": [],
   "source": [
    "t0 = 38000\n",
    "expt = \"notide-20\"\n",
    "outpath = f\"/g/data/nm03/ab8992/postprocessed/{expt}/lfiltered/t0-{t0}\"\n",
    "rawdata_tide = tt.collect_data(\n",
    "    expt,\n",
    "    rawdata = [\"u\",\"v\"],\n",
    "    timerange=(t0 - filter_window,t0 + filter_window)).isel(zl = 2)\n",
    "\n",
    "\n",
    "cst = xr.open_mfdataset(outpath + \"/*.nc\",decode_times = False).cst.rename(\"energy_transfer\").persist()\n",
    "vorticity = tt.calculate_vorticity(rawdata_tide).rename(\"vorticity\")\n",
    "merged = xr.merge([cst,bathy,vorticity]).load()\n",
    "\n",
    "\n",
    "tt.make_movie(merged.integrate(\"zl\"),plot_transfer,expt,\"12hr_lagrange_cst\",framerate=20)"
   ]
  },
  {
   "cell_type": "markdown",
   "metadata": {},
   "source": [
    "## Plot velocities"
   ]
  },
  {
   "cell_type": "code",
   "execution_count": null,
   "metadata": {},
   "outputs": [],
   "source": [
    "np.log((filtered.u**2)).mean(\"time\").mean(\"zl\").plot()"
   ]
  },
  {
   "cell_type": "markdown",
   "metadata": {},
   "source": [
    "## Plot outputs of Lagrangian runs"
   ]
  }
 ],
 "metadata": {
  "kernelspec": {
   "display_name": "Python [conda env:analysis3-23.10] *",
   "language": "python",
   "name": "conda-env-analysis3-23.10-py"
  },
  "language_info": {
   "codemirror_mode": {
    "name": "ipython",
    "version": 3
   },
   "file_extension": ".py",
   "mimetype": "text/x-python",
   "name": "python",
   "nbconvert_exporter": "python",
   "pygments_lexer": "ipython3",
   "version": "3.10.13"
  }
 },
 "nbformat": 4,
 "nbformat_minor": 4
}
