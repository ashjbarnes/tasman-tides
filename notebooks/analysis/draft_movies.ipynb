{
 "cells": [
  {
   "cell_type": "code",
   "execution_count": 1,
   "metadata": {},
   "outputs": [],
   "source": [
    "\n",
    "import argparse\n",
    "import os\n",
    "os.chdir(\"/home/149/ab8992/tasman-tides\")\n",
    "import ttidelib as tt\n",
    "import subprocess\n",
    "import time\n",
    "from dask.distributed import Client,default_client\n",
    "from matplotlib import pyplot as plt\n",
    "from pathlib import Path\n",
    "home = Path(\"/home/149/ab8992/tasman-tides\")\n",
    "gdata = Path(\"/g/data/nm03/ab8992\")\n",
    "\n",
    "\n",
    "def startdask():\n",
    "    try:\n",
    "    # Try to get the existing Dask client\n",
    "        client = default_client()\n",
    "    except ValueError:\n",
    "        # If there's no existing client, create a new one\n",
    "        client = Client()\n",
    "\n",
    "def surfacespeed_movie(experiment, outputs):\n",
    "    \"\"\"\n",
    "    Make a movie of the surface speed for the given experiment and outputs\n",
    "    \"\"\"\n",
    "    startdask()\n",
    "\n",
    "    data = tt.collect_data(experiment,surface_data=[\"speed\"],chunks = {\"time\":1},outputs=outputs,bathy=True)\n",
    "    print(\"loaded data\")\n",
    "    print(data)\n",
    "    fig = plt.figure(figsize=(15, 12))\n",
    "\n",
    "    print(\"Start making movie...\")\n",
    "    tt.make_movie(data,\n",
    "                tt.plot_surfacespeed,\n",
    "                experiment,\n",
    "                \"surface_speed\",\n",
    "                framerate=10,\n",
    "                parallel=True)\n",
    "\n",
    "    return\n",
    "\n",
    "def vorticity_movie(experiment, outputs):\n",
    "    \"\"\"\n",
    "    Make a movie of the surface speed for the given experiment and outputs\n",
    "    \"\"\"\n",
    "    startdask()\n",
    "\n",
    "    data = tt.collect_data(experiment,data=[\"vorticity_surface\",\"vorticity_transect\"],chunks = {\"time\":1},outputs=outputs,bathy=True)\n",
    "    print(\"loaded data\")\n",
    "    print(data)\n",
    "    fig = plt.figure(figsize=(20, 12))\n",
    "\n",
    "    print(\"Start making movie...\")\n",
    "    tt.make_movie(data,\n",
    "                tt.plot_vorticity,\n",
    "                experiment,\n",
    "                \"surface_speed\",\n",
    "                framerate=10,\n",
    "                parallel=True)\n",
    "\n",
    "    return\n",
    "\n",
    "\n",
    "def save_vorticity(experiment,outputs):\n",
    "    \"\"\"\n",
    "    Save the relative vorticity for the given experiment and outputs\n",
    "    \"\"\"\n",
    "\n",
    "    startdask()\n",
    "    outpath = gdata / \"postprocessed\" / experiment\n",
    "    if not os.path.exists(outpath):\n",
    "        os.makedirs(outpath)\n",
    "\n",
    "    rawdata = tt.collect_data(\n",
    "        experiment,\n",
    "        outputs=outputs,\n",
    "        rawdata = [\"u\",\"v\"],\n",
    "        bathy=True,\n",
    "        chunks = {\"time\": -1,\"xb\":-1,\"zl\":10}\n",
    "        )\n",
    "\n",
    "    vorticity = tt.calculate_vorticity(rawdata).coarsen(time = 149,boundary = \"trim\").mean().drop(\"lat\").drop(\"lon\").rename(\"vorticity\")\n",
    "    print(\"Computing voricity transect\")\n",
    "    vorticity_transect = vorticity.sel(yb = 0,method = \"nearest\")\n",
    "    print(\"Computing vorticity surface\")\n",
    "    vorticity_surface = vorticity.isel(zl = 2)\n",
    "\n",
    "    vorticity_surface.to_netcdf(outpath / \"vorticity_surface.nc\")\n",
    "    vorticity_transect.to_netcdf(outpath / \"vorticity_transect.nc\")\n",
    "    return vorticity\n",
    "\n",
    "def save_filtered_vels(experiment,outputs):\n",
    "    \"\"\"\n",
    "    Calculate the filtered velocities over 149 hours and save u'u', v'v', u'v' all averaged over 149 hours as separate files\n",
    "    \"\"\"\n",
    "    m2 = 360 / 28.984104 ## Period of m2 in hours\n",
    "    averaging_window = int(12 * m2) ## this comes out to be 149.0472 hours, so close enough to a multiple of tidal periods\n",
    "    m2f = 1/ m2    ## Frequency of m2 in radians per hour\n",
    "\n",
    "    outpath = gdata / \"postprocessed\" / experiment \n",
    "    for i in [\"UU\",\"VV\",\"UV\"]:\n",
    "        if not os.path.exists(outpath / i):\n",
    "            os.makedirs(outpath / i)\n",
    "\n",
    "    data = tt.collect_data(\n",
    "        experiment,\n",
    "        outputs=outputs,\n",
    "        rawdata = [\"u\",\"v\"],\n",
    "        bathy=False,\n",
    "        chunks = {\"time\": -1,\"xb\":-1,\"zl\":10}\n",
    "        )\n",
    "    for i in range(0,len(data.time) // averaging_window):\n",
    "        u_ = data.u.isel(\n",
    "                time = slice(i * averaging_window, (i + 1) * averaging_window)\n",
    "                ).chunk({\"time\":-1}).drop([\"lat\",\"lon\"])\n",
    "        v_ = data.v.isel(\n",
    "                time = slice(i * averaging_window, (i + 1) * averaging_window)\n",
    "                ).chunk({\"time\":-1}).drop([\"lat\",\"lon\"])\n",
    "        U = tt.m2filter(\n",
    "            u_,\n",
    "            m2f)\n",
    "        V = tt.m2filter(\n",
    "            v_,\n",
    "            m2f)\n",
    "        \n",
    "        mid_time = data.time[round(i + 0.5 * averaging_window) ] ## Middle of time window time\n",
    "        UU = (U * U).mean(\"time\").expand_dims(\"time\").assign_coords(time = [mid_time])\n",
    "        VV = (V * V).mean(\"time\").expand_dims(\"time\").assign_coords(time = [mid_time])\n",
    "        UV = (U * V).mean(\"time\").expand_dims(\"time\").assign_coords(time = [mid_time])\n",
    "\n",
    "        UU.to_netcdf(outpath / \"UU\" / f\"UU_{str(i).zfill(3)}.nc\")\n",
    "        VV.to_netcdf(outpath / \"VV\"/ f\"VV_{str(i).zfill(3)}.nc\")\n",
    "        UV.to_netcdf(outpath / \"UV\"/ f\"UV_{str(i).zfill(3)}.nc\")\n",
    "\n",
    "\n",
    "    return \n",
    "\n",
    "\n",
    "def qsub(recipe, experiment, outputs):\n",
    "    tt.logmsg(f\"Submitting {recipe} for {experiment}, {outputs} to qsub\")\n",
    "    if not os.path.exists(f\"/home/149/ab8992/tasman-tides/logs/{recipe}\"):\n",
    "        os.makedirs(f\"/home/149/ab8992/tasman-tides/logs/{recipe}\")\n",
    "    text = f\"\"\"\n",
    "#!/bin/bash\n",
    "#PBS -N {recipe}-{experiment}\n",
    "#PBS -P v45\n",
    "#PBS -q normalbw\n",
    "#PBS -l mem=112gb\n",
    "#PBS -l walltime=6:00:00\n",
    "#PBS -l ncpus=28\n",
    "#PBS -l jobfs=2gb\n",
    "#PBS -l storage=gdata/v45+scratch/v45+scratch/x77+gdata/v45+gdata/nm03+gdata/hh5\n",
    "PYTHONNOUSERSITE=1\n",
    "module use /g/data/hh5/public/modules\n",
    "module load conda/analysis3-unstable\n",
    "module list\n",
    "python3 /home/149/ab8992/tasman-tides/recipes.py -r {recipe} -e {experiment} -o {outputs} -q 0\"\"\"\n",
    "\n",
    "    with open(f\"/home/149/ab8992/tasman-tides/logs/{recipe}/{recipe}-{experiment}.pbs\", \"w\") as f:\n",
    "        f.write(text)\n",
    "\n",
    "    result = subprocess.run(\n",
    "        f\"qsub /home/149/ab8992/tasman-tides/logs/{recipe}/{recipe}-{experiment}.pbs\",\n",
    "        shell=True,\n",
    "        capture_output=True,\n",
    "        text=True,\n",
    "        cwd = f\"/home/149/ab8992/tasman-tides/logs/{recipe}\",\n",
    "    )\n",
    "    pbs_error = f\"{recipe}-{experiment}.e{result.stdout.split('.')[0]}\"\n",
    "    pbs_log = f\"{recipe}-{experiment}.o{result.stdout.split('.')[0]}\"\n",
    "\n",
    "    # Wait until the PBS logfile appears in the log folder\n",
    "    while not os.path.exists(f\"/home/149/ab8992/tasman-tides/logs/{recipe}/{pbs_error}\"):\n",
    "        time.sleep(10)\n",
    "\n",
    "    ## Rename the logfile to be recipe--experiment--current_date\n",
    "    current_date = time.strftime(\"%b_%d_%H-%M-%S\").lower()\n",
    "    os.rename(\n",
    "        f\"/home/149/ab8992/tasman-tides/logs/{recipe}/{pbs_error}\",\n",
    "        f\"/home/149/ab8992/tasman-tides/logs/{recipe}/{experiment}_{current_date}.err\",\n",
    "    )\n",
    "    os.rename(\n",
    "        f\"/home/149/ab8992/tasman-tides/logs/{recipe}/{pbs_log}\",\n",
    "        f\"/home/149/ab8992/tasman-tides/logs/{recipe}/{experiment}_{current_date}.out\",\n",
    "    )\n",
    "\n",
    "    return\n",
    "    \n",
    "        \n",
    "\n"
   ]
  },
  {
   "cell_type": "markdown",
   "metadata": {},
   "source": [
    "# Kinetic energy movie\n"
   ]
  },
  {
   "cell_type": "code",
   "execution_count": 2,
   "metadata": {},
   "outputs": [
    {
     "name": "stdout",
     "output_type": "stream",
     "text": [
      "0.3.0\n",
      "0\n"
     ]
    },
    {
     "name": "stderr",
     "output_type": "stream",
     "text": [
      "/g/data/hh5/public/apps/miniconda3/envs/analysis3-23.10/lib/python3.10/site-packages/xrft/xrft.py:573: FutureWarning: Default ifft's behaviour (lag=None) changed! Default value of lag was zero (centered output coordinates) and is now set to transformed coordinate's attribute: 'direct_lag'.\n",
      "  warnings.warn(msg, FutureWarning)\n",
      "/g/data/hh5/public/apps/miniconda3/envs/analysis3-23.10/lib/python3.10/site-packages/xrft/xrft.py:573: FutureWarning: Default ifft's behaviour (lag=None) changed! Default value of lag was zero (centered output coordinates) and is now set to transformed coordinate's attribute: 'direct_lag'.\n",
      "  warnings.warn(msg, FutureWarning)\n",
      "/jobfs/103200509.gadi-pbs/ipykernel_869543/3989176887.py:10: MatplotlibDeprecationWarning: The get_cmap function was deprecated in Matplotlib 3.7 and will be removed two minor releases later. Use ``matplotlib.colormaps[name]`` or ``matplotlib.colormaps.get_cmap(obj)`` instead.\n",
      "  cmap = matplotlib.cm.get_cmap('plasma')\n",
      "/g/data/hh5/public/apps/miniconda3/envs/analysis3-23.10/lib/python3.10/site-packages/xarray/plot/dataarray_plot.py:2026: UserWarning: The following kwargs were not used by contour: 'linestyle'\n",
      "  primitive = ax.contour(x, y, z, **kwargs)\n",
      "/g/data/hh5/public/apps/miniconda3/envs/analysis3-23.10/lib/python3.10/site-packages/xarray/plot/dataarray_plot.py:2026: UserWarning: The following kwargs were not used by contour: 'linestyle'\n",
      "  primitive = ax.contour(x, y, z, **kwargs)\n"
     ]
    },
    {
     "name": "stdout",
     "output_type": "stream",
     "text": [
      "1\n"
     ]
    },
    {
     "name": "stderr",
     "output_type": "stream",
     "text": [
      "/g/data/hh5/public/apps/miniconda3/envs/analysis3-23.10/lib/python3.10/site-packages/xrft/xrft.py:573: FutureWarning: Default ifft's behaviour (lag=None) changed! Default value of lag was zero (centered output coordinates) and is now set to transformed coordinate's attribute: 'direct_lag'.\n",
      "  warnings.warn(msg, FutureWarning)\n",
      "/g/data/hh5/public/apps/miniconda3/envs/analysis3-23.10/lib/python3.10/site-packages/xrft/xrft.py:573: FutureWarning: Default ifft's behaviour (lag=None) changed! Default value of lag was zero (centered output coordinates) and is now set to transformed coordinate's attribute: 'direct_lag'.\n",
      "  warnings.warn(msg, FutureWarning)\n",
      "/jobfs/103200509.gadi-pbs/ipykernel_869543/3989176887.py:10: MatplotlibDeprecationWarning: The get_cmap function was deprecated in Matplotlib 3.7 and will be removed two minor releases later. Use ``matplotlib.colormaps[name]`` or ``matplotlib.colormaps.get_cmap(obj)`` instead.\n",
      "  cmap = matplotlib.cm.get_cmap('plasma')\n",
      "/g/data/hh5/public/apps/miniconda3/envs/analysis3-23.10/lib/python3.10/site-packages/xarray/plot/dataarray_plot.py:2026: UserWarning: The following kwargs were not used by contour: 'linestyle'\n",
      "  primitive = ax.contour(x, y, z, **kwargs)\n",
      "/g/data/hh5/public/apps/miniconda3/envs/analysis3-23.10/lib/python3.10/site-packages/xarray/plot/dataarray_plot.py:2026: UserWarning: The following kwargs were not used by contour: 'linestyle'\n",
      "  primitive = ax.contour(x, y, z, **kwargs)\n"
     ]
    },
    {
     "name": "stdout",
     "output_type": "stream",
     "text": [
      "2\n"
     ]
    },
    {
     "name": "stderr",
     "output_type": "stream",
     "text": [
      "/g/data/hh5/public/apps/miniconda3/envs/analysis3-23.10/lib/python3.10/site-packages/xrft/xrft.py:573: FutureWarning: Default ifft's behaviour (lag=None) changed! Default value of lag was zero (centered output coordinates) and is now set to transformed coordinate's attribute: 'direct_lag'.\n",
      "  warnings.warn(msg, FutureWarning)\n",
      "/g/data/hh5/public/apps/miniconda3/envs/analysis3-23.10/lib/python3.10/site-packages/xrft/xrft.py:573: FutureWarning: Default ifft's behaviour (lag=None) changed! Default value of lag was zero (centered output coordinates) and is now set to transformed coordinate's attribute: 'direct_lag'.\n",
      "  warnings.warn(msg, FutureWarning)\n",
      "/jobfs/103200509.gadi-pbs/ipykernel_869543/3989176887.py:10: MatplotlibDeprecationWarning: The get_cmap function was deprecated in Matplotlib 3.7 and will be removed two minor releases later. Use ``matplotlib.colormaps[name]`` or ``matplotlib.colormaps.get_cmap(obj)`` instead.\n",
      "  cmap = matplotlib.cm.get_cmap('plasma')\n",
      "/g/data/hh5/public/apps/miniconda3/envs/analysis3-23.10/lib/python3.10/site-packages/xarray/plot/dataarray_plot.py:2026: UserWarning: The following kwargs were not used by contour: 'linestyle'\n",
      "  primitive = ax.contour(x, y, z, **kwargs)\n",
      "/g/data/hh5/public/apps/miniconda3/envs/analysis3-23.10/lib/python3.10/site-packages/xarray/plot/dataarray_plot.py:2026: UserWarning: The following kwargs were not used by contour: 'linestyle'\n",
      "  primitive = ax.contour(x, y, z, **kwargs)\n"
     ]
    },
    {
     "name": "stdout",
     "output_type": "stream",
     "text": [
      "3\n"
     ]
    },
    {
     "name": "stderr",
     "output_type": "stream",
     "text": [
      "/g/data/hh5/public/apps/miniconda3/envs/analysis3-23.10/lib/python3.10/site-packages/xrft/xrft.py:573: FutureWarning: Default ifft's behaviour (lag=None) changed! Default value of lag was zero (centered output coordinates) and is now set to transformed coordinate's attribute: 'direct_lag'.\n",
      "  warnings.warn(msg, FutureWarning)\n",
      "/g/data/hh5/public/apps/miniconda3/envs/analysis3-23.10/lib/python3.10/site-packages/xrft/xrft.py:573: FutureWarning: Default ifft's behaviour (lag=None) changed! Default value of lag was zero (centered output coordinates) and is now set to transformed coordinate's attribute: 'direct_lag'.\n",
      "  warnings.warn(msg, FutureWarning)\n",
      "/jobfs/103200509.gadi-pbs/ipykernel_869543/3989176887.py:10: MatplotlibDeprecationWarning: The get_cmap function was deprecated in Matplotlib 3.7 and will be removed two minor releases later. Use ``matplotlib.colormaps[name]`` or ``matplotlib.colormaps.get_cmap(obj)`` instead.\n",
      "  cmap = matplotlib.cm.get_cmap('plasma')\n",
      "/g/data/hh5/public/apps/miniconda3/envs/analysis3-23.10/lib/python3.10/site-packages/xarray/plot/dataarray_plot.py:2026: UserWarning: The following kwargs were not used by contour: 'linestyle'\n",
      "  primitive = ax.contour(x, y, z, **kwargs)\n",
      "/g/data/hh5/public/apps/miniconda3/envs/analysis3-23.10/lib/python3.10/site-packages/xarray/plot/dataarray_plot.py:2026: UserWarning: The following kwargs were not used by contour: 'linestyle'\n",
      "  primitive = ax.contour(x, y, z, **kwargs)\n"
     ]
    },
    {
     "name": "stdout",
     "output_type": "stream",
     "text": [
      "4\n"
     ]
    },
    {
     "name": "stderr",
     "output_type": "stream",
     "text": [
      "/g/data/hh5/public/apps/miniconda3/envs/analysis3-23.10/lib/python3.10/site-packages/xrft/xrft.py:573: FutureWarning: Default ifft's behaviour (lag=None) changed! Default value of lag was zero (centered output coordinates) and is now set to transformed coordinate's attribute: 'direct_lag'.\n",
      "  warnings.warn(msg, FutureWarning)\n",
      "/g/data/hh5/public/apps/miniconda3/envs/analysis3-23.10/lib/python3.10/site-packages/xrft/xrft.py:573: FutureWarning: Default ifft's behaviour (lag=None) changed! Default value of lag was zero (centered output coordinates) and is now set to transformed coordinate's attribute: 'direct_lag'.\n",
      "  warnings.warn(msg, FutureWarning)\n",
      "/jobfs/103200509.gadi-pbs/ipykernel_869543/3989176887.py:10: MatplotlibDeprecationWarning: The get_cmap function was deprecated in Matplotlib 3.7 and will be removed two minor releases later. Use ``matplotlib.colormaps[name]`` or ``matplotlib.colormaps.get_cmap(obj)`` instead.\n",
      "  cmap = matplotlib.cm.get_cmap('plasma')\n",
      "/g/data/hh5/public/apps/miniconda3/envs/analysis3-23.10/lib/python3.10/site-packages/xarray/plot/dataarray_plot.py:2026: UserWarning: The following kwargs were not used by contour: 'linestyle'\n",
      "  primitive = ax.contour(x, y, z, **kwargs)\n",
      "/g/data/hh5/public/apps/miniconda3/envs/analysis3-23.10/lib/python3.10/site-packages/xarray/plot/dataarray_plot.py:2026: UserWarning: The following kwargs were not used by contour: 'linestyle'\n",
      "  primitive = ax.contour(x, y, z, **kwargs)\n"
     ]
    },
    {
     "name": "stdout",
     "output_type": "stream",
     "text": [
      "5\n"
     ]
    },
    {
     "name": "stderr",
     "output_type": "stream",
     "text": [
      "/g/data/hh5/public/apps/miniconda3/envs/analysis3-23.10/lib/python3.10/site-packages/xrft/xrft.py:573: FutureWarning: Default ifft's behaviour (lag=None) changed! Default value of lag was zero (centered output coordinates) and is now set to transformed coordinate's attribute: 'direct_lag'.\n",
      "  warnings.warn(msg, FutureWarning)\n",
      "/g/data/hh5/public/apps/miniconda3/envs/analysis3-23.10/lib/python3.10/site-packages/xrft/xrft.py:573: FutureWarning: Default ifft's behaviour (lag=None) changed! Default value of lag was zero (centered output coordinates) and is now set to transformed coordinate's attribute: 'direct_lag'.\n",
      "  warnings.warn(msg, FutureWarning)\n",
      "/jobfs/103200509.gadi-pbs/ipykernel_869543/3989176887.py:10: MatplotlibDeprecationWarning: The get_cmap function was deprecated in Matplotlib 3.7 and will be removed two minor releases later. Use ``matplotlib.colormaps[name]`` or ``matplotlib.colormaps.get_cmap(obj)`` instead.\n",
      "  cmap = matplotlib.cm.get_cmap('plasma')\n",
      "/g/data/hh5/public/apps/miniconda3/envs/analysis3-23.10/lib/python3.10/site-packages/xarray/plot/dataarray_plot.py:2026: UserWarning: The following kwargs were not used by contour: 'linestyle'\n",
      "  primitive = ax.contour(x, y, z, **kwargs)\n",
      "/g/data/hh5/public/apps/miniconda3/envs/analysis3-23.10/lib/python3.10/site-packages/xarray/plot/dataarray_plot.py:2026: UserWarning: The following kwargs were not used by contour: 'linestyle'\n",
      "  primitive = ax.contour(x, y, z, **kwargs)\n"
     ]
    },
    {
     "name": "stdout",
     "output_type": "stream",
     "text": [
      "6\n"
     ]
    },
    {
     "name": "stderr",
     "output_type": "stream",
     "text": [
      "/g/data/hh5/public/apps/miniconda3/envs/analysis3-23.10/lib/python3.10/site-packages/xrft/xrft.py:573: FutureWarning: Default ifft's behaviour (lag=None) changed! Default value of lag was zero (centered output coordinates) and is now set to transformed coordinate's attribute: 'direct_lag'.\n",
      "  warnings.warn(msg, FutureWarning)\n",
      "/g/data/hh5/public/apps/miniconda3/envs/analysis3-23.10/lib/python3.10/site-packages/xrft/xrft.py:573: FutureWarning: Default ifft's behaviour (lag=None) changed! Default value of lag was zero (centered output coordinates) and is now set to transformed coordinate's attribute: 'direct_lag'.\n",
      "  warnings.warn(msg, FutureWarning)\n",
      "/jobfs/103200509.gadi-pbs/ipykernel_869543/3989176887.py:10: MatplotlibDeprecationWarning: The get_cmap function was deprecated in Matplotlib 3.7 and will be removed two minor releases later. Use ``matplotlib.colormaps[name]`` or ``matplotlib.colormaps.get_cmap(obj)`` instead.\n",
      "  cmap = matplotlib.cm.get_cmap('plasma')\n",
      "/g/data/hh5/public/apps/miniconda3/envs/analysis3-23.10/lib/python3.10/site-packages/xarray/plot/dataarray_plot.py:2026: UserWarning: The following kwargs were not used by contour: 'linestyle'\n",
      "  primitive = ax.contour(x, y, z, **kwargs)\n",
      "/g/data/hh5/public/apps/miniconda3/envs/analysis3-23.10/lib/python3.10/site-packages/xarray/plot/dataarray_plot.py:2026: UserWarning: The following kwargs were not used by contour: 'linestyle'\n",
      "  primitive = ax.contour(x, y, z, **kwargs)\n"
     ]
    },
    {
     "name": "stdout",
     "output_type": "stream",
     "text": [
      "7\n"
     ]
    },
    {
     "name": "stderr",
     "output_type": "stream",
     "text": [
      "/g/data/hh5/public/apps/miniconda3/envs/analysis3-23.10/lib/python3.10/site-packages/xrft/xrft.py:573: FutureWarning: Default ifft's behaviour (lag=None) changed! Default value of lag was zero (centered output coordinates) and is now set to transformed coordinate's attribute: 'direct_lag'.\n",
      "  warnings.warn(msg, FutureWarning)\n",
      "/g/data/hh5/public/apps/miniconda3/envs/analysis3-23.10/lib/python3.10/site-packages/xrft/xrft.py:573: FutureWarning: Default ifft's behaviour (lag=None) changed! Default value of lag was zero (centered output coordinates) and is now set to transformed coordinate's attribute: 'direct_lag'.\n",
      "  warnings.warn(msg, FutureWarning)\n",
      "/jobfs/103200509.gadi-pbs/ipykernel_869543/3989176887.py:10: MatplotlibDeprecationWarning: The get_cmap function was deprecated in Matplotlib 3.7 and will be removed two minor releases later. Use ``matplotlib.colormaps[name]`` or ``matplotlib.colormaps.get_cmap(obj)`` instead.\n",
      "  cmap = matplotlib.cm.get_cmap('plasma')\n",
      "/g/data/hh5/public/apps/miniconda3/envs/analysis3-23.10/lib/python3.10/site-packages/xarray/plot/dataarray_plot.py:2026: UserWarning: The following kwargs were not used by contour: 'linestyle'\n",
      "  primitive = ax.contour(x, y, z, **kwargs)\n",
      "/g/data/hh5/public/apps/miniconda3/envs/analysis3-23.10/lib/python3.10/site-packages/xarray/plot/dataarray_plot.py:2026: UserWarning: The following kwargs were not used by contour: 'linestyle'\n",
      "  primitive = ax.contour(x, y, z, **kwargs)\n"
     ]
    },
    {
     "name": "stdout",
     "output_type": "stream",
     "text": [
      "8\n"
     ]
    },
    {
     "name": "stderr",
     "output_type": "stream",
     "text": [
      "/g/data/hh5/public/apps/miniconda3/envs/analysis3-23.10/lib/python3.10/site-packages/xrft/xrft.py:573: FutureWarning: Default ifft's behaviour (lag=None) changed! Default value of lag was zero (centered output coordinates) and is now set to transformed coordinate's attribute: 'direct_lag'.\n",
      "  warnings.warn(msg, FutureWarning)\n",
      "/g/data/hh5/public/apps/miniconda3/envs/analysis3-23.10/lib/python3.10/site-packages/xrft/xrft.py:573: FutureWarning: Default ifft's behaviour (lag=None) changed! Default value of lag was zero (centered output coordinates) and is now set to transformed coordinate's attribute: 'direct_lag'.\n",
      "  warnings.warn(msg, FutureWarning)\n",
      "/jobfs/103200509.gadi-pbs/ipykernel_869543/3989176887.py:10: MatplotlibDeprecationWarning: The get_cmap function was deprecated in Matplotlib 3.7 and will be removed two minor releases later. Use ``matplotlib.colormaps[name]`` or ``matplotlib.colormaps.get_cmap(obj)`` instead.\n",
      "  cmap = matplotlib.cm.get_cmap('plasma')\n",
      "/g/data/hh5/public/apps/miniconda3/envs/analysis3-23.10/lib/python3.10/site-packages/xarray/plot/dataarray_plot.py:2026: UserWarning: The following kwargs were not used by contour: 'linestyle'\n",
      "  primitive = ax.contour(x, y, z, **kwargs)\n",
      "/g/data/hh5/public/apps/miniconda3/envs/analysis3-23.10/lib/python3.10/site-packages/xarray/plot/dataarray_plot.py:2026: UserWarning: The following kwargs were not used by contour: 'linestyle'\n",
      "  primitive = ax.contour(x, y, z, **kwargs)\n"
     ]
    },
    {
     "name": "stdout",
     "output_type": "stream",
     "text": [
      "9\n"
     ]
    },
    {
     "name": "stderr",
     "output_type": "stream",
     "text": [
      "/g/data/hh5/public/apps/miniconda3/envs/analysis3-23.10/lib/python3.10/site-packages/xrft/xrft.py:573: FutureWarning: Default ifft's behaviour (lag=None) changed! Default value of lag was zero (centered output coordinates) and is now set to transformed coordinate's attribute: 'direct_lag'.\n",
      "  warnings.warn(msg, FutureWarning)\n",
      "/g/data/hh5/public/apps/miniconda3/envs/analysis3-23.10/lib/python3.10/site-packages/xrft/xrft.py:573: FutureWarning: Default ifft's behaviour (lag=None) changed! Default value of lag was zero (centered output coordinates) and is now set to transformed coordinate's attribute: 'direct_lag'.\n",
      "  warnings.warn(msg, FutureWarning)\n",
      "/jobfs/103200509.gadi-pbs/ipykernel_869543/3989176887.py:10: MatplotlibDeprecationWarning: The get_cmap function was deprecated in Matplotlib 3.7 and will be removed two minor releases later. Use ``matplotlib.colormaps[name]`` or ``matplotlib.colormaps.get_cmap(obj)`` instead.\n",
      "  cmap = matplotlib.cm.get_cmap('plasma')\n",
      "/g/data/hh5/public/apps/miniconda3/envs/analysis3-23.10/lib/python3.10/site-packages/xarray/plot/dataarray_plot.py:2026: UserWarning: The following kwargs were not used by contour: 'linestyle'\n",
      "  primitive = ax.contour(x, y, z, **kwargs)\n",
      "/g/data/hh5/public/apps/miniconda3/envs/analysis3-23.10/lib/python3.10/site-packages/xarray/plot/dataarray_plot.py:2026: UserWarning: The following kwargs were not used by contour: 'linestyle'\n",
      "  primitive = ax.contour(x, y, z, **kwargs)\n"
     ]
    },
    {
     "name": "stdout",
     "output_type": "stream",
     "text": [
      "10\n"
     ]
    },
    {
     "name": "stderr",
     "output_type": "stream",
     "text": [
      "/g/data/hh5/public/apps/miniconda3/envs/analysis3-23.10/lib/python3.10/site-packages/xrft/xrft.py:573: FutureWarning: Default ifft's behaviour (lag=None) changed! Default value of lag was zero (centered output coordinates) and is now set to transformed coordinate's attribute: 'direct_lag'.\n",
      "  warnings.warn(msg, FutureWarning)\n",
      "/g/data/hh5/public/apps/miniconda3/envs/analysis3-23.10/lib/python3.10/site-packages/xrft/xrft.py:573: FutureWarning: Default ifft's behaviour (lag=None) changed! Default value of lag was zero (centered output coordinates) and is now set to transformed coordinate's attribute: 'direct_lag'.\n",
      "  warnings.warn(msg, FutureWarning)\n",
      "/jobfs/103200509.gadi-pbs/ipykernel_869543/3989176887.py:10: MatplotlibDeprecationWarning: The get_cmap function was deprecated in Matplotlib 3.7 and will be removed two minor releases later. Use ``matplotlib.colormaps[name]`` or ``matplotlib.colormaps.get_cmap(obj)`` instead.\n",
      "  cmap = matplotlib.cm.get_cmap('plasma')\n",
      "/g/data/hh5/public/apps/miniconda3/envs/analysis3-23.10/lib/python3.10/site-packages/xarray/plot/dataarray_plot.py:2026: UserWarning: The following kwargs were not used by contour: 'linestyle'\n",
      "  primitive = ax.contour(x, y, z, **kwargs)\n",
      "/g/data/hh5/public/apps/miniconda3/envs/analysis3-23.10/lib/python3.10/site-packages/xarray/plot/dataarray_plot.py:2026: UserWarning: The following kwargs were not used by contour: 'linestyle'\n",
      "  primitive = ax.contour(x, y, z, **kwargs)\n"
     ]
    },
    {
     "name": "stdout",
     "output_type": "stream",
     "text": [
      "11\n"
     ]
    },
    {
     "name": "stderr",
     "output_type": "stream",
     "text": [
      "/g/data/hh5/public/apps/miniconda3/envs/analysis3-23.10/lib/python3.10/site-packages/xrft/xrft.py:573: FutureWarning: Default ifft's behaviour (lag=None) changed! Default value of lag was zero (centered output coordinates) and is now set to transformed coordinate's attribute: 'direct_lag'.\n",
      "  warnings.warn(msg, FutureWarning)\n",
      "/g/data/hh5/public/apps/miniconda3/envs/analysis3-23.10/lib/python3.10/site-packages/xrft/xrft.py:573: FutureWarning: Default ifft's behaviour (lag=None) changed! Default value of lag was zero (centered output coordinates) and is now set to transformed coordinate's attribute: 'direct_lag'.\n",
      "  warnings.warn(msg, FutureWarning)\n",
      "/jobfs/103200509.gadi-pbs/ipykernel_869543/3989176887.py:10: MatplotlibDeprecationWarning: The get_cmap function was deprecated in Matplotlib 3.7 and will be removed two minor releases later. Use ``matplotlib.colormaps[name]`` or ``matplotlib.colormaps.get_cmap(obj)`` instead.\n",
      "  cmap = matplotlib.cm.get_cmap('plasma')\n",
      "/g/data/hh5/public/apps/miniconda3/envs/analysis3-23.10/lib/python3.10/site-packages/xarray/plot/dataarray_plot.py:2026: UserWarning: The following kwargs were not used by contour: 'linestyle'\n",
      "  primitive = ax.contour(x, y, z, **kwargs)\n",
      "/g/data/hh5/public/apps/miniconda3/envs/analysis3-23.10/lib/python3.10/site-packages/xarray/plot/dataarray_plot.py:2026: UserWarning: The following kwargs were not used by contour: 'linestyle'\n",
      "  primitive = ax.contour(x, y, z, **kwargs)\n"
     ]
    },
    {
     "name": "stdout",
     "output_type": "stream",
     "text": [
      "12\n"
     ]
    },
    {
     "name": "stderr",
     "output_type": "stream",
     "text": [
      "/g/data/hh5/public/apps/miniconda3/envs/analysis3-23.10/lib/python3.10/site-packages/xrft/xrft.py:573: FutureWarning: Default ifft's behaviour (lag=None) changed! Default value of lag was zero (centered output coordinates) and is now set to transformed coordinate's attribute: 'direct_lag'.\n",
      "  warnings.warn(msg, FutureWarning)\n",
      "/g/data/hh5/public/apps/miniconda3/envs/analysis3-23.10/lib/python3.10/site-packages/xrft/xrft.py:573: FutureWarning: Default ifft's behaviour (lag=None) changed! Default value of lag was zero (centered output coordinates) and is now set to transformed coordinate's attribute: 'direct_lag'.\n",
      "  warnings.warn(msg, FutureWarning)\n",
      "/jobfs/103200509.gadi-pbs/ipykernel_869543/3989176887.py:10: MatplotlibDeprecationWarning: The get_cmap function was deprecated in Matplotlib 3.7 and will be removed two minor releases later. Use ``matplotlib.colormaps[name]`` or ``matplotlib.colormaps.get_cmap(obj)`` instead.\n",
      "  cmap = matplotlib.cm.get_cmap('plasma')\n",
      "/g/data/hh5/public/apps/miniconda3/envs/analysis3-23.10/lib/python3.10/site-packages/xarray/plot/dataarray_plot.py:2026: UserWarning: The following kwargs were not used by contour: 'linestyle'\n",
      "  primitive = ax.contour(x, y, z, **kwargs)\n",
      "/g/data/hh5/public/apps/miniconda3/envs/analysis3-23.10/lib/python3.10/site-packages/xarray/plot/dataarray_plot.py:2026: UserWarning: The following kwargs were not used by contour: 'linestyle'\n",
      "  primitive = ax.contour(x, y, z, **kwargs)\n"
     ]
    },
    {
     "name": "stdout",
     "output_type": "stream",
     "text": [
      "13\n"
     ]
    },
    {
     "name": "stderr",
     "output_type": "stream",
     "text": [
      "/g/data/hh5/public/apps/miniconda3/envs/analysis3-23.10/lib/python3.10/site-packages/xrft/xrft.py:573: FutureWarning: Default ifft's behaviour (lag=None) changed! Default value of lag was zero (centered output coordinates) and is now set to transformed coordinate's attribute: 'direct_lag'.\n",
      "  warnings.warn(msg, FutureWarning)\n",
      "/g/data/hh5/public/apps/miniconda3/envs/analysis3-23.10/lib/python3.10/site-packages/xrft/xrft.py:573: FutureWarning: Default ifft's behaviour (lag=None) changed! Default value of lag was zero (centered output coordinates) and is now set to transformed coordinate's attribute: 'direct_lag'.\n",
      "  warnings.warn(msg, FutureWarning)\n",
      "/jobfs/103200509.gadi-pbs/ipykernel_869543/3989176887.py:10: MatplotlibDeprecationWarning: The get_cmap function was deprecated in Matplotlib 3.7 and will be removed two minor releases later. Use ``matplotlib.colormaps[name]`` or ``matplotlib.colormaps.get_cmap(obj)`` instead.\n",
      "  cmap = matplotlib.cm.get_cmap('plasma')\n",
      "/g/data/hh5/public/apps/miniconda3/envs/analysis3-23.10/lib/python3.10/site-packages/xarray/plot/dataarray_plot.py:2026: UserWarning: The following kwargs were not used by contour: 'linestyle'\n",
      "  primitive = ax.contour(x, y, z, **kwargs)\n",
      "/g/data/hh5/public/apps/miniconda3/envs/analysis3-23.10/lib/python3.10/site-packages/xarray/plot/dataarray_plot.py:2026: UserWarning: The following kwargs were not used by contour: 'linestyle'\n",
      "  primitive = ax.contour(x, y, z, **kwargs)\n"
     ]
    },
    {
     "name": "stdout",
     "output_type": "stream",
     "text": [
      "14\n"
     ]
    },
    {
     "name": "stderr",
     "output_type": "stream",
     "text": [
      "/g/data/hh5/public/apps/miniconda3/envs/analysis3-23.10/lib/python3.10/site-packages/xrft/xrft.py:573: FutureWarning: Default ifft's behaviour (lag=None) changed! Default value of lag was zero (centered output coordinates) and is now set to transformed coordinate's attribute: 'direct_lag'.\n",
      "  warnings.warn(msg, FutureWarning)\n",
      "/g/data/hh5/public/apps/miniconda3/envs/analysis3-23.10/lib/python3.10/site-packages/xrft/xrft.py:573: FutureWarning: Default ifft's behaviour (lag=None) changed! Default value of lag was zero (centered output coordinates) and is now set to transformed coordinate's attribute: 'direct_lag'.\n",
      "  warnings.warn(msg, FutureWarning)\n",
      "/jobfs/103200509.gadi-pbs/ipykernel_869543/3989176887.py:10: MatplotlibDeprecationWarning: The get_cmap function was deprecated in Matplotlib 3.7 and will be removed two minor releases later. Use ``matplotlib.colormaps[name]`` or ``matplotlib.colormaps.get_cmap(obj)`` instead.\n",
      "  cmap = matplotlib.cm.get_cmap('plasma')\n",
      "/g/data/hh5/public/apps/miniconda3/envs/analysis3-23.10/lib/python3.10/site-packages/xarray/plot/dataarray_plot.py:2026: UserWarning: The following kwargs were not used by contour: 'linestyle'\n",
      "  primitive = ax.contour(x, y, z, **kwargs)\n",
      "/g/data/hh5/public/apps/miniconda3/envs/analysis3-23.10/lib/python3.10/site-packages/xarray/plot/dataarray_plot.py:2026: UserWarning: The following kwargs were not used by contour: 'linestyle'\n",
      "  primitive = ax.contour(x, y, z, **kwargs)\n"
     ]
    },
    {
     "name": "stdout",
     "output_type": "stream",
     "text": [
      "15\n"
     ]
    },
    {
     "name": "stderr",
     "output_type": "stream",
     "text": [
      "/g/data/hh5/public/apps/miniconda3/envs/analysis3-23.10/lib/python3.10/site-packages/xrft/xrft.py:573: FutureWarning: Default ifft's behaviour (lag=None) changed! Default value of lag was zero (centered output coordinates) and is now set to transformed coordinate's attribute: 'direct_lag'.\n",
      "  warnings.warn(msg, FutureWarning)\n",
      "/g/data/hh5/public/apps/miniconda3/envs/analysis3-23.10/lib/python3.10/site-packages/xrft/xrft.py:573: FutureWarning: Default ifft's behaviour (lag=None) changed! Default value of lag was zero (centered output coordinates) and is now set to transformed coordinate's attribute: 'direct_lag'.\n",
      "  warnings.warn(msg, FutureWarning)\n",
      "/jobfs/103200509.gadi-pbs/ipykernel_869543/3989176887.py:10: MatplotlibDeprecationWarning: The get_cmap function was deprecated in Matplotlib 3.7 and will be removed two minor releases later. Use ``matplotlib.colormaps[name]`` or ``matplotlib.colormaps.get_cmap(obj)`` instead.\n",
      "  cmap = matplotlib.cm.get_cmap('plasma')\n",
      "/g/data/hh5/public/apps/miniconda3/envs/analysis3-23.10/lib/python3.10/site-packages/xarray/plot/dataarray_plot.py:2026: UserWarning: The following kwargs were not used by contour: 'linestyle'\n",
      "  primitive = ax.contour(x, y, z, **kwargs)\n",
      "/g/data/hh5/public/apps/miniconda3/envs/analysis3-23.10/lib/python3.10/site-packages/xarray/plot/dataarray_plot.py:2026: UserWarning: The following kwargs were not used by contour: 'linestyle'\n",
      "  primitive = ax.contour(x, y, z, **kwargs)\n"
     ]
    },
    {
     "name": "stdout",
     "output_type": "stream",
     "text": [
      "16\n"
     ]
    },
    {
     "name": "stderr",
     "output_type": "stream",
     "text": [
      "/g/data/hh5/public/apps/miniconda3/envs/analysis3-23.10/lib/python3.10/site-packages/xrft/xrft.py:573: FutureWarning: Default ifft's behaviour (lag=None) changed! Default value of lag was zero (centered output coordinates) and is now set to transformed coordinate's attribute: 'direct_lag'.\n",
      "  warnings.warn(msg, FutureWarning)\n",
      "/g/data/hh5/public/apps/miniconda3/envs/analysis3-23.10/lib/python3.10/site-packages/xrft/xrft.py:573: FutureWarning: Default ifft's behaviour (lag=None) changed! Default value of lag was zero (centered output coordinates) and is now set to transformed coordinate's attribute: 'direct_lag'.\n",
      "  warnings.warn(msg, FutureWarning)\n",
      "/jobfs/103200509.gadi-pbs/ipykernel_869543/3989176887.py:10: MatplotlibDeprecationWarning: The get_cmap function was deprecated in Matplotlib 3.7 and will be removed two minor releases later. Use ``matplotlib.colormaps[name]`` or ``matplotlib.colormaps.get_cmap(obj)`` instead.\n",
      "  cmap = matplotlib.cm.get_cmap('plasma')\n",
      "/g/data/hh5/public/apps/miniconda3/envs/analysis3-23.10/lib/python3.10/site-packages/xarray/plot/dataarray_plot.py:2026: UserWarning: The following kwargs were not used by contour: 'linestyle'\n",
      "  primitive = ax.contour(x, y, z, **kwargs)\n",
      "/g/data/hh5/public/apps/miniconda3/envs/analysis3-23.10/lib/python3.10/site-packages/xarray/plot/dataarray_plot.py:2026: UserWarning: The following kwargs were not used by contour: 'linestyle'\n",
      "  primitive = ax.contour(x, y, z, **kwargs)\n"
     ]
    },
    {
     "name": "stdout",
     "output_type": "stream",
     "text": [
      "17\n"
     ]
    },
    {
     "name": "stderr",
     "output_type": "stream",
     "text": [
      "/g/data/hh5/public/apps/miniconda3/envs/analysis3-23.10/lib/python3.10/site-packages/xrft/xrft.py:573: FutureWarning: Default ifft's behaviour (lag=None) changed! Default value of lag was zero (centered output coordinates) and is now set to transformed coordinate's attribute: 'direct_lag'.\n",
      "  warnings.warn(msg, FutureWarning)\n",
      "/g/data/hh5/public/apps/miniconda3/envs/analysis3-23.10/lib/python3.10/site-packages/xrft/xrft.py:573: FutureWarning: Default ifft's behaviour (lag=None) changed! Default value of lag was zero (centered output coordinates) and is now set to transformed coordinate's attribute: 'direct_lag'.\n",
      "  warnings.warn(msg, FutureWarning)\n",
      "/jobfs/103200509.gadi-pbs/ipykernel_869543/3989176887.py:10: MatplotlibDeprecationWarning: The get_cmap function was deprecated in Matplotlib 3.7 and will be removed two minor releases later. Use ``matplotlib.colormaps[name]`` or ``matplotlib.colormaps.get_cmap(obj)`` instead.\n",
      "  cmap = matplotlib.cm.get_cmap('plasma')\n",
      "/g/data/hh5/public/apps/miniconda3/envs/analysis3-23.10/lib/python3.10/site-packages/xarray/plot/dataarray_plot.py:2026: UserWarning: The following kwargs were not used by contour: 'linestyle'\n",
      "  primitive = ax.contour(x, y, z, **kwargs)\n",
      "/g/data/hh5/public/apps/miniconda3/envs/analysis3-23.10/lib/python3.10/site-packages/xarray/plot/dataarray_plot.py:2026: UserWarning: The following kwargs were not used by contour: 'linestyle'\n",
      "  primitive = ax.contour(x, y, z, **kwargs)\n"
     ]
    },
    {
     "name": "stdout",
     "output_type": "stream",
     "text": [
      "18\n"
     ]
    },
    {
     "name": "stderr",
     "output_type": "stream",
     "text": [
      "/g/data/hh5/public/apps/miniconda3/envs/analysis3-23.10/lib/python3.10/site-packages/xrft/xrft.py:573: FutureWarning: Default ifft's behaviour (lag=None) changed! Default value of lag was zero (centered output coordinates) and is now set to transformed coordinate's attribute: 'direct_lag'.\n",
      "  warnings.warn(msg, FutureWarning)\n",
      "/g/data/hh5/public/apps/miniconda3/envs/analysis3-23.10/lib/python3.10/site-packages/xrft/xrft.py:573: FutureWarning: Default ifft's behaviour (lag=None) changed! Default value of lag was zero (centered output coordinates) and is now set to transformed coordinate's attribute: 'direct_lag'.\n",
      "  warnings.warn(msg, FutureWarning)\n",
      "/jobfs/103200509.gadi-pbs/ipykernel_869543/3989176887.py:10: MatplotlibDeprecationWarning: The get_cmap function was deprecated in Matplotlib 3.7 and will be removed two minor releases later. Use ``matplotlib.colormaps[name]`` or ``matplotlib.colormaps.get_cmap(obj)`` instead.\n",
      "  cmap = matplotlib.cm.get_cmap('plasma')\n",
      "/g/data/hh5/public/apps/miniconda3/envs/analysis3-23.10/lib/python3.10/site-packages/xarray/plot/dataarray_plot.py:2026: UserWarning: The following kwargs were not used by contour: 'linestyle'\n",
      "  primitive = ax.contour(x, y, z, **kwargs)\n",
      "/g/data/hh5/public/apps/miniconda3/envs/analysis3-23.10/lib/python3.10/site-packages/xarray/plot/dataarray_plot.py:2026: UserWarning: The following kwargs were not used by contour: 'linestyle'\n",
      "  primitive = ax.contour(x, y, z, **kwargs)\n"
     ]
    },
    {
     "name": "stdout",
     "output_type": "stream",
     "text": [
      "19\n"
     ]
    },
    {
     "name": "stderr",
     "output_type": "stream",
     "text": [
      "/g/data/hh5/public/apps/miniconda3/envs/analysis3-23.10/lib/python3.10/site-packages/xrft/xrft.py:573: FutureWarning: Default ifft's behaviour (lag=None) changed! Default value of lag was zero (centered output coordinates) and is now set to transformed coordinate's attribute: 'direct_lag'.\n",
      "  warnings.warn(msg, FutureWarning)\n",
      "/g/data/hh5/public/apps/miniconda3/envs/analysis3-23.10/lib/python3.10/site-packages/xrft/xrft.py:573: FutureWarning: Default ifft's behaviour (lag=None) changed! Default value of lag was zero (centered output coordinates) and is now set to transformed coordinate's attribute: 'direct_lag'.\n",
      "  warnings.warn(msg, FutureWarning)\n",
      "/jobfs/103200509.gadi-pbs/ipykernel_869543/3989176887.py:10: MatplotlibDeprecationWarning: The get_cmap function was deprecated in Matplotlib 3.7 and will be removed two minor releases later. Use ``matplotlib.colormaps[name]`` or ``matplotlib.colormaps.get_cmap(obj)`` instead.\n",
      "  cmap = matplotlib.cm.get_cmap('plasma')\n",
      "/g/data/hh5/public/apps/miniconda3/envs/analysis3-23.10/lib/python3.10/site-packages/xarray/plot/dataarray_plot.py:2026: UserWarning: The following kwargs were not used by contour: 'linestyle'\n",
      "  primitive = ax.contour(x, y, z, **kwargs)\n",
      "/g/data/hh5/public/apps/miniconda3/envs/analysis3-23.10/lib/python3.10/site-packages/xarray/plot/dataarray_plot.py:2026: UserWarning: The following kwargs were not used by contour: 'linestyle'\n",
      "  primitive = ax.contour(x, y, z, **kwargs)\n"
     ]
    },
    {
     "name": "stdout",
     "output_type": "stream",
     "text": [
      "20\n"
     ]
    },
    {
     "name": "stderr",
     "output_type": "stream",
     "text": [
      "/g/data/hh5/public/apps/miniconda3/envs/analysis3-23.10/lib/python3.10/site-packages/xrft/xrft.py:573: FutureWarning: Default ifft's behaviour (lag=None) changed! Default value of lag was zero (centered output coordinates) and is now set to transformed coordinate's attribute: 'direct_lag'.\n",
      "  warnings.warn(msg, FutureWarning)\n",
      "/g/data/hh5/public/apps/miniconda3/envs/analysis3-23.10/lib/python3.10/site-packages/xrft/xrft.py:573: FutureWarning: Default ifft's behaviour (lag=None) changed! Default value of lag was zero (centered output coordinates) and is now set to transformed coordinate's attribute: 'direct_lag'.\n",
      "  warnings.warn(msg, FutureWarning)\n",
      "/jobfs/103200509.gadi-pbs/ipykernel_869543/3989176887.py:4: RuntimeWarning: More than 20 figures have been opened. Figures created through the pyplot interface (`matplotlib.pyplot.figure`) are retained until explicitly closed and may consume too much memory. (To control this warning, see the rcParam `figure.max_open_warning`). Consider using `matplotlib.pyplot.close()`.\n",
      "  fig = plt.figure(figsize=(20, 12))\n",
      "/jobfs/103200509.gadi-pbs/ipykernel_869543/3989176887.py:10: MatplotlibDeprecationWarning: The get_cmap function was deprecated in Matplotlib 3.7 and will be removed two minor releases later. Use ``matplotlib.colormaps[name]`` or ``matplotlib.colormaps.get_cmap(obj)`` instead.\n",
      "  cmap = matplotlib.cm.get_cmap('plasma')\n",
      "/g/data/hh5/public/apps/miniconda3/envs/analysis3-23.10/lib/python3.10/site-packages/xarray/plot/dataarray_plot.py:2026: UserWarning: The following kwargs were not used by contour: 'linestyle'\n",
      "  primitive = ax.contour(x, y, z, **kwargs)\n",
      "/g/data/hh5/public/apps/miniconda3/envs/analysis3-23.10/lib/python3.10/site-packages/xarray/plot/dataarray_plot.py:2026: UserWarning: The following kwargs were not used by contour: 'linestyle'\n",
      "  primitive = ax.contour(x, y, z, **kwargs)\n"
     ]
    },
    {
     "name": "stdout",
     "output_type": "stream",
     "text": [
      "21\n"
     ]
    },
    {
     "name": "stderr",
     "output_type": "stream",
     "text": [
      "/g/data/hh5/public/apps/miniconda3/envs/analysis3-23.10/lib/python3.10/site-packages/xrft/xrft.py:573: FutureWarning: Default ifft's behaviour (lag=None) changed! Default value of lag was zero (centered output coordinates) and is now set to transformed coordinate's attribute: 'direct_lag'.\n",
      "  warnings.warn(msg, FutureWarning)\n",
      "/g/data/hh5/public/apps/miniconda3/envs/analysis3-23.10/lib/python3.10/site-packages/xrft/xrft.py:573: FutureWarning: Default ifft's behaviour (lag=None) changed! Default value of lag was zero (centered output coordinates) and is now set to transformed coordinate's attribute: 'direct_lag'.\n",
      "  warnings.warn(msg, FutureWarning)\n",
      "/jobfs/103200509.gadi-pbs/ipykernel_869543/3989176887.py:10: MatplotlibDeprecationWarning: The get_cmap function was deprecated in Matplotlib 3.7 and will be removed two minor releases later. Use ``matplotlib.colormaps[name]`` or ``matplotlib.colormaps.get_cmap(obj)`` instead.\n",
      "  cmap = matplotlib.cm.get_cmap('plasma')\n",
      "/g/data/hh5/public/apps/miniconda3/envs/analysis3-23.10/lib/python3.10/site-packages/xarray/plot/dataarray_plot.py:2026: UserWarning: The following kwargs were not used by contour: 'linestyle'\n",
      "  primitive = ax.contour(x, y, z, **kwargs)\n",
      "/g/data/hh5/public/apps/miniconda3/envs/analysis3-23.10/lib/python3.10/site-packages/xarray/plot/dataarray_plot.py:2026: UserWarning: The following kwargs were not used by contour: 'linestyle'\n",
      "  primitive = ax.contour(x, y, z, **kwargs)\n"
     ]
    },
    {
     "name": "stdout",
     "output_type": "stream",
     "text": [
      "22\n"
     ]
    },
    {
     "name": "stderr",
     "output_type": "stream",
     "text": [
      "/g/data/hh5/public/apps/miniconda3/envs/analysis3-23.10/lib/python3.10/site-packages/xrft/xrft.py:573: FutureWarning: Default ifft's behaviour (lag=None) changed! Default value of lag was zero (centered output coordinates) and is now set to transformed coordinate's attribute: 'direct_lag'.\n",
      "  warnings.warn(msg, FutureWarning)\n",
      "/g/data/hh5/public/apps/miniconda3/envs/analysis3-23.10/lib/python3.10/site-packages/xrft/xrft.py:573: FutureWarning: Default ifft's behaviour (lag=None) changed! Default value of lag was zero (centered output coordinates) and is now set to transformed coordinate's attribute: 'direct_lag'.\n",
      "  warnings.warn(msg, FutureWarning)\n",
      "/jobfs/103200509.gadi-pbs/ipykernel_869543/3989176887.py:10: MatplotlibDeprecationWarning: The get_cmap function was deprecated in Matplotlib 3.7 and will be removed two minor releases later. Use ``matplotlib.colormaps[name]`` or ``matplotlib.colormaps.get_cmap(obj)`` instead.\n",
      "  cmap = matplotlib.cm.get_cmap('plasma')\n",
      "/g/data/hh5/public/apps/miniconda3/envs/analysis3-23.10/lib/python3.10/site-packages/xarray/plot/dataarray_plot.py:2026: UserWarning: The following kwargs were not used by contour: 'linestyle'\n",
      "  primitive = ax.contour(x, y, z, **kwargs)\n",
      "/g/data/hh5/public/apps/miniconda3/envs/analysis3-23.10/lib/python3.10/site-packages/xarray/plot/dataarray_plot.py:2026: UserWarning: The following kwargs were not used by contour: 'linestyle'\n",
      "  primitive = ax.contour(x, y, z, **kwargs)\n"
     ]
    },
    {
     "name": "stdout",
     "output_type": "stream",
     "text": [
      "23\n"
     ]
    },
    {
     "name": "stderr",
     "output_type": "stream",
     "text": [
      "/g/data/hh5/public/apps/miniconda3/envs/analysis3-23.10/lib/python3.10/site-packages/xrft/xrft.py:573: FutureWarning: Default ifft's behaviour (lag=None) changed! Default value of lag was zero (centered output coordinates) and is now set to transformed coordinate's attribute: 'direct_lag'.\n",
      "  warnings.warn(msg, FutureWarning)\n",
      "/g/data/hh5/public/apps/miniconda3/envs/analysis3-23.10/lib/python3.10/site-packages/xrft/xrft.py:573: FutureWarning: Default ifft's behaviour (lag=None) changed! Default value of lag was zero (centered output coordinates) and is now set to transformed coordinate's attribute: 'direct_lag'.\n",
      "  warnings.warn(msg, FutureWarning)\n",
      "/jobfs/103200509.gadi-pbs/ipykernel_869543/3989176887.py:10: MatplotlibDeprecationWarning: The get_cmap function was deprecated in Matplotlib 3.7 and will be removed two minor releases later. Use ``matplotlib.colormaps[name]`` or ``matplotlib.colormaps.get_cmap(obj)`` instead.\n",
      "  cmap = matplotlib.cm.get_cmap('plasma')\n",
      "/g/data/hh5/public/apps/miniconda3/envs/analysis3-23.10/lib/python3.10/site-packages/xarray/plot/dataarray_plot.py:2026: UserWarning: The following kwargs were not used by contour: 'linestyle'\n",
      "  primitive = ax.contour(x, y, z, **kwargs)\n",
      "/g/data/hh5/public/apps/miniconda3/envs/analysis3-23.10/lib/python3.10/site-packages/xarray/plot/dataarray_plot.py:2026: UserWarning: The following kwargs were not used by contour: 'linestyle'\n",
      "  primitive = ax.contour(x, y, z, **kwargs)\n"
     ]
    },
    {
     "name": "stdout",
     "output_type": "stream",
     "text": [
      "24\n"
     ]
    },
    {
     "name": "stderr",
     "output_type": "stream",
     "text": [
      "/g/data/hh5/public/apps/miniconda3/envs/analysis3-23.10/lib/python3.10/site-packages/xrft/xrft.py:573: FutureWarning: Default ifft's behaviour (lag=None) changed! Default value of lag was zero (centered output coordinates) and is now set to transformed coordinate's attribute: 'direct_lag'.\n",
      "  warnings.warn(msg, FutureWarning)\n",
      "/g/data/hh5/public/apps/miniconda3/envs/analysis3-23.10/lib/python3.10/site-packages/xrft/xrft.py:573: FutureWarning: Default ifft's behaviour (lag=None) changed! Default value of lag was zero (centered output coordinates) and is now set to transformed coordinate's attribute: 'direct_lag'.\n",
      "  warnings.warn(msg, FutureWarning)\n",
      "/jobfs/103200509.gadi-pbs/ipykernel_869543/3989176887.py:10: MatplotlibDeprecationWarning: The get_cmap function was deprecated in Matplotlib 3.7 and will be removed two minor releases later. Use ``matplotlib.colormaps[name]`` or ``matplotlib.colormaps.get_cmap(obj)`` instead.\n",
      "  cmap = matplotlib.cm.get_cmap('plasma')\n",
      "/g/data/hh5/public/apps/miniconda3/envs/analysis3-23.10/lib/python3.10/site-packages/xarray/plot/dataarray_plot.py:2026: UserWarning: The following kwargs were not used by contour: 'linestyle'\n",
      "  primitive = ax.contour(x, y, z, **kwargs)\n",
      "/g/data/hh5/public/apps/miniconda3/envs/analysis3-23.10/lib/python3.10/site-packages/xarray/plot/dataarray_plot.py:2026: UserWarning: The following kwargs were not used by contour: 'linestyle'\n",
      "  primitive = ax.contour(x, y, z, **kwargs)\n"
     ]
    },
    {
     "name": "stdout",
     "output_type": "stream",
     "text": [
      "25\n"
     ]
    },
    {
     "name": "stderr",
     "output_type": "stream",
     "text": [
      "/g/data/hh5/public/apps/miniconda3/envs/analysis3-23.10/lib/python3.10/site-packages/xrft/xrft.py:573: FutureWarning: Default ifft's behaviour (lag=None) changed! Default value of lag was zero (centered output coordinates) and is now set to transformed coordinate's attribute: 'direct_lag'.\n",
      "  warnings.warn(msg, FutureWarning)\n",
      "/g/data/hh5/public/apps/miniconda3/envs/analysis3-23.10/lib/python3.10/site-packages/xrft/xrft.py:573: FutureWarning: Default ifft's behaviour (lag=None) changed! Default value of lag was zero (centered output coordinates) and is now set to transformed coordinate's attribute: 'direct_lag'.\n",
      "  warnings.warn(msg, FutureWarning)\n",
      "/jobfs/103200509.gadi-pbs/ipykernel_869543/3989176887.py:10: MatplotlibDeprecationWarning: The get_cmap function was deprecated in Matplotlib 3.7 and will be removed two minor releases later. Use ``matplotlib.colormaps[name]`` or ``matplotlib.colormaps.get_cmap(obj)`` instead.\n",
      "  cmap = matplotlib.cm.get_cmap('plasma')\n",
      "/g/data/hh5/public/apps/miniconda3/envs/analysis3-23.10/lib/python3.10/site-packages/xarray/plot/dataarray_plot.py:2026: UserWarning: The following kwargs were not used by contour: 'linestyle'\n",
      "  primitive = ax.contour(x, y, z, **kwargs)\n",
      "/g/data/hh5/public/apps/miniconda3/envs/analysis3-23.10/lib/python3.10/site-packages/xarray/plot/dataarray_plot.py:2026: UserWarning: The following kwargs were not used by contour: 'linestyle'\n",
      "  primitive = ax.contour(x, y, z, **kwargs)\n"
     ]
    },
    {
     "name": "stdout",
     "output_type": "stream",
     "text": [
      "26\n"
     ]
    },
    {
     "name": "stderr",
     "output_type": "stream",
     "text": [
      "/g/data/hh5/public/apps/miniconda3/envs/analysis3-23.10/lib/python3.10/site-packages/xrft/xrft.py:573: FutureWarning: Default ifft's behaviour (lag=None) changed! Default value of lag was zero (centered output coordinates) and is now set to transformed coordinate's attribute: 'direct_lag'.\n",
      "  warnings.warn(msg, FutureWarning)\n",
      "/g/data/hh5/public/apps/miniconda3/envs/analysis3-23.10/lib/python3.10/site-packages/xrft/xrft.py:573: FutureWarning: Default ifft's behaviour (lag=None) changed! Default value of lag was zero (centered output coordinates) and is now set to transformed coordinate's attribute: 'direct_lag'.\n",
      "  warnings.warn(msg, FutureWarning)\n",
      "/jobfs/103200509.gadi-pbs/ipykernel_869543/3989176887.py:10: MatplotlibDeprecationWarning: The get_cmap function was deprecated in Matplotlib 3.7 and will be removed two minor releases later. Use ``matplotlib.colormaps[name]`` or ``matplotlib.colormaps.get_cmap(obj)`` instead.\n",
      "  cmap = matplotlib.cm.get_cmap('plasma')\n",
      "/g/data/hh5/public/apps/miniconda3/envs/analysis3-23.10/lib/python3.10/site-packages/xarray/plot/dataarray_plot.py:2026: UserWarning: The following kwargs were not used by contour: 'linestyle'\n",
      "  primitive = ax.contour(x, y, z, **kwargs)\n",
      "/g/data/hh5/public/apps/miniconda3/envs/analysis3-23.10/lib/python3.10/site-packages/xarray/plot/dataarray_plot.py:2026: UserWarning: The following kwargs were not used by contour: 'linestyle'\n",
      "  primitive = ax.contour(x, y, z, **kwargs)\n"
     ]
    },
    {
     "name": "stdout",
     "output_type": "stream",
     "text": [
      "27\n"
     ]
    },
    {
     "name": "stderr",
     "output_type": "stream",
     "text": [
      "/g/data/hh5/public/apps/miniconda3/envs/analysis3-23.10/lib/python3.10/site-packages/xrft/xrft.py:573: FutureWarning: Default ifft's behaviour (lag=None) changed! Default value of lag was zero (centered output coordinates) and is now set to transformed coordinate's attribute: 'direct_lag'.\n",
      "  warnings.warn(msg, FutureWarning)\n",
      "/g/data/hh5/public/apps/miniconda3/envs/analysis3-23.10/lib/python3.10/site-packages/xrft/xrft.py:573: FutureWarning: Default ifft's behaviour (lag=None) changed! Default value of lag was zero (centered output coordinates) and is now set to transformed coordinate's attribute: 'direct_lag'.\n",
      "  warnings.warn(msg, FutureWarning)\n",
      "/jobfs/103200509.gadi-pbs/ipykernel_869543/3989176887.py:10: MatplotlibDeprecationWarning: The get_cmap function was deprecated in Matplotlib 3.7 and will be removed two minor releases later. Use ``matplotlib.colormaps[name]`` or ``matplotlib.colormaps.get_cmap(obj)`` instead.\n",
      "  cmap = matplotlib.cm.get_cmap('plasma')\n",
      "/g/data/hh5/public/apps/miniconda3/envs/analysis3-23.10/lib/python3.10/site-packages/xarray/plot/dataarray_plot.py:2026: UserWarning: The following kwargs were not used by contour: 'linestyle'\n",
      "  primitive = ax.contour(x, y, z, **kwargs)\n",
      "/g/data/hh5/public/apps/miniconda3/envs/analysis3-23.10/lib/python3.10/site-packages/xarray/plot/dataarray_plot.py:2026: UserWarning: The following kwargs were not used by contour: 'linestyle'\n",
      "  primitive = ax.contour(x, y, z, **kwargs)\n"
     ]
    },
    {
     "name": "stdout",
     "output_type": "stream",
     "text": [
      "28\n"
     ]
    },
    {
     "name": "stderr",
     "output_type": "stream",
     "text": [
      "/g/data/hh5/public/apps/miniconda3/envs/analysis3-23.10/lib/python3.10/site-packages/xrft/xrft.py:573: FutureWarning: Default ifft's behaviour (lag=None) changed! Default value of lag was zero (centered output coordinates) and is now set to transformed coordinate's attribute: 'direct_lag'.\n",
      "  warnings.warn(msg, FutureWarning)\n",
      "/g/data/hh5/public/apps/miniconda3/envs/analysis3-23.10/lib/python3.10/site-packages/xrft/xrft.py:573: FutureWarning: Default ifft's behaviour (lag=None) changed! Default value of lag was zero (centered output coordinates) and is now set to transformed coordinate's attribute: 'direct_lag'.\n",
      "  warnings.warn(msg, FutureWarning)\n",
      "/jobfs/103200509.gadi-pbs/ipykernel_869543/3989176887.py:10: MatplotlibDeprecationWarning: The get_cmap function was deprecated in Matplotlib 3.7 and will be removed two minor releases later. Use ``matplotlib.colormaps[name]`` or ``matplotlib.colormaps.get_cmap(obj)`` instead.\n",
      "  cmap = matplotlib.cm.get_cmap('plasma')\n",
      "/g/data/hh5/public/apps/miniconda3/envs/analysis3-23.10/lib/python3.10/site-packages/xarray/plot/dataarray_plot.py:2026: UserWarning: The following kwargs were not used by contour: 'linestyle'\n",
      "  primitive = ax.contour(x, y, z, **kwargs)\n",
      "/g/data/hh5/public/apps/miniconda3/envs/analysis3-23.10/lib/python3.10/site-packages/xarray/plot/dataarray_plot.py:2026: UserWarning: The following kwargs were not used by contour: 'linestyle'\n",
      "  primitive = ax.contour(x, y, z, **kwargs)\n"
     ]
    },
    {
     "name": "stdout",
     "output_type": "stream",
     "text": [
      "29\n"
     ]
    },
    {
     "name": "stderr",
     "output_type": "stream",
     "text": [
      "/g/data/hh5/public/apps/miniconda3/envs/analysis3-23.10/lib/python3.10/site-packages/xrft/xrft.py:573: FutureWarning: Default ifft's behaviour (lag=None) changed! Default value of lag was zero (centered output coordinates) and is now set to transformed coordinate's attribute: 'direct_lag'.\n",
      "  warnings.warn(msg, FutureWarning)\n",
      "/g/data/hh5/public/apps/miniconda3/envs/analysis3-23.10/lib/python3.10/site-packages/xrft/xrft.py:573: FutureWarning: Default ifft's behaviour (lag=None) changed! Default value of lag was zero (centered output coordinates) and is now set to transformed coordinate's attribute: 'direct_lag'.\n",
      "  warnings.warn(msg, FutureWarning)\n",
      "/jobfs/103200509.gadi-pbs/ipykernel_869543/3989176887.py:10: MatplotlibDeprecationWarning: The get_cmap function was deprecated in Matplotlib 3.7 and will be removed two minor releases later. Use ``matplotlib.colormaps[name]`` or ``matplotlib.colormaps.get_cmap(obj)`` instead.\n",
      "  cmap = matplotlib.cm.get_cmap('plasma')\n",
      "/g/data/hh5/public/apps/miniconda3/envs/analysis3-23.10/lib/python3.10/site-packages/xarray/plot/dataarray_plot.py:2026: UserWarning: The following kwargs were not used by contour: 'linestyle'\n",
      "  primitive = ax.contour(x, y, z, **kwargs)\n",
      "/g/data/hh5/public/apps/miniconda3/envs/analysis3-23.10/lib/python3.10/site-packages/xarray/plot/dataarray_plot.py:2026: UserWarning: The following kwargs were not used by contour: 'linestyle'\n",
      "  primitive = ax.contour(x, y, z, **kwargs)\n"
     ]
    },
    {
     "name": "stdout",
     "output_type": "stream",
     "text": [
      "30\n"
     ]
    },
    {
     "name": "stderr",
     "output_type": "stream",
     "text": [
      "/g/data/hh5/public/apps/miniconda3/envs/analysis3-23.10/lib/python3.10/site-packages/xrft/xrft.py:573: FutureWarning: Default ifft's behaviour (lag=None) changed! Default value of lag was zero (centered output coordinates) and is now set to transformed coordinate's attribute: 'direct_lag'.\n",
      "  warnings.warn(msg, FutureWarning)\n",
      "/g/data/hh5/public/apps/miniconda3/envs/analysis3-23.10/lib/python3.10/site-packages/xrft/xrft.py:573: FutureWarning: Default ifft's behaviour (lag=None) changed! Default value of lag was zero (centered output coordinates) and is now set to transformed coordinate's attribute: 'direct_lag'.\n",
      "  warnings.warn(msg, FutureWarning)\n",
      "/jobfs/103200509.gadi-pbs/ipykernel_869543/3989176887.py:10: MatplotlibDeprecationWarning: The get_cmap function was deprecated in Matplotlib 3.7 and will be removed two minor releases later. Use ``matplotlib.colormaps[name]`` or ``matplotlib.colormaps.get_cmap(obj)`` instead.\n",
      "  cmap = matplotlib.cm.get_cmap('plasma')\n",
      "/g/data/hh5/public/apps/miniconda3/envs/analysis3-23.10/lib/python3.10/site-packages/xarray/plot/dataarray_plot.py:2026: UserWarning: The following kwargs were not used by contour: 'linestyle'\n",
      "  primitive = ax.contour(x, y, z, **kwargs)\n",
      "/g/data/hh5/public/apps/miniconda3/envs/analysis3-23.10/lib/python3.10/site-packages/xarray/plot/dataarray_plot.py:2026: UserWarning: The following kwargs were not used by contour: 'linestyle'\n",
      "  primitive = ax.contour(x, y, z, **kwargs)\n"
     ]
    },
    {
     "name": "stdout",
     "output_type": "stream",
     "text": [
      "31\n"
     ]
    },
    {
     "name": "stderr",
     "output_type": "stream",
     "text": [
      "/g/data/hh5/public/apps/miniconda3/envs/analysis3-23.10/lib/python3.10/site-packages/xrft/xrft.py:573: FutureWarning: Default ifft's behaviour (lag=None) changed! Default value of lag was zero (centered output coordinates) and is now set to transformed coordinate's attribute: 'direct_lag'.\n",
      "  warnings.warn(msg, FutureWarning)\n",
      "/g/data/hh5/public/apps/miniconda3/envs/analysis3-23.10/lib/python3.10/site-packages/xrft/xrft.py:573: FutureWarning: Default ifft's behaviour (lag=None) changed! Default value of lag was zero (centered output coordinates) and is now set to transformed coordinate's attribute: 'direct_lag'.\n",
      "  warnings.warn(msg, FutureWarning)\n",
      "/jobfs/103200509.gadi-pbs/ipykernel_869543/3989176887.py:10: MatplotlibDeprecationWarning: The get_cmap function was deprecated in Matplotlib 3.7 and will be removed two minor releases later. Use ``matplotlib.colormaps[name]`` or ``matplotlib.colormaps.get_cmap(obj)`` instead.\n",
      "  cmap = matplotlib.cm.get_cmap('plasma')\n",
      "/g/data/hh5/public/apps/miniconda3/envs/analysis3-23.10/lib/python3.10/site-packages/xarray/plot/dataarray_plot.py:2026: UserWarning: The following kwargs were not used by contour: 'linestyle'\n",
      "  primitive = ax.contour(x, y, z, **kwargs)\n",
      "/g/data/hh5/public/apps/miniconda3/envs/analysis3-23.10/lib/python3.10/site-packages/xarray/plot/dataarray_plot.py:2026: UserWarning: The following kwargs were not used by contour: 'linestyle'\n",
      "  primitive = ax.contour(x, y, z, **kwargs)\n"
     ]
    },
    {
     "name": "stdout",
     "output_type": "stream",
     "text": [
      "32\n"
     ]
    },
    {
     "name": "stderr",
     "output_type": "stream",
     "text": [
      "/g/data/hh5/public/apps/miniconda3/envs/analysis3-23.10/lib/python3.10/site-packages/xrft/xrft.py:573: FutureWarning: Default ifft's behaviour (lag=None) changed! Default value of lag was zero (centered output coordinates) and is now set to transformed coordinate's attribute: 'direct_lag'.\n",
      "  warnings.warn(msg, FutureWarning)\n",
      "/g/data/hh5/public/apps/miniconda3/envs/analysis3-23.10/lib/python3.10/site-packages/xrft/xrft.py:573: FutureWarning: Default ifft's behaviour (lag=None) changed! Default value of lag was zero (centered output coordinates) and is now set to transformed coordinate's attribute: 'direct_lag'.\n",
      "  warnings.warn(msg, FutureWarning)\n",
      "/jobfs/103200509.gadi-pbs/ipykernel_869543/3989176887.py:10: MatplotlibDeprecationWarning: The get_cmap function was deprecated in Matplotlib 3.7 and will be removed two minor releases later. Use ``matplotlib.colormaps[name]`` or ``matplotlib.colormaps.get_cmap(obj)`` instead.\n",
      "  cmap = matplotlib.cm.get_cmap('plasma')\n",
      "/g/data/hh5/public/apps/miniconda3/envs/analysis3-23.10/lib/python3.10/site-packages/xarray/plot/dataarray_plot.py:2026: UserWarning: The following kwargs were not used by contour: 'linestyle'\n",
      "  primitive = ax.contour(x, y, z, **kwargs)\n",
      "/g/data/hh5/public/apps/miniconda3/envs/analysis3-23.10/lib/python3.10/site-packages/xarray/plot/dataarray_plot.py:2026: UserWarning: The following kwargs were not used by contour: 'linestyle'\n",
      "  primitive = ax.contour(x, y, z, **kwargs)\n"
     ]
    },
    {
     "name": "stdout",
     "output_type": "stream",
     "text": [
      "33\n"
     ]
    },
    {
     "name": "stderr",
     "output_type": "stream",
     "text": [
      "/g/data/hh5/public/apps/miniconda3/envs/analysis3-23.10/lib/python3.10/site-packages/xrft/xrft.py:573: FutureWarning: Default ifft's behaviour (lag=None) changed! Default value of lag was zero (centered output coordinates) and is now set to transformed coordinate's attribute: 'direct_lag'.\n",
      "  warnings.warn(msg, FutureWarning)\n",
      "/g/data/hh5/public/apps/miniconda3/envs/analysis3-23.10/lib/python3.10/site-packages/xrft/xrft.py:573: FutureWarning: Default ifft's behaviour (lag=None) changed! Default value of lag was zero (centered output coordinates) and is now set to transformed coordinate's attribute: 'direct_lag'.\n",
      "  warnings.warn(msg, FutureWarning)\n",
      "/jobfs/103200509.gadi-pbs/ipykernel_869543/3989176887.py:10: MatplotlibDeprecationWarning: The get_cmap function was deprecated in Matplotlib 3.7 and will be removed two minor releases later. Use ``matplotlib.colormaps[name]`` or ``matplotlib.colormaps.get_cmap(obj)`` instead.\n",
      "  cmap = matplotlib.cm.get_cmap('plasma')\n",
      "/g/data/hh5/public/apps/miniconda3/envs/analysis3-23.10/lib/python3.10/site-packages/xarray/plot/dataarray_plot.py:2026: UserWarning: The following kwargs were not used by contour: 'linestyle'\n",
      "  primitive = ax.contour(x, y, z, **kwargs)\n",
      "/g/data/hh5/public/apps/miniconda3/envs/analysis3-23.10/lib/python3.10/site-packages/xarray/plot/dataarray_plot.py:2026: UserWarning: The following kwargs were not used by contour: 'linestyle'\n",
      "  primitive = ax.contour(x, y, z, **kwargs)\n"
     ]
    },
    {
     "name": "stdout",
     "output_type": "stream",
     "text": [
      "34\n"
     ]
    },
    {
     "name": "stderr",
     "output_type": "stream",
     "text": [
      "/g/data/hh5/public/apps/miniconda3/envs/analysis3-23.10/lib/python3.10/site-packages/xrft/xrft.py:573: FutureWarning: Default ifft's behaviour (lag=None) changed! Default value of lag was zero (centered output coordinates) and is now set to transformed coordinate's attribute: 'direct_lag'.\n",
      "  warnings.warn(msg, FutureWarning)\n",
      "/g/data/hh5/public/apps/miniconda3/envs/analysis3-23.10/lib/python3.10/site-packages/xrft/xrft.py:573: FutureWarning: Default ifft's behaviour (lag=None) changed! Default value of lag was zero (centered output coordinates) and is now set to transformed coordinate's attribute: 'direct_lag'.\n",
      "  warnings.warn(msg, FutureWarning)\n",
      "/jobfs/103200509.gadi-pbs/ipykernel_869543/3989176887.py:10: MatplotlibDeprecationWarning: The get_cmap function was deprecated in Matplotlib 3.7 and will be removed two minor releases later. Use ``matplotlib.colormaps[name]`` or ``matplotlib.colormaps.get_cmap(obj)`` instead.\n",
      "  cmap = matplotlib.cm.get_cmap('plasma')\n",
      "/g/data/hh5/public/apps/miniconda3/envs/analysis3-23.10/lib/python3.10/site-packages/xarray/plot/dataarray_plot.py:2026: UserWarning: The following kwargs were not used by contour: 'linestyle'\n",
      "  primitive = ax.contour(x, y, z, **kwargs)\n",
      "/g/data/hh5/public/apps/miniconda3/envs/analysis3-23.10/lib/python3.10/site-packages/xarray/plot/dataarray_plot.py:2026: UserWarning: The following kwargs were not used by contour: 'linestyle'\n",
      "  primitive = ax.contour(x, y, z, **kwargs)\n"
     ]
    },
    {
     "name": "stdout",
     "output_type": "stream",
     "text": [
      "35\n"
     ]
    },
    {
     "name": "stderr",
     "output_type": "stream",
     "text": [
      "/g/data/hh5/public/apps/miniconda3/envs/analysis3-23.10/lib/python3.10/site-packages/xrft/xrft.py:573: FutureWarning: Default ifft's behaviour (lag=None) changed! Default value of lag was zero (centered output coordinates) and is now set to transformed coordinate's attribute: 'direct_lag'.\n",
      "  warnings.warn(msg, FutureWarning)\n",
      "/g/data/hh5/public/apps/miniconda3/envs/analysis3-23.10/lib/python3.10/site-packages/xrft/xrft.py:573: FutureWarning: Default ifft's behaviour (lag=None) changed! Default value of lag was zero (centered output coordinates) and is now set to transformed coordinate's attribute: 'direct_lag'.\n",
      "  warnings.warn(msg, FutureWarning)\n",
      "/jobfs/103200509.gadi-pbs/ipykernel_869543/3989176887.py:10: MatplotlibDeprecationWarning: The get_cmap function was deprecated in Matplotlib 3.7 and will be removed two minor releases later. Use ``matplotlib.colormaps[name]`` or ``matplotlib.colormaps.get_cmap(obj)`` instead.\n",
      "  cmap = matplotlib.cm.get_cmap('plasma')\n",
      "/g/data/hh5/public/apps/miniconda3/envs/analysis3-23.10/lib/python3.10/site-packages/xarray/plot/dataarray_plot.py:2026: UserWarning: The following kwargs were not used by contour: 'linestyle'\n",
      "  primitive = ax.contour(x, y, z, **kwargs)\n",
      "/g/data/hh5/public/apps/miniconda3/envs/analysis3-23.10/lib/python3.10/site-packages/xarray/plot/dataarray_plot.py:2026: UserWarning: The following kwargs were not used by contour: 'linestyle'\n",
      "  primitive = ax.contour(x, y, z, **kwargs)\n"
     ]
    },
    {
     "name": "stdout",
     "output_type": "stream",
     "text": [
      "36\n"
     ]
    },
    {
     "name": "stderr",
     "output_type": "stream",
     "text": [
      "/g/data/hh5/public/apps/miniconda3/envs/analysis3-23.10/lib/python3.10/site-packages/xrft/xrft.py:573: FutureWarning: Default ifft's behaviour (lag=None) changed! Default value of lag was zero (centered output coordinates) and is now set to transformed coordinate's attribute: 'direct_lag'.\n",
      "  warnings.warn(msg, FutureWarning)\n",
      "/g/data/hh5/public/apps/miniconda3/envs/analysis3-23.10/lib/python3.10/site-packages/xrft/xrft.py:573: FutureWarning: Default ifft's behaviour (lag=None) changed! Default value of lag was zero (centered output coordinates) and is now set to transformed coordinate's attribute: 'direct_lag'.\n",
      "  warnings.warn(msg, FutureWarning)\n",
      "/jobfs/103200509.gadi-pbs/ipykernel_869543/3989176887.py:10: MatplotlibDeprecationWarning: The get_cmap function was deprecated in Matplotlib 3.7 and will be removed two minor releases later. Use ``matplotlib.colormaps[name]`` or ``matplotlib.colormaps.get_cmap(obj)`` instead.\n",
      "  cmap = matplotlib.cm.get_cmap('plasma')\n",
      "/g/data/hh5/public/apps/miniconda3/envs/analysis3-23.10/lib/python3.10/site-packages/xarray/plot/dataarray_plot.py:2026: UserWarning: The following kwargs were not used by contour: 'linestyle'\n",
      "  primitive = ax.contour(x, y, z, **kwargs)\n",
      "/g/data/hh5/public/apps/miniconda3/envs/analysis3-23.10/lib/python3.10/site-packages/xarray/plot/dataarray_plot.py:2026: UserWarning: The following kwargs were not used by contour: 'linestyle'\n",
      "  primitive = ax.contour(x, y, z, **kwargs)\n"
     ]
    },
    {
     "name": "stdout",
     "output_type": "stream",
     "text": [
      "37\n"
     ]
    },
    {
     "name": "stderr",
     "output_type": "stream",
     "text": [
      "/g/data/hh5/public/apps/miniconda3/envs/analysis3-23.10/lib/python3.10/site-packages/xrft/xrft.py:573: FutureWarning: Default ifft's behaviour (lag=None) changed! Default value of lag was zero (centered output coordinates) and is now set to transformed coordinate's attribute: 'direct_lag'.\n",
      "  warnings.warn(msg, FutureWarning)\n",
      "/g/data/hh5/public/apps/miniconda3/envs/analysis3-23.10/lib/python3.10/site-packages/xrft/xrft.py:573: FutureWarning: Default ifft's behaviour (lag=None) changed! Default value of lag was zero (centered output coordinates) and is now set to transformed coordinate's attribute: 'direct_lag'.\n",
      "  warnings.warn(msg, FutureWarning)\n",
      "/jobfs/103200509.gadi-pbs/ipykernel_869543/3989176887.py:10: MatplotlibDeprecationWarning: The get_cmap function was deprecated in Matplotlib 3.7 and will be removed two minor releases later. Use ``matplotlib.colormaps[name]`` or ``matplotlib.colormaps.get_cmap(obj)`` instead.\n",
      "  cmap = matplotlib.cm.get_cmap('plasma')\n",
      "/g/data/hh5/public/apps/miniconda3/envs/analysis3-23.10/lib/python3.10/site-packages/xarray/plot/dataarray_plot.py:2026: UserWarning: The following kwargs were not used by contour: 'linestyle'\n",
      "  primitive = ax.contour(x, y, z, **kwargs)\n",
      "/g/data/hh5/public/apps/miniconda3/envs/analysis3-23.10/lib/python3.10/site-packages/xarray/plot/dataarray_plot.py:2026: UserWarning: The following kwargs were not used by contour: 'linestyle'\n",
      "  primitive = ax.contour(x, y, z, **kwargs)\n"
     ]
    },
    {
     "name": "stdout",
     "output_type": "stream",
     "text": [
      "38\n"
     ]
    },
    {
     "name": "stderr",
     "output_type": "stream",
     "text": [
      "/g/data/hh5/public/apps/miniconda3/envs/analysis3-23.10/lib/python3.10/site-packages/xrft/xrft.py:573: FutureWarning: Default ifft's behaviour (lag=None) changed! Default value of lag was zero (centered output coordinates) and is now set to transformed coordinate's attribute: 'direct_lag'.\n",
      "  warnings.warn(msg, FutureWarning)\n",
      "/g/data/hh5/public/apps/miniconda3/envs/analysis3-23.10/lib/python3.10/site-packages/xrft/xrft.py:573: FutureWarning: Default ifft's behaviour (lag=None) changed! Default value of lag was zero (centered output coordinates) and is now set to transformed coordinate's attribute: 'direct_lag'.\n",
      "  warnings.warn(msg, FutureWarning)\n",
      "/jobfs/103200509.gadi-pbs/ipykernel_869543/3989176887.py:10: MatplotlibDeprecationWarning: The get_cmap function was deprecated in Matplotlib 3.7 and will be removed two minor releases later. Use ``matplotlib.colormaps[name]`` or ``matplotlib.colormaps.get_cmap(obj)`` instead.\n",
      "  cmap = matplotlib.cm.get_cmap('plasma')\n",
      "/g/data/hh5/public/apps/miniconda3/envs/analysis3-23.10/lib/python3.10/site-packages/xarray/plot/dataarray_plot.py:2026: UserWarning: The following kwargs were not used by contour: 'linestyle'\n",
      "  primitive = ax.contour(x, y, z, **kwargs)\n",
      "/g/data/hh5/public/apps/miniconda3/envs/analysis3-23.10/lib/python3.10/site-packages/xarray/plot/dataarray_plot.py:2026: UserWarning: The following kwargs were not used by contour: 'linestyle'\n",
      "  primitive = ax.contour(x, y, z, **kwargs)\n"
     ]
    },
    {
     "name": "stdout",
     "output_type": "stream",
     "text": [
      "39\n"
     ]
    },
    {
     "name": "stderr",
     "output_type": "stream",
     "text": [
      "/g/data/hh5/public/apps/miniconda3/envs/analysis3-23.10/lib/python3.10/site-packages/xrft/xrft.py:573: FutureWarning: Default ifft's behaviour (lag=None) changed! Default value of lag was zero (centered output coordinates) and is now set to transformed coordinate's attribute: 'direct_lag'.\n",
      "  warnings.warn(msg, FutureWarning)\n",
      "/g/data/hh5/public/apps/miniconda3/envs/analysis3-23.10/lib/python3.10/site-packages/xrft/xrft.py:573: FutureWarning: Default ifft's behaviour (lag=None) changed! Default value of lag was zero (centered output coordinates) and is now set to transformed coordinate's attribute: 'direct_lag'.\n",
      "  warnings.warn(msg, FutureWarning)\n",
      "/jobfs/103200509.gadi-pbs/ipykernel_869543/3989176887.py:10: MatplotlibDeprecationWarning: The get_cmap function was deprecated in Matplotlib 3.7 and will be removed two minor releases later. Use ``matplotlib.colormaps[name]`` or ``matplotlib.colormaps.get_cmap(obj)`` instead.\n",
      "  cmap = matplotlib.cm.get_cmap('plasma')\n",
      "/g/data/hh5/public/apps/miniconda3/envs/analysis3-23.10/lib/python3.10/site-packages/xarray/plot/dataarray_plot.py:2026: UserWarning: The following kwargs were not used by contour: 'linestyle'\n",
      "  primitive = ax.contour(x, y, z, **kwargs)\n",
      "/g/data/hh5/public/apps/miniconda3/envs/analysis3-23.10/lib/python3.10/site-packages/xarray/plot/dataarray_plot.py:2026: UserWarning: The following kwargs were not used by contour: 'linestyle'\n",
      "  primitive = ax.contour(x, y, z, **kwargs)\n"
     ]
    },
    {
     "name": "stdout",
     "output_type": "stream",
     "text": [
      "40\n"
     ]
    },
    {
     "name": "stderr",
     "output_type": "stream",
     "text": [
      "/g/data/hh5/public/apps/miniconda3/envs/analysis3-23.10/lib/python3.10/site-packages/xrft/xrft.py:573: FutureWarning: Default ifft's behaviour (lag=None) changed! Default value of lag was zero (centered output coordinates) and is now set to transformed coordinate's attribute: 'direct_lag'.\n",
      "  warnings.warn(msg, FutureWarning)\n",
      "/g/data/hh5/public/apps/miniconda3/envs/analysis3-23.10/lib/python3.10/site-packages/xrft/xrft.py:573: FutureWarning: Default ifft's behaviour (lag=None) changed! Default value of lag was zero (centered output coordinates) and is now set to transformed coordinate's attribute: 'direct_lag'.\n",
      "  warnings.warn(msg, FutureWarning)\n",
      "/jobfs/103200509.gadi-pbs/ipykernel_869543/3989176887.py:10: MatplotlibDeprecationWarning: The get_cmap function was deprecated in Matplotlib 3.7 and will be removed two minor releases later. Use ``matplotlib.colormaps[name]`` or ``matplotlib.colormaps.get_cmap(obj)`` instead.\n",
      "  cmap = matplotlib.cm.get_cmap('plasma')\n",
      "/g/data/hh5/public/apps/miniconda3/envs/analysis3-23.10/lib/python3.10/site-packages/xarray/plot/dataarray_plot.py:2026: UserWarning: The following kwargs were not used by contour: 'linestyle'\n",
      "  primitive = ax.contour(x, y, z, **kwargs)\n",
      "/g/data/hh5/public/apps/miniconda3/envs/analysis3-23.10/lib/python3.10/site-packages/xarray/plot/dataarray_plot.py:2026: UserWarning: The following kwargs were not used by contour: 'linestyle'\n",
      "  primitive = ax.contour(x, y, z, **kwargs)\n"
     ]
    },
    {
     "name": "stdout",
     "output_type": "stream",
     "text": [
      "41\n"
     ]
    },
    {
     "name": "stderr",
     "output_type": "stream",
     "text": [
      "/g/data/hh5/public/apps/miniconda3/envs/analysis3-23.10/lib/python3.10/site-packages/xrft/xrft.py:573: FutureWarning: Default ifft's behaviour (lag=None) changed! Default value of lag was zero (centered output coordinates) and is now set to transformed coordinate's attribute: 'direct_lag'.\n",
      "  warnings.warn(msg, FutureWarning)\n",
      "/g/data/hh5/public/apps/miniconda3/envs/analysis3-23.10/lib/python3.10/site-packages/xrft/xrft.py:573: FutureWarning: Default ifft's behaviour (lag=None) changed! Default value of lag was zero (centered output coordinates) and is now set to transformed coordinate's attribute: 'direct_lag'.\n",
      "  warnings.warn(msg, FutureWarning)\n",
      "/jobfs/103200509.gadi-pbs/ipykernel_869543/3989176887.py:10: MatplotlibDeprecationWarning: The get_cmap function was deprecated in Matplotlib 3.7 and will be removed two minor releases later. Use ``matplotlib.colormaps[name]`` or ``matplotlib.colormaps.get_cmap(obj)`` instead.\n",
      "  cmap = matplotlib.cm.get_cmap('plasma')\n",
      "/g/data/hh5/public/apps/miniconda3/envs/analysis3-23.10/lib/python3.10/site-packages/xarray/plot/dataarray_plot.py:2026: UserWarning: The following kwargs were not used by contour: 'linestyle'\n",
      "  primitive = ax.contour(x, y, z, **kwargs)\n",
      "/g/data/hh5/public/apps/miniconda3/envs/analysis3-23.10/lib/python3.10/site-packages/xarray/plot/dataarray_plot.py:2026: UserWarning: The following kwargs were not used by contour: 'linestyle'\n",
      "  primitive = ax.contour(x, y, z, **kwargs)\n"
     ]
    },
    {
     "name": "stdout",
     "output_type": "stream",
     "text": [
      "42\n"
     ]
    },
    {
     "name": "stderr",
     "output_type": "stream",
     "text": [
      "/g/data/hh5/public/apps/miniconda3/envs/analysis3-23.10/lib/python3.10/site-packages/xrft/xrft.py:573: FutureWarning: Default ifft's behaviour (lag=None) changed! Default value of lag was zero (centered output coordinates) and is now set to transformed coordinate's attribute: 'direct_lag'.\n",
      "  warnings.warn(msg, FutureWarning)\n",
      "/g/data/hh5/public/apps/miniconda3/envs/analysis3-23.10/lib/python3.10/site-packages/xrft/xrft.py:573: FutureWarning: Default ifft's behaviour (lag=None) changed! Default value of lag was zero (centered output coordinates) and is now set to transformed coordinate's attribute: 'direct_lag'.\n",
      "  warnings.warn(msg, FutureWarning)\n",
      "/jobfs/103200509.gadi-pbs/ipykernel_869543/3989176887.py:10: MatplotlibDeprecationWarning: The get_cmap function was deprecated in Matplotlib 3.7 and will be removed two minor releases later. Use ``matplotlib.colormaps[name]`` or ``matplotlib.colormaps.get_cmap(obj)`` instead.\n",
      "  cmap = matplotlib.cm.get_cmap('plasma')\n",
      "/g/data/hh5/public/apps/miniconda3/envs/analysis3-23.10/lib/python3.10/site-packages/xarray/plot/dataarray_plot.py:2026: UserWarning: The following kwargs were not used by contour: 'linestyle'\n",
      "  primitive = ax.contour(x, y, z, **kwargs)\n",
      "/g/data/hh5/public/apps/miniconda3/envs/analysis3-23.10/lib/python3.10/site-packages/xarray/plot/dataarray_plot.py:2026: UserWarning: The following kwargs were not used by contour: 'linestyle'\n",
      "  primitive = ax.contour(x, y, z, **kwargs)\n"
     ]
    },
    {
     "name": "stdout",
     "output_type": "stream",
     "text": [
      "43\n"
     ]
    },
    {
     "name": "stderr",
     "output_type": "stream",
     "text": [
      "/g/data/hh5/public/apps/miniconda3/envs/analysis3-23.10/lib/python3.10/site-packages/xrft/xrft.py:573: FutureWarning: Default ifft's behaviour (lag=None) changed! Default value of lag was zero (centered output coordinates) and is now set to transformed coordinate's attribute: 'direct_lag'.\n",
      "  warnings.warn(msg, FutureWarning)\n",
      "/g/data/hh5/public/apps/miniconda3/envs/analysis3-23.10/lib/python3.10/site-packages/xrft/xrft.py:573: FutureWarning: Default ifft's behaviour (lag=None) changed! Default value of lag was zero (centered output coordinates) and is now set to transformed coordinate's attribute: 'direct_lag'.\n",
      "  warnings.warn(msg, FutureWarning)\n",
      "/jobfs/103200509.gadi-pbs/ipykernel_869543/3989176887.py:10: MatplotlibDeprecationWarning: The get_cmap function was deprecated in Matplotlib 3.7 and will be removed two minor releases later. Use ``matplotlib.colormaps[name]`` or ``matplotlib.colormaps.get_cmap(obj)`` instead.\n",
      "  cmap = matplotlib.cm.get_cmap('plasma')\n",
      "/g/data/hh5/public/apps/miniconda3/envs/analysis3-23.10/lib/python3.10/site-packages/xarray/plot/dataarray_plot.py:2026: UserWarning: The following kwargs were not used by contour: 'linestyle'\n",
      "  primitive = ax.contour(x, y, z, **kwargs)\n",
      "/g/data/hh5/public/apps/miniconda3/envs/analysis3-23.10/lib/python3.10/site-packages/xarray/plot/dataarray_plot.py:2026: UserWarning: The following kwargs were not used by contour: 'linestyle'\n",
      "  primitive = ax.contour(x, y, z, **kwargs)\n"
     ]
    },
    {
     "name": "stdout",
     "output_type": "stream",
     "text": [
      "44\n"
     ]
    },
    {
     "name": "stderr",
     "output_type": "stream",
     "text": [
      "/g/data/hh5/public/apps/miniconda3/envs/analysis3-23.10/lib/python3.10/site-packages/xrft/xrft.py:573: FutureWarning: Default ifft's behaviour (lag=None) changed! Default value of lag was zero (centered output coordinates) and is now set to transformed coordinate's attribute: 'direct_lag'.\n",
      "  warnings.warn(msg, FutureWarning)\n",
      "/g/data/hh5/public/apps/miniconda3/envs/analysis3-23.10/lib/python3.10/site-packages/xrft/xrft.py:573: FutureWarning: Default ifft's behaviour (lag=None) changed! Default value of lag was zero (centered output coordinates) and is now set to transformed coordinate's attribute: 'direct_lag'.\n",
      "  warnings.warn(msg, FutureWarning)\n",
      "/jobfs/103200509.gadi-pbs/ipykernel_869543/3989176887.py:10: MatplotlibDeprecationWarning: The get_cmap function was deprecated in Matplotlib 3.7 and will be removed two minor releases later. Use ``matplotlib.colormaps[name]`` or ``matplotlib.colormaps.get_cmap(obj)`` instead.\n",
      "  cmap = matplotlib.cm.get_cmap('plasma')\n",
      "/g/data/hh5/public/apps/miniconda3/envs/analysis3-23.10/lib/python3.10/site-packages/xarray/plot/dataarray_plot.py:2026: UserWarning: The following kwargs were not used by contour: 'linestyle'\n",
      "  primitive = ax.contour(x, y, z, **kwargs)\n",
      "/g/data/hh5/public/apps/miniconda3/envs/analysis3-23.10/lib/python3.10/site-packages/xarray/plot/dataarray_plot.py:2026: UserWarning: The following kwargs were not used by contour: 'linestyle'\n",
      "  primitive = ax.contour(x, y, z, **kwargs)\n"
     ]
    },
    {
     "name": "stdout",
     "output_type": "stream",
     "text": [
      "45\n"
     ]
    },
    {
     "name": "stderr",
     "output_type": "stream",
     "text": [
      "/g/data/hh5/public/apps/miniconda3/envs/analysis3-23.10/lib/python3.10/site-packages/xrft/xrft.py:573: FutureWarning: Default ifft's behaviour (lag=None) changed! Default value of lag was zero (centered output coordinates) and is now set to transformed coordinate's attribute: 'direct_lag'.\n",
      "  warnings.warn(msg, FutureWarning)\n",
      "/g/data/hh5/public/apps/miniconda3/envs/analysis3-23.10/lib/python3.10/site-packages/xrft/xrft.py:573: FutureWarning: Default ifft's behaviour (lag=None) changed! Default value of lag was zero (centered output coordinates) and is now set to transformed coordinate's attribute: 'direct_lag'.\n",
      "  warnings.warn(msg, FutureWarning)\n",
      "/jobfs/103200509.gadi-pbs/ipykernel_869543/3989176887.py:10: MatplotlibDeprecationWarning: The get_cmap function was deprecated in Matplotlib 3.7 and will be removed two minor releases later. Use ``matplotlib.colormaps[name]`` or ``matplotlib.colormaps.get_cmap(obj)`` instead.\n",
      "  cmap = matplotlib.cm.get_cmap('plasma')\n",
      "/g/data/hh5/public/apps/miniconda3/envs/analysis3-23.10/lib/python3.10/site-packages/xarray/plot/dataarray_plot.py:2026: UserWarning: The following kwargs were not used by contour: 'linestyle'\n",
      "  primitive = ax.contour(x, y, z, **kwargs)\n",
      "/g/data/hh5/public/apps/miniconda3/envs/analysis3-23.10/lib/python3.10/site-packages/xarray/plot/dataarray_plot.py:2026: UserWarning: The following kwargs were not used by contour: 'linestyle'\n",
      "  primitive = ax.contour(x, y, z, **kwargs)\n"
     ]
    },
    {
     "name": "stdout",
     "output_type": "stream",
     "text": [
      "46\n"
     ]
    },
    {
     "name": "stderr",
     "output_type": "stream",
     "text": [
      "/g/data/hh5/public/apps/miniconda3/envs/analysis3-23.10/lib/python3.10/site-packages/xrft/xrft.py:573: FutureWarning: Default ifft's behaviour (lag=None) changed! Default value of lag was zero (centered output coordinates) and is now set to transformed coordinate's attribute: 'direct_lag'.\n",
      "  warnings.warn(msg, FutureWarning)\n",
      "/g/data/hh5/public/apps/miniconda3/envs/analysis3-23.10/lib/python3.10/site-packages/xrft/xrft.py:573: FutureWarning: Default ifft's behaviour (lag=None) changed! Default value of lag was zero (centered output coordinates) and is now set to transformed coordinate's attribute: 'direct_lag'.\n",
      "  warnings.warn(msg, FutureWarning)\n",
      "/jobfs/103200509.gadi-pbs/ipykernel_869543/3989176887.py:10: MatplotlibDeprecationWarning: The get_cmap function was deprecated in Matplotlib 3.7 and will be removed two minor releases later. Use ``matplotlib.colormaps[name]`` or ``matplotlib.colormaps.get_cmap(obj)`` instead.\n",
      "  cmap = matplotlib.cm.get_cmap('plasma')\n",
      "/g/data/hh5/public/apps/miniconda3/envs/analysis3-23.10/lib/python3.10/site-packages/xarray/plot/dataarray_plot.py:2026: UserWarning: The following kwargs were not used by contour: 'linestyle'\n",
      "  primitive = ax.contour(x, y, z, **kwargs)\n",
      "/g/data/hh5/public/apps/miniconda3/envs/analysis3-23.10/lib/python3.10/site-packages/xarray/plot/dataarray_plot.py:2026: UserWarning: The following kwargs were not used by contour: 'linestyle'\n",
      "  primitive = ax.contour(x, y, z, **kwargs)\n"
     ]
    },
    {
     "name": "stdout",
     "output_type": "stream",
     "text": [
      "47\n"
     ]
    },
    {
     "name": "stderr",
     "output_type": "stream",
     "text": [
      "/g/data/hh5/public/apps/miniconda3/envs/analysis3-23.10/lib/python3.10/site-packages/xrft/xrft.py:573: FutureWarning: Default ifft's behaviour (lag=None) changed! Default value of lag was zero (centered output coordinates) and is now set to transformed coordinate's attribute: 'direct_lag'.\n",
      "  warnings.warn(msg, FutureWarning)\n",
      "/g/data/hh5/public/apps/miniconda3/envs/analysis3-23.10/lib/python3.10/site-packages/xrft/xrft.py:573: FutureWarning: Default ifft's behaviour (lag=None) changed! Default value of lag was zero (centered output coordinates) and is now set to transformed coordinate's attribute: 'direct_lag'.\n",
      "  warnings.warn(msg, FutureWarning)\n",
      "/jobfs/103200509.gadi-pbs/ipykernel_869543/3989176887.py:10: MatplotlibDeprecationWarning: The get_cmap function was deprecated in Matplotlib 3.7 and will be removed two minor releases later. Use ``matplotlib.colormaps[name]`` or ``matplotlib.colormaps.get_cmap(obj)`` instead.\n",
      "  cmap = matplotlib.cm.get_cmap('plasma')\n",
      "/g/data/hh5/public/apps/miniconda3/envs/analysis3-23.10/lib/python3.10/site-packages/xarray/plot/dataarray_plot.py:2026: UserWarning: The following kwargs were not used by contour: 'linestyle'\n",
      "  primitive = ax.contour(x, y, z, **kwargs)\n",
      "/g/data/hh5/public/apps/miniconda3/envs/analysis3-23.10/lib/python3.10/site-packages/xarray/plot/dataarray_plot.py:2026: UserWarning: The following kwargs were not used by contour: 'linestyle'\n",
      "  primitive = ax.contour(x, y, z, **kwargs)\n"
     ]
    },
    {
     "name": "stdout",
     "output_type": "stream",
     "text": [
      "48\n"
     ]
    },
    {
     "name": "stderr",
     "output_type": "stream",
     "text": [
      "/g/data/hh5/public/apps/miniconda3/envs/analysis3-23.10/lib/python3.10/site-packages/xrft/xrft.py:573: FutureWarning: Default ifft's behaviour (lag=None) changed! Default value of lag was zero (centered output coordinates) and is now set to transformed coordinate's attribute: 'direct_lag'.\n",
      "  warnings.warn(msg, FutureWarning)\n",
      "/g/data/hh5/public/apps/miniconda3/envs/analysis3-23.10/lib/python3.10/site-packages/xrft/xrft.py:573: FutureWarning: Default ifft's behaviour (lag=None) changed! Default value of lag was zero (centered output coordinates) and is now set to transformed coordinate's attribute: 'direct_lag'.\n",
      "  warnings.warn(msg, FutureWarning)\n",
      "/jobfs/103200509.gadi-pbs/ipykernel_869543/3989176887.py:10: MatplotlibDeprecationWarning: The get_cmap function was deprecated in Matplotlib 3.7 and will be removed two minor releases later. Use ``matplotlib.colormaps[name]`` or ``matplotlib.colormaps.get_cmap(obj)`` instead.\n",
      "  cmap = matplotlib.cm.get_cmap('plasma')\n",
      "/g/data/hh5/public/apps/miniconda3/envs/analysis3-23.10/lib/python3.10/site-packages/xarray/plot/dataarray_plot.py:2026: UserWarning: The following kwargs were not used by contour: 'linestyle'\n",
      "  primitive = ax.contour(x, y, z, **kwargs)\n",
      "/g/data/hh5/public/apps/miniconda3/envs/analysis3-23.10/lib/python3.10/site-packages/xarray/plot/dataarray_plot.py:2026: UserWarning: The following kwargs were not used by contour: 'linestyle'\n",
      "  primitive = ax.contour(x, y, z, **kwargs)\n"
     ]
    },
    {
     "name": "stdout",
     "output_type": "stream",
     "text": [
      "49\n"
     ]
    },
    {
     "name": "stderr",
     "output_type": "stream",
     "text": [
      "/g/data/hh5/public/apps/miniconda3/envs/analysis3-23.10/lib/python3.10/site-packages/xrft/xrft.py:573: FutureWarning: Default ifft's behaviour (lag=None) changed! Default value of lag was zero (centered output coordinates) and is now set to transformed coordinate's attribute: 'direct_lag'.\n",
      "  warnings.warn(msg, FutureWarning)\n",
      "/g/data/hh5/public/apps/miniconda3/envs/analysis3-23.10/lib/python3.10/site-packages/xrft/xrft.py:573: FutureWarning: Default ifft's behaviour (lag=None) changed! Default value of lag was zero (centered output coordinates) and is now set to transformed coordinate's attribute: 'direct_lag'.\n",
      "  warnings.warn(msg, FutureWarning)\n",
      "/jobfs/103200509.gadi-pbs/ipykernel_869543/3989176887.py:10: MatplotlibDeprecationWarning: The get_cmap function was deprecated in Matplotlib 3.7 and will be removed two minor releases later. Use ``matplotlib.colormaps[name]`` or ``matplotlib.colormaps.get_cmap(obj)`` instead.\n",
      "  cmap = matplotlib.cm.get_cmap('plasma')\n",
      "/g/data/hh5/public/apps/miniconda3/envs/analysis3-23.10/lib/python3.10/site-packages/xarray/plot/dataarray_plot.py:2026: UserWarning: The following kwargs were not used by contour: 'linestyle'\n",
      "  primitive = ax.contour(x, y, z, **kwargs)\n",
      "/g/data/hh5/public/apps/miniconda3/envs/analysis3-23.10/lib/python3.10/site-packages/xarray/plot/dataarray_plot.py:2026: UserWarning: The following kwargs were not used by contour: 'linestyle'\n",
      "  primitive = ax.contour(x, y, z, **kwargs)\n"
     ]
    },
    {
     "name": "stdout",
     "output_type": "stream",
     "text": [
      "50\n"
     ]
    },
    {
     "name": "stderr",
     "output_type": "stream",
     "text": [
      "/g/data/hh5/public/apps/miniconda3/envs/analysis3-23.10/lib/python3.10/site-packages/xrft/xrft.py:573: FutureWarning: Default ifft's behaviour (lag=None) changed! Default value of lag was zero (centered output coordinates) and is now set to transformed coordinate's attribute: 'direct_lag'.\n",
      "  warnings.warn(msg, FutureWarning)\n",
      "/g/data/hh5/public/apps/miniconda3/envs/analysis3-23.10/lib/python3.10/site-packages/xrft/xrft.py:573: FutureWarning: Default ifft's behaviour (lag=None) changed! Default value of lag was zero (centered output coordinates) and is now set to transformed coordinate's attribute: 'direct_lag'.\n",
      "  warnings.warn(msg, FutureWarning)\n",
      "/jobfs/103200509.gadi-pbs/ipykernel_869543/3989176887.py:10: MatplotlibDeprecationWarning: The get_cmap function was deprecated in Matplotlib 3.7 and will be removed two minor releases later. Use ``matplotlib.colormaps[name]`` or ``matplotlib.colormaps.get_cmap(obj)`` instead.\n",
      "  cmap = matplotlib.cm.get_cmap('plasma')\n",
      "/g/data/hh5/public/apps/miniconda3/envs/analysis3-23.10/lib/python3.10/site-packages/xarray/plot/dataarray_plot.py:2026: UserWarning: The following kwargs were not used by contour: 'linestyle'\n",
      "  primitive = ax.contour(x, y, z, **kwargs)\n",
      "/g/data/hh5/public/apps/miniconda3/envs/analysis3-23.10/lib/python3.10/site-packages/xarray/plot/dataarray_plot.py:2026: UserWarning: The following kwargs were not used by contour: 'linestyle'\n",
      "  primitive = ax.contour(x, y, z, **kwargs)\n"
     ]
    },
    {
     "name": "stdout",
     "output_type": "stream",
     "text": [
      "51\n"
     ]
    },
    {
     "name": "stderr",
     "output_type": "stream",
     "text": [
      "/g/data/hh5/public/apps/miniconda3/envs/analysis3-23.10/lib/python3.10/site-packages/xrft/xrft.py:573: FutureWarning: Default ifft's behaviour (lag=None) changed! Default value of lag was zero (centered output coordinates) and is now set to transformed coordinate's attribute: 'direct_lag'.\n",
      "  warnings.warn(msg, FutureWarning)\n",
      "/g/data/hh5/public/apps/miniconda3/envs/analysis3-23.10/lib/python3.10/site-packages/xrft/xrft.py:573: FutureWarning: Default ifft's behaviour (lag=None) changed! Default value of lag was zero (centered output coordinates) and is now set to transformed coordinate's attribute: 'direct_lag'.\n",
      "  warnings.warn(msg, FutureWarning)\n",
      "/jobfs/103200509.gadi-pbs/ipykernel_869543/3989176887.py:10: MatplotlibDeprecationWarning: The get_cmap function was deprecated in Matplotlib 3.7 and will be removed two minor releases later. Use ``matplotlib.colormaps[name]`` or ``matplotlib.colormaps.get_cmap(obj)`` instead.\n",
      "  cmap = matplotlib.cm.get_cmap('plasma')\n",
      "/g/data/hh5/public/apps/miniconda3/envs/analysis3-23.10/lib/python3.10/site-packages/xarray/plot/dataarray_plot.py:2026: UserWarning: The following kwargs were not used by contour: 'linestyle'\n",
      "  primitive = ax.contour(x, y, z, **kwargs)\n",
      "/g/data/hh5/public/apps/miniconda3/envs/analysis3-23.10/lib/python3.10/site-packages/xarray/plot/dataarray_plot.py:2026: UserWarning: The following kwargs were not used by contour: 'linestyle'\n",
      "  primitive = ax.contour(x, y, z, **kwargs)\n"
     ]
    },
    {
     "name": "stdout",
     "output_type": "stream",
     "text": [
      "52\n"
     ]
    },
    {
     "name": "stderr",
     "output_type": "stream",
     "text": [
      "/g/data/hh5/public/apps/miniconda3/envs/analysis3-23.10/lib/python3.10/site-packages/xrft/xrft.py:573: FutureWarning: Default ifft's behaviour (lag=None) changed! Default value of lag was zero (centered output coordinates) and is now set to transformed coordinate's attribute: 'direct_lag'.\n",
      "  warnings.warn(msg, FutureWarning)\n",
      "/g/data/hh5/public/apps/miniconda3/envs/analysis3-23.10/lib/python3.10/site-packages/xrft/xrft.py:573: FutureWarning: Default ifft's behaviour (lag=None) changed! Default value of lag was zero (centered output coordinates) and is now set to transformed coordinate's attribute: 'direct_lag'.\n",
      "  warnings.warn(msg, FutureWarning)\n",
      "/jobfs/103200509.gadi-pbs/ipykernel_869543/3989176887.py:10: MatplotlibDeprecationWarning: The get_cmap function was deprecated in Matplotlib 3.7 and will be removed two minor releases later. Use ``matplotlib.colormaps[name]`` or ``matplotlib.colormaps.get_cmap(obj)`` instead.\n",
      "  cmap = matplotlib.cm.get_cmap('plasma')\n",
      "/g/data/hh5/public/apps/miniconda3/envs/analysis3-23.10/lib/python3.10/site-packages/xarray/plot/dataarray_plot.py:2026: UserWarning: The following kwargs were not used by contour: 'linestyle'\n",
      "  primitive = ax.contour(x, y, z, **kwargs)\n",
      "/g/data/hh5/public/apps/miniconda3/envs/analysis3-23.10/lib/python3.10/site-packages/xarray/plot/dataarray_plot.py:2026: UserWarning: The following kwargs were not used by contour: 'linestyle'\n",
      "  primitive = ax.contour(x, y, z, **kwargs)\n"
     ]
    },
    {
     "name": "stdout",
     "output_type": "stream",
     "text": [
      "53\n"
     ]
    },
    {
     "name": "stderr",
     "output_type": "stream",
     "text": [
      "/g/data/hh5/public/apps/miniconda3/envs/analysis3-23.10/lib/python3.10/site-packages/xrft/xrft.py:573: FutureWarning: Default ifft's behaviour (lag=None) changed! Default value of lag was zero (centered output coordinates) and is now set to transformed coordinate's attribute: 'direct_lag'.\n",
      "  warnings.warn(msg, FutureWarning)\n",
      "/g/data/hh5/public/apps/miniconda3/envs/analysis3-23.10/lib/python3.10/site-packages/xrft/xrft.py:573: FutureWarning: Default ifft's behaviour (lag=None) changed! Default value of lag was zero (centered output coordinates) and is now set to transformed coordinate's attribute: 'direct_lag'.\n",
      "  warnings.warn(msg, FutureWarning)\n",
      "/jobfs/103200509.gadi-pbs/ipykernel_869543/3989176887.py:10: MatplotlibDeprecationWarning: The get_cmap function was deprecated in Matplotlib 3.7 and will be removed two minor releases later. Use ``matplotlib.colormaps[name]`` or ``matplotlib.colormaps.get_cmap(obj)`` instead.\n",
      "  cmap = matplotlib.cm.get_cmap('plasma')\n",
      "/g/data/hh5/public/apps/miniconda3/envs/analysis3-23.10/lib/python3.10/site-packages/xarray/plot/dataarray_plot.py:2026: UserWarning: The following kwargs were not used by contour: 'linestyle'\n",
      "  primitive = ax.contour(x, y, z, **kwargs)\n",
      "/g/data/hh5/public/apps/miniconda3/envs/analysis3-23.10/lib/python3.10/site-packages/xarray/plot/dataarray_plot.py:2026: UserWarning: The following kwargs were not used by contour: 'linestyle'\n",
      "  primitive = ax.contour(x, y, z, **kwargs)\n"
     ]
    },
    {
     "name": "stdout",
     "output_type": "stream",
     "text": [
      "54\n"
     ]
    },
    {
     "name": "stderr",
     "output_type": "stream",
     "text": [
      "/g/data/hh5/public/apps/miniconda3/envs/analysis3-23.10/lib/python3.10/site-packages/xrft/xrft.py:573: FutureWarning: Default ifft's behaviour (lag=None) changed! Default value of lag was zero (centered output coordinates) and is now set to transformed coordinate's attribute: 'direct_lag'.\n",
      "  warnings.warn(msg, FutureWarning)\n",
      "/g/data/hh5/public/apps/miniconda3/envs/analysis3-23.10/lib/python3.10/site-packages/xrft/xrft.py:573: FutureWarning: Default ifft's behaviour (lag=None) changed! Default value of lag was zero (centered output coordinates) and is now set to transformed coordinate's attribute: 'direct_lag'.\n",
      "  warnings.warn(msg, FutureWarning)\n",
      "/jobfs/103200509.gadi-pbs/ipykernel_869543/3989176887.py:10: MatplotlibDeprecationWarning: The get_cmap function was deprecated in Matplotlib 3.7 and will be removed two minor releases later. Use ``matplotlib.colormaps[name]`` or ``matplotlib.colormaps.get_cmap(obj)`` instead.\n",
      "  cmap = matplotlib.cm.get_cmap('plasma')\n",
      "/g/data/hh5/public/apps/miniconda3/envs/analysis3-23.10/lib/python3.10/site-packages/xarray/plot/dataarray_plot.py:2026: UserWarning: The following kwargs were not used by contour: 'linestyle'\n",
      "  primitive = ax.contour(x, y, z, **kwargs)\n",
      "/g/data/hh5/public/apps/miniconda3/envs/analysis3-23.10/lib/python3.10/site-packages/xarray/plot/dataarray_plot.py:2026: UserWarning: The following kwargs were not used by contour: 'linestyle'\n",
      "  primitive = ax.contour(x, y, z, **kwargs)\n"
     ]
    },
    {
     "name": "stdout",
     "output_type": "stream",
     "text": [
      "55\n"
     ]
    },
    {
     "name": "stderr",
     "output_type": "stream",
     "text": [
      "/g/data/hh5/public/apps/miniconda3/envs/analysis3-23.10/lib/python3.10/site-packages/xrft/xrft.py:573: FutureWarning: Default ifft's behaviour (lag=None) changed! Default value of lag was zero (centered output coordinates) and is now set to transformed coordinate's attribute: 'direct_lag'.\n",
      "  warnings.warn(msg, FutureWarning)\n",
      "/g/data/hh5/public/apps/miniconda3/envs/analysis3-23.10/lib/python3.10/site-packages/xrft/xrft.py:573: FutureWarning: Default ifft's behaviour (lag=None) changed! Default value of lag was zero (centered output coordinates) and is now set to transformed coordinate's attribute: 'direct_lag'.\n",
      "  warnings.warn(msg, FutureWarning)\n",
      "/jobfs/103200509.gadi-pbs/ipykernel_869543/3989176887.py:10: MatplotlibDeprecationWarning: The get_cmap function was deprecated in Matplotlib 3.7 and will be removed two minor releases later. Use ``matplotlib.colormaps[name]`` or ``matplotlib.colormaps.get_cmap(obj)`` instead.\n",
      "  cmap = matplotlib.cm.get_cmap('plasma')\n",
      "/g/data/hh5/public/apps/miniconda3/envs/analysis3-23.10/lib/python3.10/site-packages/xarray/plot/dataarray_plot.py:2026: UserWarning: The following kwargs were not used by contour: 'linestyle'\n",
      "  primitive = ax.contour(x, y, z, **kwargs)\n",
      "/g/data/hh5/public/apps/miniconda3/envs/analysis3-23.10/lib/python3.10/site-packages/xarray/plot/dataarray_plot.py:2026: UserWarning: The following kwargs were not used by contour: 'linestyle'\n",
      "  primitive = ax.contour(x, y, z, **kwargs)\n"
     ]
    },
    {
     "name": "stdout",
     "output_type": "stream",
     "text": [
      "56\n"
     ]
    },
    {
     "name": "stderr",
     "output_type": "stream",
     "text": [
      "/g/data/hh5/public/apps/miniconda3/envs/analysis3-23.10/lib/python3.10/site-packages/xrft/xrft.py:573: FutureWarning: Default ifft's behaviour (lag=None) changed! Default value of lag was zero (centered output coordinates) and is now set to transformed coordinate's attribute: 'direct_lag'.\n",
      "  warnings.warn(msg, FutureWarning)\n",
      "/g/data/hh5/public/apps/miniconda3/envs/analysis3-23.10/lib/python3.10/site-packages/xrft/xrft.py:573: FutureWarning: Default ifft's behaviour (lag=None) changed! Default value of lag was zero (centered output coordinates) and is now set to transformed coordinate's attribute: 'direct_lag'.\n",
      "  warnings.warn(msg, FutureWarning)\n",
      "/jobfs/103200509.gadi-pbs/ipykernel_869543/3989176887.py:10: MatplotlibDeprecationWarning: The get_cmap function was deprecated in Matplotlib 3.7 and will be removed two minor releases later. Use ``matplotlib.colormaps[name]`` or ``matplotlib.colormaps.get_cmap(obj)`` instead.\n",
      "  cmap = matplotlib.cm.get_cmap('plasma')\n",
      "/g/data/hh5/public/apps/miniconda3/envs/analysis3-23.10/lib/python3.10/site-packages/xarray/plot/dataarray_plot.py:2026: UserWarning: The following kwargs were not used by contour: 'linestyle'\n",
      "  primitive = ax.contour(x, y, z, **kwargs)\n",
      "/g/data/hh5/public/apps/miniconda3/envs/analysis3-23.10/lib/python3.10/site-packages/xarray/plot/dataarray_plot.py:2026: UserWarning: The following kwargs were not used by contour: 'linestyle'\n",
      "  primitive = ax.contour(x, y, z, **kwargs)\n"
     ]
    },
    {
     "name": "stdout",
     "output_type": "stream",
     "text": [
      "57\n"
     ]
    },
    {
     "name": "stderr",
     "output_type": "stream",
     "text": [
      "/g/data/hh5/public/apps/miniconda3/envs/analysis3-23.10/lib/python3.10/site-packages/xrft/xrft.py:573: FutureWarning: Default ifft's behaviour (lag=None) changed! Default value of lag was zero (centered output coordinates) and is now set to transformed coordinate's attribute: 'direct_lag'.\n",
      "  warnings.warn(msg, FutureWarning)\n",
      "/g/data/hh5/public/apps/miniconda3/envs/analysis3-23.10/lib/python3.10/site-packages/xrft/xrft.py:573: FutureWarning: Default ifft's behaviour (lag=None) changed! Default value of lag was zero (centered output coordinates) and is now set to transformed coordinate's attribute: 'direct_lag'.\n",
      "  warnings.warn(msg, FutureWarning)\n",
      "/jobfs/103200509.gadi-pbs/ipykernel_869543/3989176887.py:10: MatplotlibDeprecationWarning: The get_cmap function was deprecated in Matplotlib 3.7 and will be removed two minor releases later. Use ``matplotlib.colormaps[name]`` or ``matplotlib.colormaps.get_cmap(obj)`` instead.\n",
      "  cmap = matplotlib.cm.get_cmap('plasma')\n",
      "/g/data/hh5/public/apps/miniconda3/envs/analysis3-23.10/lib/python3.10/site-packages/xarray/plot/dataarray_plot.py:2026: UserWarning: The following kwargs were not used by contour: 'linestyle'\n",
      "  primitive = ax.contour(x, y, z, **kwargs)\n",
      "/g/data/hh5/public/apps/miniconda3/envs/analysis3-23.10/lib/python3.10/site-packages/xarray/plot/dataarray_plot.py:2026: UserWarning: The following kwargs were not used by contour: 'linestyle'\n",
      "  primitive = ax.contour(x, y, z, **kwargs)\n"
     ]
    },
    {
     "name": "stdout",
     "output_type": "stream",
     "text": [
      "58\n"
     ]
    },
    {
     "name": "stderr",
     "output_type": "stream",
     "text": [
      "/g/data/hh5/public/apps/miniconda3/envs/analysis3-23.10/lib/python3.10/site-packages/xrft/xrft.py:573: FutureWarning: Default ifft's behaviour (lag=None) changed! Default value of lag was zero (centered output coordinates) and is now set to transformed coordinate's attribute: 'direct_lag'.\n",
      "  warnings.warn(msg, FutureWarning)\n",
      "/g/data/hh5/public/apps/miniconda3/envs/analysis3-23.10/lib/python3.10/site-packages/xrft/xrft.py:573: FutureWarning: Default ifft's behaviour (lag=None) changed! Default value of lag was zero (centered output coordinates) and is now set to transformed coordinate's attribute: 'direct_lag'.\n",
      "  warnings.warn(msg, FutureWarning)\n",
      "/jobfs/103200509.gadi-pbs/ipykernel_869543/3989176887.py:10: MatplotlibDeprecationWarning: The get_cmap function was deprecated in Matplotlib 3.7 and will be removed two minor releases later. Use ``matplotlib.colormaps[name]`` or ``matplotlib.colormaps.get_cmap(obj)`` instead.\n",
      "  cmap = matplotlib.cm.get_cmap('plasma')\n",
      "/g/data/hh5/public/apps/miniconda3/envs/analysis3-23.10/lib/python3.10/site-packages/xarray/plot/dataarray_plot.py:2026: UserWarning: The following kwargs were not used by contour: 'linestyle'\n",
      "  primitive = ax.contour(x, y, z, **kwargs)\n",
      "/g/data/hh5/public/apps/miniconda3/envs/analysis3-23.10/lib/python3.10/site-packages/xarray/plot/dataarray_plot.py:2026: UserWarning: The following kwargs were not used by contour: 'linestyle'\n",
      "  primitive = ax.contour(x, y, z, **kwargs)\n"
     ]
    },
    {
     "name": "stdout",
     "output_type": "stream",
     "text": [
      "59\n"
     ]
    },
    {
     "name": "stderr",
     "output_type": "stream",
     "text": [
      "/g/data/hh5/public/apps/miniconda3/envs/analysis3-23.10/lib/python3.10/site-packages/xrft/xrft.py:573: FutureWarning: Default ifft's behaviour (lag=None) changed! Default value of lag was zero (centered output coordinates) and is now set to transformed coordinate's attribute: 'direct_lag'.\n",
      "  warnings.warn(msg, FutureWarning)\n",
      "/g/data/hh5/public/apps/miniconda3/envs/analysis3-23.10/lib/python3.10/site-packages/xrft/xrft.py:573: FutureWarning: Default ifft's behaviour (lag=None) changed! Default value of lag was zero (centered output coordinates) and is now set to transformed coordinate's attribute: 'direct_lag'.\n",
      "  warnings.warn(msg, FutureWarning)\n",
      "/jobfs/103200509.gadi-pbs/ipykernel_869543/3989176887.py:10: MatplotlibDeprecationWarning: The get_cmap function was deprecated in Matplotlib 3.7 and will be removed two minor releases later. Use ``matplotlib.colormaps[name]`` or ``matplotlib.colormaps.get_cmap(obj)`` instead.\n",
      "  cmap = matplotlib.cm.get_cmap('plasma')\n",
      "/g/data/hh5/public/apps/miniconda3/envs/analysis3-23.10/lib/python3.10/site-packages/xarray/plot/dataarray_plot.py:2026: UserWarning: The following kwargs were not used by contour: 'linestyle'\n",
      "  primitive = ax.contour(x, y, z, **kwargs)\n",
      "/g/data/hh5/public/apps/miniconda3/envs/analysis3-23.10/lib/python3.10/site-packages/xarray/plot/dataarray_plot.py:2026: UserWarning: The following kwargs were not used by contour: 'linestyle'\n",
      "  primitive = ax.contour(x, y, z, **kwargs)\n"
     ]
    },
    {
     "name": "stdout",
     "output_type": "stream",
     "text": [
      "60\n"
     ]
    },
    {
     "name": "stderr",
     "output_type": "stream",
     "text": [
      "/g/data/hh5/public/apps/miniconda3/envs/analysis3-23.10/lib/python3.10/site-packages/xrft/xrft.py:573: FutureWarning: Default ifft's behaviour (lag=None) changed! Default value of lag was zero (centered output coordinates) and is now set to transformed coordinate's attribute: 'direct_lag'.\n",
      "  warnings.warn(msg, FutureWarning)\n",
      "/g/data/hh5/public/apps/miniconda3/envs/analysis3-23.10/lib/python3.10/site-packages/xrft/xrft.py:573: FutureWarning: Default ifft's behaviour (lag=None) changed! Default value of lag was zero (centered output coordinates) and is now set to transformed coordinate's attribute: 'direct_lag'.\n",
      "  warnings.warn(msg, FutureWarning)\n",
      "/jobfs/103200509.gadi-pbs/ipykernel_869543/3989176887.py:10: MatplotlibDeprecationWarning: The get_cmap function was deprecated in Matplotlib 3.7 and will be removed two minor releases later. Use ``matplotlib.colormaps[name]`` or ``matplotlib.colormaps.get_cmap(obj)`` instead.\n",
      "  cmap = matplotlib.cm.get_cmap('plasma')\n",
      "/g/data/hh5/public/apps/miniconda3/envs/analysis3-23.10/lib/python3.10/site-packages/xarray/plot/dataarray_plot.py:2026: UserWarning: The following kwargs were not used by contour: 'linestyle'\n",
      "  primitive = ax.contour(x, y, z, **kwargs)\n"
     ]
    }
   ],
   "source": [
    "import xarray as xr\n",
    "import matplotlib\n",
    "def plot_ke(data):\n",
    "    fig = plt.figure(figsize=(20, 12))\n",
    "    ax = fig.subplots(2,1)\n",
    "\n",
    "    time = data.time\n",
    "    exptname = \"full-20\" #TODO make this a kwarg\n",
    "\n",
    "    cmap = matplotlib.cm.get_cmap('plasma')\n",
    "\n",
    "    ## HORIZONTAL PLOTS FIRST\n",
    "\n",
    "    data[\"vorticity_surface\"].isel(variable = 0).plot.contour(ax = ax[0],levels = [-0.075,-0.025,0.025,0.075],cmap = \"binary\",linestyle = \"solid\")\n",
    "    data[\"KEhor\"].plot(ax = ax[0],cmap = cmap,cbar_kwargs={'label': \"Kinetic Energy\"},vmax = 40)\n",
    "\n",
    "\n",
    "    ## Add bathymetry plot\n",
    "    tt.plot_topo(ax[0],data[\"bathy\"])\n",
    "\n",
    "\n",
    "    ## Second axis: vertical transect\n",
    "    data[\"vorticity_transect\"].isel(variable = 0).plot.contour(ax = ax[1],levels = [-0.075,-0.025,0.025,0.075],cmap = \"binary\",linestyle = \"solid\")\n",
    "    data[\"KEver\"].plot(ax = ax[1],cmap = cmap,cbar_kwargs={'label': \"Kinetic Energy\"},vmax = 0.02)\n",
    "    tt.plot_topo(ax[1],data[\"bathy\"],transect=0)\n",
    "\n",
    "    # fig.suptitle(exptname)\n",
    "    ax[1].invert_yaxis()\n",
    "    ax[0].set_xlabel('km from Tas')\n",
    "    ax[0].set_ylabel('km S to N')\n",
    "    ax[0].set_title('Kinetic Energy with Surface Speed contours')\n",
    "    ## put gridlines on plot\n",
    "    # ax[0].grid(True, which='both')\n",
    "    ax[0].hlines(y = 0,xmin = 100,xmax = 1450,linestyles = \"dashed\")\n",
    "    ax[1].set_xlabel('')\n",
    "    ax[1].set_ylabel('km S to N')\n",
    "    ax[1].set_title('Transect along middle of beam')\n",
    "    return fig\n",
    "\n",
    "\n",
    "startdask()\n",
    "import shutil\n",
    "experiment = \"full-20\"\n",
    "outputs = \"output*\"\n",
    "plotname = \"ke\"\n",
    "m2 = 360 / 28.984104 ## Period of m2 in hours\n",
    "averaging_window = int(12 * m2) ## this comes out to be 149.0472 hours, so close enough to a multiple of tidal periods\n",
    "m2f = 1/ m2    ## Frequency of m2 in radians per hour\n",
    "tmppath = Path(f\"/g/data/v45/ab8992/movies_tmp/tasman-tides/{experiment}/movies/{plotname}/\")\n",
    "outpath = Path(f\"/g/data/v45/ab8992/dropbox/tasman-tides/{experiment}/movies/\")\n",
    "\n",
    "\n",
    "if os.path.exists(tmppath):\n",
    "    shutil.rmtree(tmppath)\n",
    "os.makedirs(tmppath)\n",
    "# outpath = gdata / \"postprocessed\" / experiment \n",
    "# for i in [\"UU\",\"VV\",\"UV\"]:\n",
    "#     if not os.path.exists(outpath / i):\n",
    "#         os.makedirs(outpath / i)\n",
    "\n",
    "data = tt.collect_data(\n",
    "    experiment,\n",
    "    outputs=outputs,\n",
    "    rawdata = [\"u\",\"v\"],\n",
    "    bathy=True,\n",
    "    chunks = {\"time\": -1,\"xb\":-1,\"zl\":10}\n",
    "    )\n",
    "for i in range(0,len(data.time) // averaging_window):\n",
    "    print(i)\n",
    "    u_ = data.u.isel(\n",
    "            time = slice(i * averaging_window, (i + 1) * averaging_window)\n",
    "            ).chunk({\"time\":-1}).drop([\"lat\",\"lon\"])\n",
    "    v_ = data.v.isel(\n",
    "            time = slice(i * averaging_window, (i + 1) * averaging_window)\n",
    "            ).chunk({\"time\":-1}).drop([\"lat\",\"lon\"])\n",
    "    U = tt.m2filter(\n",
    "        u_,\n",
    "        m2f)\n",
    "    V = tt.m2filter(\n",
    "        v_,\n",
    "        m2f)\n",
    "    V = V.fillna(0)\n",
    "    U = U.fillna(0)\n",
    "    KEhor = (U * U + V * V).mean(\"time\").integrate(\"zl\")\n",
    "    KEver = (U * U + V * V).mean(\"time\").sel(yb = 0,method = \"nearest\")\n",
    "    vorticity_data = tt.collect_data(\n",
    "        experiment,\n",
    "        outputs=outputs,\n",
    "        ppdata = [\"vorticity_transect\",\"vorticity_surface\"],\n",
    "        bathy=False,\n",
    "        chunks = {\"time\": 1,\"xb\":-1,\"zl\":10}\n",
    "        ).sel(time = data.time[i * averaging_window],method = \"nearest\")\n",
    "    \n",
    "    data_toplot = xr.Dataset(\n",
    "        {\n",
    "            \"KEhor\": KEhor,\n",
    "            \"KEver\": KEver,\n",
    "            \"vorticity_transect\": vorticity_data.vorticity_transect,\n",
    "            \"vorticity_surface\": vorticity_data.vorticity_surface,\n",
    "            \"bathy\" : data.bathy\n",
    "        }\n",
    "    )\n",
    "    fig = plot_ke(data_toplot)\n",
    "    fig.savefig(tmppath / f\"frame_{str(i).zfill(5)}.png\")\n",
    "\n",
    "result = subprocess.run(\n",
    "        f\"ffmpeg -y -r 5 -i {tmppath}/frame_%05d.png -s 1920x1080 -c:v libx264 -pix_fmt yuv420p {str(outpath / plotname)}.mp4\",\n",
    "        shell = True,\n",
    "        capture_output=True,\n",
    "        text=True,\n",
    "    )\n",
    "\n"
   ]
  },
  {
   "cell_type": "code",
   "execution_count": 30,
   "metadata": {},
   "outputs": [
    {
     "data": {
      "image/png": "[encoded data removed]",
      "text/plain": [
       "<Figure size 640x480 with 1 Axes>"
      ]
     },
     "metadata": {},
     "output_type": "display_data"
    },
    {
     "data": {
      "image/png": "[encoded data removed]",
      "text/plain": [
       "<Figure size 640x480 with 2 Axes>"
      ]
     },
     "metadata": {},
     "output_type": "display_data"
    }
   ],
   "source": [
    "i = 50\n",
    "\n",
    "vorticity_data = tt.collect_data(\n",
    "    experiment,\n",
    "    outputs=outputs,\n",
    "    ppdata = [\"vorticity_transect\",\"vorticity_surface\"],\n",
    "    bathy=False,\n",
    "    chunks = {\"time\": 1,\"xb\":-1,\"zl\":10}\n",
    "    ).sel(time = data.time[i * averaging_window],method = \"nearest\")\n",
    "%matplotlib inline\n",
    "plt.clf()\n",
    "vorticity_data.vorticity_surface.isel(variable = 0).plot.contour(levels = [-0.075,-0.025,0.025,0.075],cmap = \"cool\")\n",
    "plt.show()\n",
    "plt.clf()\n",
    "vorticity_data.vorticity_surface.isel(variable = 0).plot(cmap = \"RdBu\")\n",
    "plt.show()"
   ]
  },
  {
   "cell_type": "code",
   "execution_count": 8,
   "metadata": {},
   "outputs": [],
   "source": [
    "outpath = Path(f\"/g/data/v45/ab8992/dropbox/tasman-tides/{experiment}/movies/\")\n",
    "\n",
    "result = subprocess.run(\n",
    "        f\"ffmpeg -y -r 5 -i {tmppath}/frame_%05d.png -s 1920x1080 -c:v libx264 -pix_fmt yuv420p {str(outpath / plotname)}.mp4\",\n",
    "        shell = True,\n",
    "        capture_output=True,\n",
    "        text=True,\n",
    "    )"
   ]
  },
  {
   "cell_type": "code",
   "execution_count": 4,
   "metadata": {},
   "outputs": [],
   "source": [
    "import xarray as xr\n",
    "import matplotlib\n",
    "def plot_ke(data):\n",
    "    fig = plt.figure(figsize=(20, 12))\n",
    "    ax = fig.subplots(2,1)\n",
    "\n",
    "    time = data.time\n",
    "    exptname = \"full-20\" #TODO make this a kwarg\n",
    "\n",
    "    cmap = matplotlib.cm.get_cmap('plasma')\n",
    "\n",
    "    ## HORIZONTAL PLOTS FIRST\n",
    "\n",
    "    data[\"vorticity_surface\"].isel(variable = 0).plot.contour(ax = ax[0],levels = [-0.05,-0.025,0.025,0.05],cmap = \"binary\",linestyle = \"solid\")\n",
    "    data[\"KEhor\"].plot(ax = ax[0],cmap = cmap,cbar_kwargs={'label': \"Kinetic Energy\"})\n",
    "\n",
    "\n",
    "    ## Add bathymetry plot\n",
    "    tt.plot_topo(ax[0],data[\"bathy\"])\n",
    "\n",
    "\n",
    "    ## Second axis: vertical transect\n",
    "    data[\"vorticity_transect\"].isel(variable = 0).plot.contour(ax = ax[1],levels = [-0.025,0.025],cmap = \"binary\",linestyle = \"solid\")\n",
    "    data[\"KEver\"].plot(ax = ax[1],cmap = cmap,cbar_kwargs={'label': \"Kinetic Energy\"})\n",
    "    tt.plot_topo(ax[1],data[\"bathy\"],transect=0)\n",
    "\n",
    "    # fig.suptitle(exptname)\n",
    "    ax[1].invert_yaxis()\n",
    "    ax[0].set_xlabel('km from Tas')\n",
    "    ax[0].set_ylabel('km S to N')\n",
    "    ax[0].set_title('Kinetic Energy with Surface Speed contours')\n",
    "    ## put gridlines on plot\n",
    "    # ax[0].grid(True, which='both')\n",
    "    ax[0].hlines(y = 0,xmin = 100,xmax = 1450,linestyles = \"dashed\")\n",
    "    ax[1].set_xlabel('')\n",
    "    ax[1].set_ylabel('km S to N')\n",
    "    ax[1].set_title('Transect along middle of beam')\n",
    "    return fig\n",
    "\n",
    "# fig = plot_ke(data_toplot)\n",
    "# fig"
   ]
  },
  {
   "cell_type": "code",
   "execution_count": null,
   "metadata": {},
   "outputs": [],
   "source": []
  },
  {
   "cell_type": "code",
   "execution_count": 3,
   "metadata": {},
   "outputs": [
    {
     "name": "stdout",
     "output_type": "stream",
     "text": [
      "loaded data\n",
      "<xarray.Dataset>\n",
      "Dimensions:             (zl: 100, time: 16, xb: 751, yb: 201)\n",
      "Coordinates:\n",
      "  * zl                  (zl) float64 2.704 8.126 13.58 ... 5.339e+03 5.443e+03\n",
      "  * time                (time) float64 75.0 224.0 373.0 ... 2.161e+03 2.374e+03\n",
      "  * xb                  (xb) float64 -0.0 2.0 4.0 ... 1.498e+03 1.5e+03\n",
      "  * yb                  (yb) float64 -200.0 -198.0 -196.0 ... 196.0 198.0 200.0\n",
      "    variable            <U9 'vorticity'\n",
      "    lon                 (yb, xb) float64 dask.array<chunksize=(201, 751), meta=np.ndarray>\n",
      "    lat                 (yb, xb) float64 dask.array<chunksize=(201, 751), meta=np.ndarray>\n",
      "Data variables:\n",
      "    vorticity_surface   (time, yb, xb) float32 dask.array<chunksize=(1, 201, 751), meta=np.ndarray>\n",
      "    vorticity_transect  (time, zl, xb) float32 dask.array<chunksize=(1, 100, 751), meta=np.ndarray>\n",
      "    bathy               (yb, xb) float64 dask.array<chunksize=(201, 751), meta=np.ndarray>\n",
      "Start making movie...\n",
      "Making movie vorticity for full-40\n",
      "/g/data/v45/ab8992/movies_tmp/tasman-tides/full-40/movies/vorticity\n",
      "ffmpeg -r 10  -i /g/data/v45/ab8992/movies_tmp/tasman-tides/full-40/movies/vorticity/frame_%05d.png -s 1920x1080 -c:v libx264 -pix_fmt yuv420p /g/data/v45/ab8992/dropbox/tasman-tides/full-40/moviesvorticity.mp4\n",
      "ffmpeg finished with returncode 0 \n",
      "\n",
      " and output \n",
      "\n",
      "\n",
      "ffmpeg version 5.1.2 Copyright (c) 2000-2022 the FFmpeg developers\n",
      "  built with gcc 11.3.0 (conda-forge gcc 11.3.0-19)\n",
      "  configuration: --prefix=/home/conda/feedstock_root/build_artifacts/ffmpeg_1674566204550/_h_env_placehold_placehold_placehold_placehold_placehold_placehold_placehold_placehold_placehold_placehold_placehold_placehold_placehold_placehold_placehold_placehold_placehold_placehold_plac --cc=/home/conda/feedstock_root/build_artifacts/ffmpeg_1674566204550/_build_env/bin/x86_64-conda-linux-gnu-cc --cxx=/home/conda/feedstock_root/build_artifacts/ffmpeg_1674566204550/_build_env/bin/x86_64-conda-linux-gnu-c++ --nm=/home/conda/feedstock_root/build_artifacts/ffmpeg_1674566204550/_build_env/bin/x86_64-conda-linux-gnu-nm --ar=/home/conda/feedstock_root/build_artifacts/ffmpeg_1674566204550/_build_env/bin/x86_64-conda-linux-gnu-ar --disable-doc --disable-openssl --enable-demuxer=dash --enable-hardcoded-tables --enable-libfreetype --enable-libfontconfig --enable-libopenh264 --enable-gnutls --enable-libmp3lame --enable-libvpx --enable-pthreads --enable-vaapi --enable-gpl --enable-libx264 --enable-libx265 --enable-libaom --enable-libsvtav1 --enable-libxml2 --enable-pic --enable-shared --disable-static --enable-version3 --enable-zlib --enable-libopus --pkg-config=/home/conda/feedstock_root/build_artifacts/ffmpeg_1674566204550/_build_env/bin/pkg-config\n",
      "  libavutil      57. 28.100 / 57. 28.100\n",
      "  libavcodec     59. 37.100 / 59. 37.100\n",
      "  libavformat    59. 27.100 / 59. 27.100\n",
      "  libavdevice    59.  7.100 / 59.  7.100\n",
      "  libavfilter     8. 44.100 /  8. 44.100\n",
      "  libswscale      6.  7.100 /  6.  7.100\n",
      "  libswresample   4.  7.100 /  4.  7.100\n",
      "  libpostproc    56.  6.100 / 56.  6.100\n",
      "Input #0, image2, from '/g/data/v45/ab8992/movies_tmp/tasman-tides/full-40/movies/vorticity/frame_%05d.png':\n",
      "  Duration: 00:00:00.64, start: 0.000000, bitrate: N/A\n",
      "  Stream #0:0: Video: png, rgba(pc), 2000x1200 [SAR 3937:3937 DAR 5:3], 25 fps, 25 tbr, 25 tbn\n",
      "Stream mapping:\n",
      "  Stream #0:0 -> #0:0 (png (native) -> h264 (libx264))\n",
      "Press [q] to stop, [?] for help\n",
      "[libx264 @ 0x55e451e466c0] using SAR=15/16\n",
      "[libx264 @ 0x55e451e466c0] using cpu capabilities: MMX2 SSE2Fast SSSE3 SSE4.2 AVX FMA3 BMI2 AVX2\n",
      "[libx264 @ 0x55e451e466c0] profile High, level 4.0, 4:2:0, 8-bit\n",
      "[libx264 @ 0x55e451e466c0] 264 - core 164 r3095 baee400 - H.264/MPEG-4 AVC codec - Copyleft 2003-2022 - http://www.videolan.org/x264.html - options: cabac=1 ref=3 deblock=1:0:0 analyse=0x3:0x113 me=hex subme=7 psy=1 psy_rd=1.00:0.00 mixed_ref=1 me_range=16 chroma_me=1 trellis=1 8x8dct=1 cqm=0 deadzone=21,11 fast_pskip=1 chroma_qp_offset=-2 threads=34 lookahead_threads=5 sliced_threads=0 nr=0 decimate=1 interlaced=0 bluray_compat=0 constrained_intra=0 bframes=3 b_pyramid=2 b_adapt=1 b_bias=0 direct=1 weightb=1 open_gop=0 weightp=2 keyint=250 keyint_min=10 scenecut=40 intra_refresh=0 rc_lookahead=40 rc=crf mbtree=1 crf=23.0 qcomp=0.60 qpmin=0 qpmax=69 qpstep=4 ip_ratio=1.40 aq=1:1.00\n",
      "Output #0, mp4, to '/g/data/v45/ab8992/dropbox/tasman-tides/full-40/movies/vorticity.mp4':\n",
      "  Metadata:\n",
      "    encoder         : Lavf59.27.100\n",
      "  Stream #0:0: Video: h264 (avc1 / 0x31637661), yuv420p(tv, progressive), 1920x1080 [SAR 15:16 DAR 5:3], q=2-31, 10 fps, 10240 tbn\n",
      "    Metadata:\n",
      "      encoder         : Lavc59.37.100 libx264\n",
      "    Side data:\n",
      "      cpb: bitrate max/min/avg: 0/0/0 buffer size: 0 vbv_delay: N/A\n",
      "frame=    1 fps=0.0 q=0.0 size=       0kB time=00:00:00.00 bitrate=N/A speed=   0x    \n",
      "frame=   15 fps=0.0 q=0.0 size=       0kB time=00:00:00.00 bitrate=N/A speed=   0x    \n",
      "frame=   16 fps= 15 q=-1.0 Lsize=     824kB time=00:00:01.30 bitrate=5194.1kbits/s speed=1.24x    \n",
      "video:823kB audio:0kB subtitle:0kB other streams:0kB global headers:0kB muxing overhead: 0.126448%\n",
      "[libx264 @ 0x55e451e466c0] frame I:1     Avg QP:18.35  size: 67899\n",
      "[libx264 @ 0x55e451e466c0] frame P:4     Avg QP:21.96  size: 58243\n",
      "[libx264 @ 0x55e451e466c0] frame B:11    Avg QP:23.51  size: 49225\n",
      "[libx264 @ 0x55e451e466c0] consecutive B-frames:  6.2%  0.0% 18.8% 75.0%\n",
      "[libx264 @ 0x55e451e466c0] mb I  I16..4: 20.5% 66.7% 12.8%\n",
      "[libx264 @ 0x55e451e466c0] mb P  I16..4:  2.0% 20.5%  5.4%  P16..4:  5.8%  4.1%  1.7%  0.0%  0.0%    skip:60.5%\n",
      "[libx264 @ 0x55e451e466c0] mb B  I16..4:  1.1% 12.0%  3.0%  B16..8:  9.7%  7.5%  2.1%  direct: 2.6%  skip:62.0%  L0:52.0% L1:39.4% BI: 8.7%\n",
      "[libx264 @ 0x55e451e466c0] 8x8 transform intra:72.1% inter:82.0%\n",
      "[libx264 @ 0x55e451e466c0] coded y,uvDC,uvAC intra: 66.9% 81.1% 69.5% inter: 13.6% 16.0% 7.0%\n",
      "[libx264 @ 0x55e451e466c0] i16 v,h,dc,p: 62% 17%  5% 16%\n",
      "[libx264 @ 0x55e451e466c0] i8 v,h,dc,ddl,ddr,vr,hd,vl,hu: 31% 14% 14%  6%  6%  7%  7%  7%  9%\n",
      "[libx264 @ 0x55e451e466c0] i4 v,h,dc,ddl,ddr,vr,hd,vl,hu: 23% 25%  9%  7%  8%  6%  8%  5%  8%\n",
      "[libx264 @ 0x55e451e466c0] i8c dc,h,v,p: 45% 18% 24% 14%\n",
      "[libx264 @ 0x55e451e466c0] Weighted P-Frames: Y:0.0% UV:0.0%\n",
      "[libx264 @ 0x55e451e466c0] ref P L0: 45.8% 10.1% 23.1% 21.0%\n",
      "[libx264 @ 0x55e451e466c0] ref B L0: 75.4% 18.9%  5.8%\n",
      "[libx264 @ 0x55e451e466c0] ref B L1: 91.1%  8.9%\n",
      "[libx264 @ 0x55e451e466c0] kb/s:4211.73\n",
      "\n",
      "\n"
     ]
    }
   ],
   "source": [
    "def vorticity_movie(experiment, outputs):\n",
    "    \"\"\"\n",
    "    Make a movie of the surface speed for the given experiment and outputs\n",
    "    \"\"\"\n",
    "    startdask()\n",
    "\n",
    "    data = tt.collect_data(experiment,ppdata=[\"vorticity_surface\",\"vorticity_transect\"],chunks = {\"time\":1},outputs=outputs,bathy=True)\n",
    "    print(\"loaded data\")\n",
    "    data = data.isel(variable = 0)\n",
    "    print(data)\n",
    "    fig = plt.figure(figsize=(20, 12))\n",
    "\n",
    "    print(\"Start making movie...\")\n",
    "    tt.make_movie(data,\n",
    "                tt.plot_vorticity,\n",
    "                experiment,\n",
    "                \"vorticity\",\n",
    "                framerate=10,\n",
    "                parallel=True)\n",
    "\n",
    "    return\n",
    "\n",
    "vorticity_movie(\"full-40\",\"output*\")"
   ]
  }
 ],
 "metadata": {
  "kernelspec": {
   "display_name": "Python [conda env:analysis3-23.10]",
   "language": "python",
   "name": "conda-env-analysis3-23.10-py"
  },
  "orig_nbformat": 4
 },
 "nbformat": 4,
 "nbformat_minor": 2
}
