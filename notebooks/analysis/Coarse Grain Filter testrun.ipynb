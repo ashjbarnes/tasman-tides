{
 "cells": [
  {
   "cell_type": "markdown",
   "metadata": {},
   "source": [
    "# Try CGF! Test run is on a point in time where there's an eddy parked in the beam"
   ]
  },
  {
   "cell_type": "code",
   "execution_count": null,
   "metadata": {},
   "outputs": [],
   "source": [
    "cd tasman-tides"
   ]
  },
  {
   "cell_type": "code",
   "execution_count": null,
   "metadata": {
    "tags": []
   },
   "outputs": [],
   "source": [
    "import argparse\n",
    "import ttidelib as tt\n",
    "import os\n",
    "import numpy as np\n",
    "%matplotlib inline \n",
    "# os.chdir(\"tasman-tides\")\n",
    "import subprocess\n",
    "import time\n",
    "from dask.distributed import Client,default_client\n",
    "from matplotlib import pyplot as plt\n",
    "from pathlib import Path\n",
    "home = Path(\"/home/149/ab8992/tasman-tides\")\n",
    "gdata = Path(\"/g/data/nm03/ab8992\")\n",
    "%matplotlib inline\n",
    "import matplotlib\n",
    "import xarray as xr\n",
    "def startdask():\n",
    "    try:\n",
    "    # Try to get the existing Dask client\n",
    "        client = default_client()\n",
    "        print(client)\n",
    "    except ValueError:\n",
    "        # If there's no existing client, create a new one\n",
    "        client = Client()\n",
    "        print(client)\n",
    "\n",
    "startdask()"
   ]
  },
  {
   "cell_type": "markdown",
   "metadata": {},
   "source": [
    "## First read in a single that overlaps the eddy"
   ]
  },
  {
   "cell_type": "code",
   "execution_count": null,
   "metadata": {},
   "outputs": [],
   "source": [
    "full = tt.collect_data(\n",
    "    \"full-20\",\n",
    "    rawdata = [\"u\",\"v\"],\n",
    "    timerange=(44850,45050)\n",
    ").isel(zl = 5).persist()\n",
    "notide = xr.merge([\n",
    "    xr.open_mfdataset(\"/g/data/nm03/ab8992/outputs/notide-20/output1*/u/u*.nc\",parallel = True,decode_times = False, decode_cf = False).u.sel(time = slice(37900,38100)).isel(zl = 5),\n",
    "    xr.open_mfdataset(\"/g/data/nm03/ab8992/outputs/notide-20/output1*/v/v*.nc\",parallel = True,decode_times = False, decode_cf = False).v.sel(time = slice(37900,38100)).isel(zl = 5),\n",
    "]).persist()\n",
    "# wind_stress = xr.open_mfdataset(\"/g/data/nm03/ab8992/outputs/full-20/output*/surface_transect.nc\",parallel = True,decode_times = False, decode_cf = False)[[\"taux\",\"tauy\"]].sel(time = slice(44900,45000))"
   ]
  },
  {
   "cell_type": "code",
   "execution_count": null,
   "metadata": {},
   "outputs": [],
   "source": [
    "import scipy\n",
    "from ipywidgets import interact\n",
    "import cmocean\n",
    "cmap = cmocean.cm.dense_r\n",
    "earth_cmap = matplotlib.cm.get_cmap(\"gist_earth\")\n",
    "\n",
    "\n",
    "def cross_scale_transfer(data,cutoff):\n",
    "    sos = scipy.signal.butter(6,[cutoff],output = \"sos\")\n",
    "\n",
    "    if \"zl\" in data.dims:\n",
    "        dims = [\"time\",\"zl\",\"yb\",\"xb\"]\n",
    "    else:\n",
    "        dims = [\"time\",\"yb\",\"xb\"]\n",
    "    uu = scipy.signal.sosfilt(sos, data.u**2,axis = 0)\n",
    "    vv = scipy.signal.sosfilt(sos, data.v**2,axis = 0)\n",
    "    u = scipy.signal.sosfilt(sos, data.u,axis = 0)\n",
    "    v = scipy.signal.sosfilt(sos, data.v,axis = 0)\n",
    "    uv = scipy.signal.sosfilt(sos, data.u*data.v,axis = 0)\n",
    "\n",
    "    out = xr.Dataset(\n",
    "        {\n",
    "            \"tau_uu\":(dims,uu - u**2),\n",
    "            \"tau_uv\":(dims,uv - u*v),\n",
    "            \"tau_vv\":(dims,vv - v**2),\n",
    "            \"u\":(dims,u),\n",
    "            \"v\":(dims,v),\n",
    "            \"uu\":(dims,uu),\n",
    "            \"vv\":(dims,vv)\n",
    "        },\n",
    "        coords = data.coords\n",
    "    )\n",
    "\n",
    "\n",
    "    transfer = (\n",
    "        out.tau_uu * out.u.differentiate(\"xb\") +\n",
    "        out.tau_uv * out.u.differentiate(\"yb\") +\n",
    "        out.tau_uv * out.v.differentiate(\"xb\") +\n",
    "        out.tau_vv * out.v.differentiate(\"yb\")\n",
    "    ).rename(\"transfer\")\n",
    "\n",
    "\n",
    "\n",
    "    return xr.merge([out,transfer])\n",
    "\n",
    "\n",
    "\n",
    "\n",
    "# tau = cross_scale_transfer(data)"
   ]
  },
  {
   "cell_type": "code",
   "execution_count": null,
   "metadata": {},
   "outputs": [],
   "source": [
    "(full_12f.uu).mean(\"xb\").mean(\"yb\").plot()\n"
   ]
  },
  {
   "cell_type": "code",
   "execution_count": null,
   "metadata": {},
   "outputs": [],
   "source": [
    "(full_12f.u**2).mean(\"xb\").mean(\"yb\").plot()"
   ]
  },
  {
   "cell_type": "code",
   "execution_count": null,
   "metadata": {},
   "outputs": [],
   "source": [
    "full_12f = cross_scale_transfer(full,1/12).persist()\n",
    "notide_12f  = cross_scale_transfer(notide,1/12).persist()\n",
    "full_6f = cross_scale_transfer(full,1/6).persist()\n",
    "notide_6f  = cross_scale_transfer(notide,1/6).persist()\n",
    "full_vorticity = tt.calculate_vorticity(full_12f.load()).persist()\n",
    "notide_vorticity = tt.calculate_vorticity(notide_12f.load()).persist()\n",
    "bathy = xr.open_mfdataset(\"/g/data/nm03/ab8992/outputs/full-20/bathy_transect.nc\").elevation\n",
    "bathy = bathy.where(bathy > 0).compute().rename(\"bathy\")\n",
    "\n",
    "data_full = xr.merge([full_12f.transfer.rename(\"energy_transfer\"),full_vorticity.rename(\"vorticity\"),bathy]).persist()\n",
    "data_notide = xr.merge([notide_12f.transfer.rename(\"energy_transfer\"),notide_vorticity.rename(\"vorticity\"),bathy]).persist()"
   ]
  },
  {
   "cell_type": "code",
   "execution_count": null,
   "metadata": {},
   "outputs": [],
   "source": [
    "def plot_transfer(data,vmax = 0.1):\n",
    "    \"\"\"\n",
    "    data needs to contain bathy, energy transfer, b\"\"\"\n",
    "    cmap = matplotlib.cm.get_cmap(\"RdBu\")\n",
    "    fig,ax = plt.subplots(2,figsize = (15,12))\n",
    "    # Set the background colour to the plot to the lowest value in the cmap\n",
    "    ax[0].set_facecolor(\"white\")\n",
    "    ax[1].set_facecolor(\"white\")\n",
    "    \n",
    "    data.energy_transfer.plot(ax = ax[0],cmap = cmap,add_colorbar = True,vmax = vmax,vmin = -vmax,cbar_kwargs={'label': \"Energy transfer (m^2/s^3)\"})\n",
    "    data.vorticity.plot(ax = ax[1],cmap = cmap,add_colorbar = True,cbar_kwargs={'label': \"Vorticity\"})\n",
    "\n",
    "    data.bathy.plot(cmap = earth_cmap,vmin = -1000,vmax = 1500,ax = ax[0],add_colorbar = False)\n",
    "    data.bathy.plot(cmap = earth_cmap,vmin = -1000,vmax = 1500,ax = ax[1],add_colorbar = False)\n",
    "\n",
    "    ax[0].set_xlabel(\"\")\n",
    "    ax[0].set_title(f\"Energy transfer from small to larger scales\")\n",
    "    ax[1].set_title(f\"Vorticity\")\n",
    "    plt.show()\n",
    "    return fig\n",
    "\n",
    "# tt.make_movie(data_full,plot_transfer,\"full-20\",\"12hr_filtered_energy_transfer\")\n",
    "# plot_transfer(data_full,1/12,100)\n"
   ]
  },
  {
   "cell_type": "code",
   "execution_count": null,
   "metadata": {},
   "outputs": [],
   "source": [
    "from ipywidgets import interact\n",
    "\n",
    "# Create interactive plot\n",
    "interact(lambda timestamp: plot_transfer(bathy, full_vorticity, full_12f.transfer, 1/12, timestamp), \n",
    "         timestamp=(0, 200, 1))  # Adjust the range and step size as needed"
   ]
  },
  {
   "cell_type": "code",
   "execution_count": null,
   "metadata": {},
   "outputs": [],
   "source": [
    "fig = plot_transfer(data_full.isel(time = 150))\n"
   ]
  },
  {
   "cell_type": "code",
   "execution_count": null,
   "metadata": {},
   "outputs": [],
   "source": [
    "fig = plot_transfer(data_notide.isel(time = 150))\n"
   ]
  },
  {
   "cell_type": "markdown",
   "metadata": {},
   "source": [
    "## Integrate in depth to see if eddies stand out more.."
   ]
  },
  {
   "cell_type": "code",
   "execution_count": null,
   "metadata": {},
   "outputs": [],
   "source": [
    "# full3d = tt.collect_data(\n",
    "#     \"full-20\",\n",
    "#     rawdata = [\"u\",\"v\"],\n",
    "#     timerange=(44650,45250)\n",
    "# ).isel(zl = slice(0,20))\n",
    "notide3d = xr.merge([\n",
    "    xr.open_mfdataset(\"/g/data/nm03/ab8992/outputs/notide-20/output1*/u/u*.nc\",parallel = True,decode_times = False, decode_cf = False).u.sel(time = slice(37700,38300)),\n",
    "    xr.open_mfdataset(\"/g/data/nm03/ab8992/outputs/notide-20/output1*/v/v*.nc\",parallel = True,decode_times = False, decode_cf = False).v.sel(time = slice(37700,38300)),\n",
    "]).isel(zl = slice(0,20))\n",
    "# wind_stress = xr.open_mfdataset(\"/g/data/nm03/ab8992/outputs/full-20/output*/surface_transect.nc\",parallel = True,decode_times = False, decode_cf = False)[[\"taux\",\"tauy\"]].sel(time = slice(44900,45000))"
   ]
  },
  {
   "cell_type": "code",
   "execution_count": null,
   "metadata": {},
   "outputs": [],
   "source": [
    "notide3d = xr.merge([\n",
    "    xr.open_mfdataset(\"/g/data/nm03/ab8992/outputs/notide-20/output1*/u/u*.nc\",parallel = True,decode_times = False, decode_cf = False).u.sel(time = slice(37900,38100)),\n",
    "    xr.open_mfdataset(\"/g/data/nm03/ab8992/outputs/notide-20/output1*/v/v*.nc\",parallel = True,decode_times = False, decode_cf = False).v.sel(time = slice(37900,38100)),\n",
    "]).isel(zl = slice(0,20))\n"
   ]
  },
  {
   "cell_type": "code",
   "execution_count": null,
   "metadata": {},
   "outputs": [],
   "source": [
    "def prepare_xs_transfer(data,cutoff):\n",
    "\n",
    "    filtered = cross_scale_transfer(data,cutoff).persist()\n",
    "    print(\"filtered\")\n",
    "    if \"zl\" not in data.dims:\n",
    "        vorticity = tt.calculate_vorticity(filtered.isel(zl = 2).chunk({\"yb\":-1}))\n",
    "    else:\n",
    "        vorticity = tt.calculate_vorticity(filtered.isel(zl = 2).chunk({\"yb\":-1}))\n",
    "    print(\"vorticity\")\n",
    "    bathy = xr.open_mfdataset(\"/g/data/nm03/ab8992/outputs/full-20/bathy_transect.nc\").elevation\n",
    "    bathy = bathy.where(bathy > 0).compute().rename(\"bathy\")\n",
    "    \n",
    "    data_out = xr.merge([filtered.transfer.rename(\"energy_transfer\"),vorticity.rename(\"vorticity\"),bathy])\n",
    "    return data_out"
   ]
  },
  {
   "cell_type": "code",
   "execution_count": null,
   "metadata": {},
   "outputs": [],
   "source": [
    "data_notide_3d = prepare_xs_transfer(notide3d,1/12)\n"
   ]
  },
  {
   "cell_type": "code",
   "execution_count": null,
   "metadata": {},
   "outputs": [],
   "source": [
    "data_full_3d = prepare_xs_transfer(full3d,1/12)"
   ]
  },
  {
   "cell_type": "code",
   "execution_count": null,
   "metadata": {},
   "outputs": [],
   "source": [
    "fig = plot_transfer(data_notide_3d.integrate(\"zl\").isel(time = 150),vmax = 0.1)\n",
    "fig.suptitle(\"No Tides\")"
   ]
  },
  {
   "cell_type": "code",
   "execution_count": null,
   "metadata": {},
   "outputs": [],
   "source": [
    "fig = plot_transfer(data_full_3d.integrate(\"zl\").isel(time = 156),vmax = 0.1)\n",
    "fig.suptitle(\"With Tides\")\n",
    "fig"
   ]
  },
  {
   "cell_type": "code",
   "execution_count": null,
   "metadata": {},
   "outputs": [],
   "source": [
    "tt.make_movie(data_notide_3d.integrate(\"zl\"),plot_transfer,\"notide-20\",\"12hr_filtered_energy_transfer\",framerate=20)\n"
   ]
  }
 ],
 "metadata": {
  "kernelspec": {
   "display_name": "Python [conda env:analysis3-24.01]",
   "language": "python",
   "name": "conda-env-analysis3-24.01-py"
  },
  "language_info": {
   "codemirror_mode": {
    "name": "ipython",
    "version": 3
   },
   "file_extension": ".py",
   "mimetype": "text/x-python",
   "name": "python",
   "nbconvert_exporter": "python",
   "pygments_lexer": "ipython3",
   "version": "3.10.13"
  }
 },
 "nbformat": 4,
 "nbformat_minor": 4
}
