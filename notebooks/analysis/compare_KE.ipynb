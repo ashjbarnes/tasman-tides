{
 "cells": [
  {
   "cell_type": "code",
   "execution_count": null,
   "metadata": {},
   "outputs": [],
   "source": []
  },
  {
   "cell_type": "markdown",
   "metadata": {},
   "source": [
    "## Pipeline for lagrange filtered AND decomposed fields\n",
    "\n",
    "1. Pick at t0, and get data 149 hours either side (or in total?)\n",
    "2. Run the vmode decomposition to save the eigenfunctions to disk. Could check whether this changes substantially between runs? If not, could just use the same one and not re-do for different t0?\n",
    "3. Start the lagrange filter loop. \n",
    "\n",
    "$ \\large u = U_{wave} + U_{eddy}\\\\$ \n",
    "$ \\large u = U^1_{wave} + U^2_{wave} + U^3_{wave}... + U_{eddy}\\\\$\n",
    "\n",
    "\n",
    "When doing the cross terms, do we want to include cross terms for the eddy timescale? Or only the wave? If only wave then we have far fewer terms to deal with. Ultimately we want mode_n-wave to eddy cst. Need to read through the paper and make sure we're not missing cross terms compared to their method!"
   ]
  },
  {
   "cell_type": "markdown",
   "metadata": {},
   "source": [
    "## Also, more simply, just make a timeseries of energy in the 'eddy' box. Maybe energy and vorticity, see if CST lines up with PV?"
   ]
  }
 ],
 "metadata": {
  "language_info": {
   "name": "python"
  }
 },
 "nbformat": 4,
 "nbformat_minor": 2
}
